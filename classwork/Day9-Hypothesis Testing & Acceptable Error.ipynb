{
 "cells": [
  {
   "cell_type": "markdown",
   "metadata": {},
   "source": [
    "# Day 9: Hypothesis Testing & Acceptable Error"
   ]
  },
  {
   "cell_type": "markdown",
   "metadata": {},
   "source": [
    "## What is null hypothesis?\n",
    "It is the formal method of reaching conclusions based on population statistics and sample data where we apply changes to a population\n",
    "\n",
    "## Null hypothesis examples\n",
    "- Rain dance, cultures people dance together to have rain during periods of drought\n",
    "- We want to test if a drug has an impact on the brain\n",
    "- Does a food boost your IQ?\n",
    "- A/B testing //*like testing user engagement*"
   ]
  },
  {
   "cell_type": "markdown",
   "metadata": {},
   "source": [
    "----"
   ]
  },
  {
   "cell_type": "markdown",
   "metadata": {},
   "source": [
    "## Review of Z Distribution, CDF, and SF (survival)\n",
    "### Z-Distribution\n",
    "- Z-distribution is another name for standard **Normal distribution**\n",
    "- When the samples of our numerical array are Normal with an arbitrary mean and std\n",
    "- If scale each element by subtracting elements from the mean, and divide over the std, then the new array would be a Normal distribution with zero mean, and std 1\n",
    "\n",
    "### Probability Distribution Function (PDF)\n",
    "- PDFs have a similar pattern to histogram. The only difference is that we normalize the value of histograms\n",
    "\n",
    "### Cumulative Density Function (CDF)\n",
    "- In above example, we could not easily obtain the percentage from a PDF, although it is possible. ",
    "\n",
    "- This is much easier if we use a CDF. A CDF calculates the probability that a random variable is less than a threshold value\n",
    "- Let's learn CDF by example: given an array of numbers (our random variable) and a threshold value as input:\n",
    "\t1.\tFind the minimum value in the array\n",
    "\t2.\tSet the threshold to be the minimum value of the array\n",
    "\t3.\tFor a given array of numbers and a given threshold, count all of the elements in the array that are less than the threshold, and divide that count by the length of the array\n",
    "\t4.\tRepeat step three, increasing the threshold by one, until you go through step three where threshold is equail to the maximum value in the array"
   ]
  },
  {
   "cell_type": "markdown",
   "metadata": {},
   "source": [
    "![Image of Z](https://github.com/SamuelFolledo/DS1.1-Data-Analysis-And-Visualization/blob/master/static/images/cdf_and_z-distribution.png)"
   ]
  },
  {
   "cell_type": "code",
   "execution_count": null,
   "metadata": {},
   "outputs": [],
   "source": []
  }
 ],
 "metadata": {
  "kernelspec": {
   "display_name": "Python 3",
   "language": "python",
   "name": "python3"
  },
  "language_info": {
   "codemirror_mode": {
    "name": "ipython",
    "version": 3
   },
   "file_extension": ".py",
   "mimetype": "text/x-python",
   "name": "python",
   "nbconvert_exporter": "python",
   "pygments_lexer": "ipython3",
   "version": "3.7.4"
  }
 },
 "nbformat": 4,
 "nbformat_minor": 2
}
