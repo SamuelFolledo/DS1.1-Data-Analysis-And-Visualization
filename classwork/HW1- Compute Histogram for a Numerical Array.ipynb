{
 "cells": [
  {
   "cell_type": "markdown",
   "metadata": {},
   "source": [
    "# HW1: Write Custom Function to Compute Histogram for a Numerical Array\n",
    "- You can use numpy\n",
    "- Your function takes two arguments: 1- list 2- interval\n",
    "- Your function would return a dictionary with intervals as keys and how many of elements in list are in the intervals as values"
   ]
  },
  {
   "cell_type": "code",
   "execution_count": 3,
   "metadata": {},
   "outputs": [],
   "source": [
    "import pandas as pd\n",
    "import numpy as np\n",
    "\n",
    "df = pd.read_csv('titanic.csv')"
   ]
  },
  {
   "cell_type": "code",
   "execution_count": 11,
   "metadata": {},
   "outputs": [
    {
     "data": {
      "text/plain": [
       "dtype('float64')"
      ]
     },
     "execution_count": 11,
     "metadata": {},
     "output_type": "execute_result"
    }
   ],
   "source": [
    "df['Age'] = df['Age'].dropna().astype(int)\n",
    "df['Age'].dtype"
   ]
  },
  {
   "cell_type": "code",
   "execution_count": 27,
   "metadata": {},
   "outputs": [],
   "source": [
    "ls_age = df['Age'].dropna().values\n",
    "\n",
    "def calculate_cdf(lst, threshold):\n",
    "    return np.sum(lst <= threshold)\n",
    "\n",
    "# Create an array cdf_age where each value is the cdf of the age for each threshold\n",
    "cdf_age = []\n",
    "#get min value in array\n",
    "min_val = np.min(ls_age)\n",
    "#set threshold to be the min value of the array\n",
    "threshold = np.min(ls_age)\n",
    "#for a given array of numbers and a given threshold\n",
    "for r in range(int(np.min(ls_age)), int(np.max(ls_age))):\n",
    "    #count all of the elements in the array that are less than the threshold\n",
    "    less_than_threshold = calculate_cdf(ls_age, r)\n",
    "#     print(\"1\", less_than_threshold)\n",
    "    age_value = less_than_threshold / len(ls_age)\n",
    "    cdf_age.append(age_value)\n",
    "    #repeat, increasing the threshold by one until the threshold is equal to the max value in array\n",
    "# print(cdf_age)"
   ]
  },
  {
   "cell_type": "code",
   "execution_count": 34,
   "metadata": {},
   "outputs": [
    {
     "name": "stdout",
     "output_type": "stream",
     "text": [
      "0.9985994397759103\n"
     ]
    },
    {
     "data": {
      "text/plain": [
       "{0: 0.056022408963585436,\n",
       " 1: 0.03081232492997199,\n",
       " 2: 0.022408963585434174,\n",
       " 3: 0.12044817927170869,\n",
       " 4: 0.15966386554621848,\n",
       " 5: 0.1484593837535014,\n",
       " 6: 0.1330532212885154,\n",
       " 7: 0.10084033613445378,\n",
       " 8: 0.06722689075630252,\n",
       " 9: 0.05742296918767507,\n",
       " 10: 0.04481792717086835,\n",
       " 11: 0.022408963585434174,\n",
       " 12: 0.02100840336134454,\n",
       " 13: 0.0056022408963585435,\n",
       " 14: 0.008403361344537815}"
      ]
     },
     "execution_count": 34,
     "metadata": {},
     "output_type": "execute_result"
    }
   ],
   "source": [
    "# histogram function\n",
    "\n",
    "def custom_hist(ls, interval):\n",
    "    hist_ls_dict = dict()\n",
    "    min_ls = np.min(ls)\n",
    "    max_ls = np.max(ls)\n",
    "    I = (max_ls - min_ls) / interval #width (x-range) of each bin\n",
    "    for j in range(int(interval - 1)): #subtract 1 to not go out of range when we j+1\n",
    "        current_min = min_ls + (I*j) #current minimum\n",
    "        current_max = min_ls + (I*(j+1)) #j+1 to get current maximum range\n",
    "        count_from_min_to_max = sum(current_min <= elem < current_max for elem in ls) / len(ls) #get the sum of number of elements greater than min and less than max\n",
    "        hist_ls_dict[j]= count_from_min_to_max   \n",
    "    return hist_ls_dict\n",
    "        \n",
    "age_hist = custom_hist(df['Age'].dropna().values, 16) #16 as intervals is the number bins\n",
    "print(sum(age_hist.values()))\n",
    "age_hist"
   ]
  },
  {
   "cell_type": "markdown",
   "metadata": {},
   "source": [
    "## For visualization part, you should elaborate on the following"
   ]
  },
  {
   "cell_type": "code",
   "execution_count": 21,
   "metadata": {},
   "outputs": [],
   "source": [
    "import matplotlib.pyplot as plt\n",
    "\n",
    "hist_dict = custom_hist(df['Age'].dropna().values, 16)\n",
    "\n",
    "plt.bar(hist_dict.keys(), hist_dict.values())"
   ]
  },
  {
   "cell_type": "markdown",
   "metadata": {},
   "source": [
    "## Q2: How we can plot histogram of Age for female and male with legend?\n",
    "Use Pandas with .groupby method and plot the following"
   ]
  },
  {
   "cell_type": "code",
   "execution_count": null,
   "metadata": {},
   "outputs": [],
   "source": []
  },
  {
   "cell_type": "markdown",
   "metadata": {},
   "source": [
    "Sex\n",
    "\n",
    "female    AxesSubplot(0.125,0.125;0.775x0.755)\n",
    "\n",
    "male      AxesSubplot(0.125,0.125;0.775x0.755)\n",
    "\n",
    "Name: Age, dtype: object"
   ]
  },
  {
   "cell_type": "code",
   "execution_count": null,
   "metadata": {},
   "outputs": [],
   "source": []
  }
 ],
 "metadata": {
  "kernelspec": {
   "display_name": "Python 3",
   "language": "python",
   "name": "python3"
  },
  "language_info": {
   "codemirror_mode": {
    "name": "ipython",
    "version": 3
   },
   "file_extension": ".py",
   "mimetype": "text/x-python",
   "name": "python",
   "nbconvert_exporter": "python",
   "pygments_lexer": "ipython3",
   "version": "3.7.4"
  }
 },
 "nbformat": 4,
 "nbformat_minor": 2
}
