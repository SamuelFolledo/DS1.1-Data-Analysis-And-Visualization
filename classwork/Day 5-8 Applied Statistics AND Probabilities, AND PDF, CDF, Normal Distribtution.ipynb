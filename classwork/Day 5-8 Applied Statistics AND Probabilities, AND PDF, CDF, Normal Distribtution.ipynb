{
 "cells": [
  {
   "cell_type": "code",
   "execution_count": null,
   "metadata": {},
   "outputs": [],
   "source": []
  },
  {
   "cell_type": "markdown",
   "metadata": {},
   "source": [
    "## Quiz"
   ]
  },
  {
   "cell_type": "code",
   "execution_count": 1,
   "metadata": {},
   "outputs": [],
   "source": [
    "import pandas as pd\n",
    "import numpy as np\n",
    "\n",
    "df = pd.read_csv('titanic.csv') #read csv file"
   ]
  },
  {
   "cell_type": "markdown",
   "metadata": {},
   "source": [
    "### What percentage of passengers in Titanic embarked at C?"
   ]
  },
  {
   "cell_type": "code",
   "execution_count": 2,
   "metadata": {},
   "outputs": [
    {
     "data": {
      "text/plain": [
       "183"
      ]
     },
     "execution_count": 2,
     "metadata": {},
     "output_type": "execute_result"
    }
   ],
   "source": [
    "passengers_at_c = sum(df['Embarked'] == 'C')\n",
    "len(df.dropna())\n",
    "# passengers = df.shape[0]\n",
    "\n",
    "# passengers_at_c / passengers * 100"
   ]
  },
  {
   "cell_type": "markdown",
   "metadata": {},
   "source": [
    "### What percent of female passengers in Titanic embarked at C?"
   ]
  },
  {
   "cell_type": "code",
   "execution_count": 3,
   "metadata": {},
   "outputs": [
    {
     "data": {
      "text/plain": [
       "23.248407643312103"
      ]
     },
     "execution_count": 3,
     "metadata": {},
     "output_type": "execute_result"
    }
   ],
   "source": [
    "females_at_c = len(df[(df['Sex'] == 'female') & (df['Embarked'] == 'C')])\n",
    "females = len(df[(df['Sex'] == 'female')])\n",
    "females_at_c / females * 100"
   ]
  },
  {
   "cell_type": "markdown",
   "metadata": {},
   "source": [
    "\n",
    "## An Introduction to Descriptive Statistics\n",
    "At this point in our course, we've had plenty of time, experience, and practice in manipulating our data.\n",
    "\n",
    "However, to really understand our data and underlying patterns across it, we need to dive a layer deeper into the mathematics behind data mechanics and dynamics.\n",
    "\n",
    "In order to be able to draw conclusions from our data, we need to be able to describe and interpret our data.\n",
    "\n",
    "This will become essential for more advanced data science concepts in data visualization, machine learning, and deep learning.\n",
    "\n",
    "### Measures of Central Tendency\n",
    "A Central Tendency is a central (typical) value for a probability distribution\n",
    "\n",
    "In statistics, we often find that describing data by averages allows us to more often make more powerful assertions regarding the data as a whole.\n",
    "\n",
    "We often **use three key measures of central tendency** to help describe the **centroid** (arithmetic mean trend across a distribution) of our data:\n",
    "\n",
    "- Mean\n",
    "- Median\n",
    "- Mode\n",
    "\n",
    "#### The mean is the raw average value across our data.\n",
    "Calculating the mean is simple: compute the sum of all values across our data and divide by the total number of values in our dataset.\n",
    "\n",
    "We've been using the mean for years and years, but such a surprisingly simple arithmetic calculation turns out to have massive implications across being able to critically understand and break down complex datasets!\n",
    "\n"
   ]
  },
  {
   "cell_type": "code",
   "execution_count": 4,
   "metadata": {},
   "outputs": [
    {
     "data": {
      "text/plain": [
       "4.391304347826087"
      ]
     },
     "execution_count": 4,
     "metadata": {},
     "output_type": "execute_result"
    }
   ],
   "source": [
    "import numpy as np\n",
    "\n",
    "data = np.array([1, 3, 5, 2, 3, 7, 8, 4, 10, 0, 6, 7, 3, 0, 3, 0, 5, 7, 10, 1, 4, 9, 3])\n",
    "\n",
    "# TODO: Complete this function by having the function return the average value of our dataset.\n",
    "def compute_mean(dataset):\n",
    "    \"\"\" Main function that calculates the average value across our data. \"\"\"\n",
    "    \n",
    "    return sum(dataset)/len(dataset)\n",
    "\n",
    "compute_mean(data)\n"
   ]
  },
  {
   "cell_type": "markdown",
   "metadata": {},
   "source": [
    "### What is the average age of male passengers that survived?"
   ]
  },
  {
   "cell_type": "code",
   "execution_count": 5,
   "metadata": {},
   "outputs": [
    {
     "name": "stdout",
     "output_type": "stream",
     "text": [
      "27.276021505376345\n",
      "27.276021505376345\n",
      "27.276021505376345\n"
     ]
    }
   ],
   "source": [
    "# Solutions:    \n",
    "print(df[(df['Survived'] == 1) & (df['Sex'] == 'male')]['Age'].mean())\n",
    "\n",
    "# or\n",
    "\n",
    "print(compute_mean(df[(df['Survived'] == 1) & (df['Sex'] == 'male')]['Age'].dropna().values)) #using our method which takes a dataset\n",
    "\n",
    "# or\n",
    "\n",
    "print(df[(df['Survived'] == 1) & (df['Sex'] == 'male')]['Age'].dropna().agg(compute_mean)) #panda's aggregation method"
   ]
  },
  {
   "cell_type": "markdown",
   "metadata": {},
   "source": [
    "## The median is the \"middle value\" or midpoint across our data.\n",
    "Determining the median is as simple as it sounds: find the data value lying in the exact middle of our dataset.\n",
    "\n",
    "One critical exception occurs when our data has an even number of values and thus has two values at its center: in these cases, find the mean value of the two medians to obtain the true median across our data.\n",
    "\n",
    "**Remember**: the median can only be calculated across sorted data!\n",
    "If data is distributed in a non-normal manner, then we can learn a great deal from interpreting what the exact median value of our dataset is."
   ]
  },
  {
   "cell_type": "markdown",
   "metadata": {},
   "source": [
    "### Activity: Write a function to compute the median from an arbitrary dataset."
   ]
  },
  {
   "cell_type": "code",
   "execution_count": 6,
   "metadata": {},
   "outputs": [
    {
     "data": {
      "text/plain": [
       "4"
      ]
     },
     "execution_count": 6,
     "metadata": {},
     "output_type": "execute_result"
    }
   ],
   "source": [
    "data = np.array([1, 3, 5, 2, 3, 7, 8, 4, 10, 0, 6, 7, 3, 0, 3, 0, 5, 7, 10, 1, 4, 9, 3])\n",
    "\n",
    "# TODO: Complete this function by having the function return the exact true median value of our dataset.\n",
    "# HINT: Consider using DataFrame slicing to help with identifying the correct median value(s).\n",
    "def compute_median(dataset):\n",
    "    \"\"\" Main function that determines the median value across our data. \"\"\"\n",
    "    count = len(dataset)\n",
    "    sorted_data = np.sort(dataset) #sort data\n",
    "    if count < 1:\n",
    "        print(\"Dataset is < 1\")\n",
    "        return None\n",
    "    if count % 2 == 1: #if odd... get middle\n",
    "        return sorted_data[int((count-1)/2)]\n",
    "    else: #if even... get the average of the 2 middle elements\n",
    "        return (sorted_data[int(count/2)] + sorted_data[int(count / 2)-1]) / 2\n",
    "    \n",
    "compute_median(data)"
   ]
  },
  {
   "cell_type": "markdown",
   "metadata": {},
   "source": [
    "## The mode is the most commonly occurring value or feature across our data.\n",
    "\n",
    "Determining the mode is relatively simple: find the value that occurs most frequently across our data.\n",
    "\n",
    "Remember that if all values across our data are unique and only occur once, then our data has no mode!\n",
    "\n",
    "The mode is also an interesting measure of central tendency in that it can be applied towards categorical (non-numerical) data; one can find frequently occurring categories without running any calculations."
   ]
  },
  {
   "cell_type": "markdown",
   "metadata": {},
   "source": [
    "### Activity: Write a function to compute the mode from an arbitrary dataset."
   ]
  },
  {
   "cell_type": "code",
   "execution_count": 7,
   "metadata": {},
   "outputs": [
    {
     "data": {
      "text/plain": [
       "5"
      ]
     },
     "execution_count": 7,
     "metadata": {},
     "output_type": "execute_result"
    }
   ],
   "source": [
    "data = np.array([1, 3, 5, 2, 3, 7, 8, 4, 10, 0,5,5,5,5, 6, 7, 3, 0, 3, 0, 5, 7, 10, 1, 4, 9, 3])\n",
    "def compute_mode(dataset):\n",
    "    \"\"\" Main function that determines the mode value across our data. \"\"\"\n",
    "    d={}\n",
    "    for num in dataset:\n",
    "        word_count = d.get(num, 0) + 1 #get the count from dictionary, default value is 0, and increment by 1\n",
    "        d[num] = word_count\n",
    "    return max(d, key=d.get) #get the element with the maximum count\n",
    "compute_mode(data)"
   ]
  },
  {
   "cell_type": "markdown",
   "metadata": {},
   "source": [
    "## #Create a dictionary from array"
   ]
  },
  {
   "cell_type": "code",
   "execution_count": 8,
   "metadata": {},
   "outputs": [
    {
     "data": {
      "text/plain": [
       "{5: 6, 3: 5, 7: 3, 0: 3, 10: 2, 4: 2, 1: 2, 9: 1, 8: 1, 6: 1, 2: 1}"
      ]
     },
     "execution_count": 8,
     "metadata": {},
     "output_type": "execute_result"
    }
   ],
   "source": [
    "dict(pd.Series(data).value_counts())"
   ]
  },
  {
   "cell_type": "markdown",
   "metadata": {},
   "source": [
    "## Measures of Spread and Variance\n",
    "Like our friends in the central tendency community, measures of spread and variance do their best to **describe patterns across our data as a whole.**\n",
    "However, unlike measures of ***central tendency***, *which focus on the distribution of our data towards an arithmetic centroid*, **measures of spread and variance talk about the shape and layout of our data all across the board**!\n",
    "In this course, there are two key measures of spread and variance to help describe the shape of our data:\n",
    "- **Range**\n",
    "- **Variance, Standard Deviation**\n",
    "\n",
    "## What is Range?\n",
    "Range is the **difference between the highest and lowest values in a data set**. It is one of the simplest measures of spread (the extent to which a distribution is stretched or squeezed). We'll use variance/standard deviation to help give more information around all of this!"
   ]
  },
  {
   "cell_type": "markdown",
   "metadata": {},
   "source": [
    "## What is standard deviation or variance?\n",
    "We measured the number of rainy days during Fall in three different cities in the last 5 years:"
   ]
  },
  {
   "cell_type": "code",
   "execution_count": 9,
   "metadata": {},
   "outputs": [
    {
     "data": {
      "text/html": [
       "<div>\n",
       "<style scoped>\n",
       "    .dataframe tbody tr th:only-of-type {\n",
       "        vertical-align: middle;\n",
       "    }\n",
       "\n",
       "    .dataframe tbody tr th {\n",
       "        vertical-align: top;\n",
       "    }\n",
       "\n",
       "    .dataframe thead th {\n",
       "        text-align: right;\n",
       "    }\n",
       "</style>\n",
       "<table border=\"1\" class=\"dataframe\">\n",
       "  <thead>\n",
       "    <tr style=\"text-align: right;\">\n",
       "      <th></th>\n",
       "      <th>Rainy</th>\n",
       "      <th>City</th>\n",
       "    </tr>\n",
       "  </thead>\n",
       "  <tbody>\n",
       "    <tr>\n",
       "      <th>0</th>\n",
       "      <td>29</td>\n",
       "      <td>City_A</td>\n",
       "    </tr>\n",
       "    <tr>\n",
       "      <th>1</th>\n",
       "      <td>28</td>\n",
       "      <td>City_A</td>\n",
       "    </tr>\n",
       "    <tr>\n",
       "      <th>2</th>\n",
       "      <td>32</td>\n",
       "      <td>City_A</td>\n",
       "    </tr>\n",
       "    <tr>\n",
       "      <th>3</th>\n",
       "      <td>35</td>\n",
       "      <td>City_A</td>\n",
       "    </tr>\n",
       "    <tr>\n",
       "      <th>4</th>\n",
       "      <td>36</td>\n",
       "      <td>City_A</td>\n",
       "    </tr>\n",
       "    <tr>\n",
       "      <th>5</th>\n",
       "      <td>12</td>\n",
       "      <td>City_B</td>\n",
       "    </tr>\n",
       "    <tr>\n",
       "      <th>6</th>\n",
       "      <td>18</td>\n",
       "      <td>City_B</td>\n",
       "    </tr>\n",
       "    <tr>\n",
       "      <th>7</th>\n",
       "      <td>30</td>\n",
       "      <td>City_B</td>\n",
       "    </tr>\n",
       "    <tr>\n",
       "      <th>8</th>\n",
       "      <td>45</td>\n",
       "      <td>City_B</td>\n",
       "    </tr>\n",
       "    <tr>\n",
       "      <th>9</th>\n",
       "      <td>55</td>\n",
       "      <td>City_B</td>\n",
       "    </tr>\n",
       "    <tr>\n",
       "      <th>10</th>\n",
       "      <td>32</td>\n",
       "      <td>City_C</td>\n",
       "    </tr>\n",
       "    <tr>\n",
       "      <th>11</th>\n",
       "      <td>32</td>\n",
       "      <td>City_C</td>\n",
       "    </tr>\n",
       "    <tr>\n",
       "      <th>12</th>\n",
       "      <td>32</td>\n",
       "      <td>City_C</td>\n",
       "    </tr>\n",
       "    <tr>\n",
       "      <th>13</th>\n",
       "      <td>32</td>\n",
       "      <td>City_C</td>\n",
       "    </tr>\n",
       "    <tr>\n",
       "      <th>14</th>\n",
       "      <td>32</td>\n",
       "      <td>City_C</td>\n",
       "    </tr>\n",
       "  </tbody>\n",
       "</table>\n",
       "</div>"
      ],
      "text/plain": [
       "    Rainy    City\n",
       "0      29  City_A\n",
       "1      28  City_A\n",
       "2      32  City_A\n",
       "3      35  City_A\n",
       "4      36  City_A\n",
       "5      12  City_B\n",
       "6      18  City_B\n",
       "7      30  City_B\n",
       "8      45  City_B\n",
       "9      55  City_B\n",
       "10     32  City_C\n",
       "11     32  City_C\n",
       "12     32  City_C\n",
       "13     32  City_C\n",
       "14     32  City_C"
      ]
     },
     "execution_count": 9,
     "metadata": {},
     "output_type": "execute_result"
    }
   ],
   "source": [
    "import pandas as pd\n",
    "import seaborn as sns\n",
    "import matplotlib.pyplot as plt\n",
    "\n",
    "df = pd.DataFrame({'Rainy':[29,28,32,35,36,12,18,30,45,55, 32,32,32,32,32], 'City':['City_A']*5 + ['City_B']*5 + ['City_C']*5})\n",
    "df"
   ]
  },
  {
   "cell_type": "markdown",
   "metadata": {},
   "source": [
    "### What is the mean of rainy days for City A, B and C?"
   ]
  },
  {
   "cell_type": "code",
   "execution_count": 10,
   "metadata": {},
   "outputs": [
    {
     "name": "stdout",
     "output_type": "stream",
     "text": [
      "32.0\n",
      "32.0\n",
      "32.0\n"
     ]
    }
   ],
   "source": [
    "print(np.mean(df[df['City'] == 'City_A']['Rainy']))\n",
    "\n",
    "print(np.mean(df[df['City'] == 'City_B']['Rainy']))\n",
    "\n",
    "print(np.mean(df[df['City'] == 'City_C']['Rainy']))"
   ]
  },
  {
   "cell_type": "markdown",
   "metadata": {},
   "source": [
    "### Which city has more variation?\n",
    "Standard deviation (std), which is the **square root of variance**, can capture the variations in different arrays"
   ]
  },
  {
   "cell_type": "code",
   "execution_count": 11,
   "metadata": {},
   "outputs": [
    {
     "name": "stdout",
     "output_type": "stream",
     "text": [
      "3.1622776601683795\n",
      "16.112107248898266\n",
      "0.0\n"
     ]
    }
   ],
   "source": [
    "print(np.std(df[df['City'] == 'City_A']['Rainy']))\n",
    "\n",
    "print(np.std(df[df['City'] == 'City_B']['Rainy']))\n",
    "\n",
    "print(np.std(df[df['City'] == 'City_C']['Rainy']))"
   ]
  },
  {
   "cell_type": "markdown",
   "metadata": {},
   "source": [
    "#### Let's plot the variations in the data"
   ]
  },
  {
   "cell_type": "code",
   "execution_count": 12,
   "metadata": {},
   "outputs": [
    {
     "data": {
      "image/png": "[encoded data removed]",
      "text/plain": [
       "<Figure size 432x288 with 1 Axes>"
      ]
     },
     "metadata": {
      "needs_background": "light"
     },
     "output_type": "display_data"
    }
   ],
   "source": [
    "sns.lineplot(y='Rainy', x='City', data=df)\n",
    "plt.show()"
   ]
  },
  {
   "cell_type": "markdown",
   "metadata": {},
   "source": [
    "### Most (or majority) of the values (rainy days) in Cities A, B and C are between\n",
    "**(mean - std) and (mean + std)**"
   ]
  },
  {
   "cell_type": "code",
   "execution_count": 13,
   "metadata": {},
   "outputs": [
    {
     "name": "stdout",
     "output_type": "stream",
     "text": [
      "[28.837722339831622, 35.16227766016838]\n",
      "[15.887892751101734, 48.11210724889827]\n",
      "[32.0, 32.0]\n"
     ]
    }
   ],
   "source": [
    "print([32 - np.std(df[df['City'] == 'City_A']['Rainy']), 32 + np.std(df[df['City'] == 'City_A']['Rainy'])])\n",
    "\n",
    "print([32 - np.std(df[df['City'] == 'City_B']['Rainy']), 32 + np.std(df[df['City'] == 'City_B']['Rainy'])])\n",
    "\n",
    "print([32 - np.std(df[df['City'] == 'City_C']['Rainy']), 32 + np.std(df[df['City'] == 'City_C']['Rainy'])])"
   ]
  },
  {
   "cell_type": "markdown",
   "metadata": {},
   "source": [
    "## Percentile\n",
    "### Activity - Compute 75% Percentile for Fare in Titanic\n",
    "- At which dollar amount did 75 percent of the passengers pay less than the Fare amount?"
   ]
  },
  {
   "cell_type": "code",
   "execution_count": 14,
   "metadata": {},
   "outputs": [
    {
     "data": {
      "text/plain": [
       "31.0"
      ]
     },
     "execution_count": 14,
     "metadata": {},
     "output_type": "execute_result"
    }
   ],
   "source": [
    "import pandas as pd\n",
    "df = pd.read_csv('titanic.csv')\n",
    "\n",
    "ls_fare = df['Fare'].dropna().values\n",
    "\n",
    "np.percentile(ls_fare, 75)"
   ]
  },
  {
   "cell_type": "markdown",
   "metadata": {},
   "source": [
    "### Verify that 75 percent of passengers paid less than 31.0 Dollar"
   ]
  },
  {
   "cell_type": "code",
   "execution_count": 15,
   "metadata": {},
   "outputs": [
    {
     "data": {
      "text/plain": [
       "0.7508417508417509"
      ]
     },
     "execution_count": 15,
     "metadata": {},
     "output_type": "execute_result"
    }
   ],
   "source": [
    "# Slice the data based on Fare for those paid less than 31 Dollar\n",
    "numbers_below_percentile = df[df['Fare'] <= np.percentile(ls_fare, 75)]\n",
    "\n",
    "# Compute the size of the sliced dataframe and divide over all number of passengers\n",
    "pr_below_percentile = len(numbers_below_percentile)/len(ls_fare)\n",
    "\n",
    "pr_below_percentile"
   ]
  },
  {
   "cell_type": "code",
   "execution_count": null,
   "metadata": {},
   "outputs": [],
   "source": []
  },
  {
   "cell_type": "markdown",
   "metadata": {},
   "source": [
    "# Day 6: Applied Probability to data frame\n",
    "https://github.com/Make-School-Courses/DS-1.1-Data-Analysis/blob/master/Notebooks/Applied_Probability.ipynb"
   ]
  },
  {
   "cell_type": "markdown",
   "metadata": {},
   "source": [
    "### What is the probability (chance) that a passenger in Titanic be female?"
   ]
  },
  {
   "cell_type": "code",
   "execution_count": 28,
   "metadata": {},
   "outputs": [
    {
     "data": {
      "text/plain": [
       "0.35241301907968575"
      ]
     },
     "execution_count": 28,
     "metadata": {},
     "output_type": "execute_result"
    }
   ],
   "source": [
    "# Unconditional Probability\n",
    "prob_of_females = len(df[df['Sex'] == 'female']) / len(df['Sex'].dropna())\n",
    "prob_of_females"
   ]
  },
  {
   "cell_type": "markdown",
   "metadata": {},
   "source": [
    "## Baye's Rule\n",
    "\n",
    "P(B|A) = P(A and B) / P(A)\n",
    "\n",
    "### Given that some passengers paid over $100 for their ticket, what is the chance they survived?\n",
    "- P(survived=1 | Fare > 100)\n",
    "- Bayesian rule -> P(survived=1 and Fare > 100)/P(Fare>100)"
   ]
  },
  {
   "cell_type": "code",
   "execution_count": 29,
   "metadata": {},
   "outputs": [
    {
     "data": {
      "text/plain": [
       "1    39\n",
       "0    14\n",
       "Name: Survived, dtype: int64"
      ]
     },
     "execution_count": 29,
     "metadata": {},
     "output_type": "execute_result"
    }
   ],
   "source": [
    "# Conditional Probability - limit our search space\n",
    "df[df['Fare'] > 100]['Survived'].value_counts()"
   ]
  },
  {
   "cell_type": "code",
   "execution_count": 49,
   "metadata": {},
   "outputs": [
    {
     "name": "stdout",
     "output_type": "stream",
     "text": [
      "0.04377104377104377 / 0.05948372615039282 = 0.7358490566037736\n"
     ]
    }
   ],
   "source": [
    "who_paid_over_100 = df[df['Fare'] > 100]\n",
    "survived_and_paid_over_100 = df[ (df['Fare'] > 100) & (df['Survived'] == 1)]\n",
    "P_numerator = len(survived_and_paid_over_100) / len(df)\n",
    "P_denominator = len(df[df['Fare'] >= 100]) / (len(df))\n",
    "print(f\"{P_numerator} / {P_denominator} = {P_numerator/P_denominator}\")\n"
   ]
  },
  {
   "cell_type": "markdown",
   "metadata": {},
   "source": [
    "### What is the probability that a survived passenger was male"
   ]
  },
  {
   "cell_type": "code",
   "execution_count": 59,
   "metadata": {},
   "outputs": [
    {
     "data": {
      "text/plain": [
       "0.31871345029239767"
      ]
     },
     "execution_count": 59,
     "metadata": {},
     "output_type": "execute_result"
    }
   ],
   "source": [
    "survivors = df[df['Survived'] == 1]\n",
    "male_survivors = df[ (df['Sex'] == \"male\") & (df['Survived'] == 1)]\n",
    "len(male_survivors) / len(survivors)"
   ]
  },
  {
   "cell_type": "markdown",
   "metadata": {},
   "source": [
    "### Given that a passenger iis under 30 but over 20 years old, what are the chances they are in first class?"
   ]
  },
  {
   "cell_type": "code",
   "execution_count": null,
   "metadata": {},
   "outputs": [],
   "source": []
  },
  {
   "cell_type": "markdown",
   "metadata": {},
   "source": [
    "### Given that a male passenger over 30 years old did not survive, what are the odds that he paid less than $25 for a ticket?"
   ]
  },
  {
   "cell_type": "code",
   "execution_count": null,
   "metadata": {},
   "outputs": [],
   "source": []
  },
  {
   "cell_type": "markdown",
   "metadata": {},
   "source": [
    "### Tennis Dataset"
   ]
  },
  {
   "cell_type": "code",
   "execution_count": 61,
   "metadata": {},
   "outputs": [
    {
     "data": {
      "text/html": [
       "<div>\n",
       "<style scoped>\n",
       "    .dataframe tbody tr th:only-of-type {\n",
       "        vertical-align: middle;\n",
       "    }\n",
       "\n",
       "    .dataframe tbody tr th {\n",
       "        vertical-align: top;\n",
       "    }\n",
       "\n",
       "    .dataframe thead th {\n",
       "        text-align: right;\n",
       "    }\n",
       "</style>\n",
       "<table border=\"1\" class=\"dataframe\">\n",
       "  <thead>\n",
       "    <tr style=\"text-align: right;\">\n",
       "      <th></th>\n",
       "      <th>Outlook</th>\n",
       "      <th>Temp</th>\n",
       "      <th>Humidity</th>\n",
       "      <th>Wind</th>\n",
       "      <th>Decision</th>\n",
       "    </tr>\n",
       "  </thead>\n",
       "  <tbody>\n",
       "    <tr>\n",
       "      <th>1</th>\n",
       "      <td>Sunny</td>\n",
       "      <td>Hot</td>\n",
       "      <td>High</td>\n",
       "      <td>Weak</td>\n",
       "      <td>No</td>\n",
       "    </tr>\n",
       "    <tr>\n",
       "      <th>2</th>\n",
       "      <td>Sunny</td>\n",
       "      <td>Hot</td>\n",
       "      <td>High</td>\n",
       "      <td>Strong</td>\n",
       "      <td>No</td>\n",
       "    </tr>\n",
       "    <tr>\n",
       "      <th>3</th>\n",
       "      <td>Overcast</td>\n",
       "      <td>Hot</td>\n",
       "      <td>High</td>\n",
       "      <td>Weak</td>\n",
       "      <td>Yes</td>\n",
       "    </tr>\n",
       "    <tr>\n",
       "      <th>4</th>\n",
       "      <td>Rain</td>\n",
       "      <td>Mild</td>\n",
       "      <td>High</td>\n",
       "      <td>Weak</td>\n",
       "      <td>Yes</td>\n",
       "    </tr>\n",
       "    <tr>\n",
       "      <th>5</th>\n",
       "      <td>Rain</td>\n",
       "      <td>Cool</td>\n",
       "      <td>Normal</td>\n",
       "      <td>Weak</td>\n",
       "      <td>Yes</td>\n",
       "    </tr>\n",
       "    <tr>\n",
       "      <th>6</th>\n",
       "      <td>Rain</td>\n",
       "      <td>Cool</td>\n",
       "      <td>Normal</td>\n",
       "      <td>Strong</td>\n",
       "      <td>No</td>\n",
       "    </tr>\n",
       "    <tr>\n",
       "      <th>7</th>\n",
       "      <td>Overcast</td>\n",
       "      <td>Cool</td>\n",
       "      <td>Normal</td>\n",
       "      <td>Strong</td>\n",
       "      <td>Yes</td>\n",
       "    </tr>\n",
       "    <tr>\n",
       "      <th>8</th>\n",
       "      <td>Sunny</td>\n",
       "      <td>Mild</td>\n",
       "      <td>High</td>\n",
       "      <td>Weak</td>\n",
       "      <td>No</td>\n",
       "    </tr>\n",
       "    <tr>\n",
       "      <th>9</th>\n",
       "      <td>Sunny</td>\n",
       "      <td>Cool</td>\n",
       "      <td>Normal</td>\n",
       "      <td>Weak</td>\n",
       "      <td>Yes</td>\n",
       "    </tr>\n",
       "    <tr>\n",
       "      <th>10</th>\n",
       "      <td>Rain</td>\n",
       "      <td>Mild</td>\n",
       "      <td>Normal</td>\n",
       "      <td>Weak</td>\n",
       "      <td>Yes</td>\n",
       "    </tr>\n",
       "    <tr>\n",
       "      <th>11</th>\n",
       "      <td>Sunny</td>\n",
       "      <td>Mild</td>\n",
       "      <td>Normal</td>\n",
       "      <td>Strong</td>\n",
       "      <td>Yes</td>\n",
       "    </tr>\n",
       "    <tr>\n",
       "      <th>12</th>\n",
       "      <td>Overcast</td>\n",
       "      <td>Mild</td>\n",
       "      <td>High</td>\n",
       "      <td>Strong</td>\n",
       "      <td>Yes</td>\n",
       "    </tr>\n",
       "    <tr>\n",
       "      <th>13</th>\n",
       "      <td>Overcast</td>\n",
       "      <td>Hot</td>\n",
       "      <td>Normal</td>\n",
       "      <td>Weak</td>\n",
       "      <td>Yes</td>\n",
       "    </tr>\n",
       "    <tr>\n",
       "      <th>14</th>\n",
       "      <td>Rain</td>\n",
       "      <td>Mild</td>\n",
       "      <td>High</td>\n",
       "      <td>Strong</td>\n",
       "      <td>No</td>\n",
       "    </tr>\n",
       "  </tbody>\n",
       "</table>\n",
       "</div>"
      ],
      "text/plain": [
       "     Outlook  Temp Humidity    Wind Decision\n",
       "1      Sunny   Hot     High    Weak       No\n",
       "2      Sunny   Hot     High  Strong       No\n",
       "3   Overcast   Hot     High    Weak      Yes\n",
       "4       Rain  Mild     High    Weak      Yes\n",
       "5       Rain  Cool   Normal    Weak      Yes\n",
       "6       Rain  Cool   Normal  Strong       No\n",
       "7   Overcast  Cool   Normal  Strong      Yes\n",
       "8      Sunny  Mild     High    Weak       No\n",
       "9      Sunny  Cool   Normal    Weak      Yes\n",
       "10      Rain  Mild   Normal    Weak      Yes\n",
       "11     Sunny  Mild   Normal  Strong      Yes\n",
       "12  Overcast  Mild     High  Strong      Yes\n",
       "13  Overcast   Hot   Normal    Weak      Yes\n",
       "14      Rain  Mild     High  Strong       No"
      ]
     },
     "execution_count": 61,
     "metadata": {},
     "output_type": "execute_result"
    }
   ],
   "source": [
    "import pandas as pd\n",
    "\n",
    "df = pd.read_csv('tennis.txt', delimiter=\"\\t\", header=None, names=['Outlook', 'Temp', 'Humidity', 'Wind', 'Decision'])\n",
    "df"
   ]
  },
  {
   "cell_type": "markdown",
   "metadata": {},
   "source": [
    "### What is the probability that a Tennis player plays when Wind is Weak?\n",
    "- Formula is P(\"Wind\"=\"Weak\" & \"Decision\"=\"Yes\") / P(\"Wind\"=\"Weak\")"
   ]
  },
  {
   "cell_type": "code",
   "execution_count": 72,
   "metadata": {},
   "outputs": [
    {
     "data": {
      "text/plain": [
       "0.75"
      ]
     },
     "execution_count": 72,
     "metadata": {},
     "output_type": "execute_result"
    }
   ],
   "source": [
    "# played = df[df['Decision'] == \"Yes\"] #should not be the denominator\n",
    "P_weak_wind = df[df['Wind'] == \"Weak\"]\n",
    "played_in_weak_windy = df[ (df['Wind'] == \"Weak\") & (df['Decision'] == \"Yes\")]\n",
    "len(played_in_weak_windy) / len(P_weak_wind)"
   ]
  },
  {
   "cell_type": "code",
   "execution_count": 98,
   "metadata": {},
   "outputs": [
    {
     "name": "stdout",
     "output_type": "stream",
     "text": [
      "{'Yes': 0.75, 'No': 0.25}\n"
     ]
    }
   ],
   "source": [
    "#method that takes a Column name and that column's value, and return conditional probabililty of column2\n",
    "def conditional_prob(df, column1, value1, column2):\n",
    "    probabilities = {}\n",
    "    column1_is_value1 = df[df[column1] == value1]\n",
    "    column2_values = set(df[column2].values) #possible values for target_column\n",
    "    for column2_value in column2_values: #for each value in target's values\n",
    "        probabilities[column2_value] = len(df[ (df[column1] == value1) & (df[column2] == column2_value)]) / len(column1_is_value1)\n",
    "    return probabilities\n",
    "\n",
    "print(conditional_prob(df, \"Wind\", \"Weak\",\"Decision\"))"
   ]
  },
  {
   "cell_type": "code",
   "execution_count": null,
   "metadata": {},
   "outputs": [],
   "source": []
  },
  {
   "cell_type": "markdown",
   "metadata": {},
   "source": [
    "# Day 8: PDF, CDF, and Normal Distribution\n",
    "https://github.com/Make-School-Courses/DS-1.1-Data-Analysis/blob/master/Notebooks/PDF_CDF_Normal.ipynb"
   ]
  },
  {
   "cell_type": "code",
   "execution_count": 4,
   "metadata": {},
   "outputs": [],
   "source": [
    "import numpy as np \n",
    "import pandas as pd \n",
    "import seaborn as sns\n",
    "\n",
    "df = pd.read_csv('titanic.csv')"
   ]
  },
  {
   "cell_type": "markdown",
   "metadata": {},
   "source": [
    "## PDF"
   ]
  },
  {
   "cell_type": "markdown",
   "metadata": {},
   "source": [
    "### Plot the age distribution"
   ]
  },
  {
   "cell_type": "code",
   "execution_count": 9,
   "metadata": {
    "scrolled": true
   },
   "outputs": [
    {
     "data": {
      "text/plain": [
       "<matplotlib.axes._subplots.AxesSubplot at 0x12a1872d0>"
      ]
     },
     "execution_count": 9,
     "metadata": {},
     "output_type": "execute_result"
    },
    {
     "data": {
      "image/png": "[encoded data removed]",
      "text/plain": [
       "<Figure size 432x288 with 1 Axes>"
      ]
     },
     "metadata": {
      "needs_background": "light"
     },
     "output_type": "display_data"
    }
   ],
   "source": [
    "ls_age = df['Age'].dropna()\n",
    "sns.distplot(ls_age, hist=True, kde=False, bins=16)"
   ]
  },
  {
   "cell_type": "code",
   "execution_count": 10,
   "metadata": {},
   "outputs": [
    {
     "data": {
      "text/plain": [
       "<matplotlib.axes._subplots.AxesSubplot at 0x12a0e3810>"
      ]
     },
     "execution_count": 10,
     "metadata": {},
     "output_type": "execute_result"
    },
    {
     "data": {
      "image/png": "[encoded data removed]",
      "text/plain": [
       "<Figure size 432x288 with 1 Axes>"
      ]
     },
     "metadata": {
      "needs_background": "light"
     },
     "output_type": "display_data"
    }
   ],
   "source": [
    "sns.distplot(df['Age'].dropna(), hist=True, kde=True, bins=16) #kde plots the pdf of the list"
   ]
  },
  {
   "cell_type": "markdown",
   "metadata": {},
   "source": [
    "### What is the probability that a passenger in ls_age is 20-25 years old?"
   ]
  },
  {
   "cell_type": "code",
   "execution_count": 34,
   "metadata": {},
   "outputs": [
    {
     "data": {
      "text/plain": [
       "0.03417366946778712"
      ]
     },
     "execution_count": 34,
     "metadata": {},
     "output_type": "execute_result"
    }
   ],
   "source": [
    "ls_age = df['Age'].dropna()\n",
    "total_passengers = len(ls_age)\n",
    "pass_20_to_25 = df[(df[\"Age\"] > 20) & (df[\"Age\"] <= 25)]\n",
    "area = len(pass_20_to_25)/714\n",
    "w=5\n",
    "wh = len(pass_20_to_25)/714\n",
    "h=len(pass_20_to_25)/714/5\n",
    "h\n"
   ]
  },
  {
   "cell_type": "markdown",
   "metadata": {},
   "source": [
    "### What percentage of passenger is younger than 40?"
   ]
  },
  {
   "cell_type": "code",
   "execution_count": 30,
   "metadata": {},
   "outputs": [
    {
     "data": {
      "text/plain": [
       "0.7717086834733894"
      ]
     },
     "execution_count": 30,
     "metadata": {},
     "output_type": "execute_result"
    }
   ],
   "source": [
    "list_younger_40 = df[df['Age'] < 40]\n",
    "prob_below_40 = len(list_younger_40)/len(ls_age)\n",
    "prob_below_40"
   ]
  },
  {
   "cell_type": "markdown",
   "metadata": {},
   "source": [
    "## Cumulative Density Function (CDF)\n",
    "\t•\tIn above example, we could not easily obtain the percentage from a PDF, although it is possible. ",
    "\n",
    "\t•\tThis is much easier if we use a CDF. A CDF calculates the probability that a random variable is less than a threshold value\n",
    "\t•\tLet's learn CDF by example: given an array of numbers (our random variable) and a threshold value as input:\n",
    "    \n",
    "\t1.\tFind the minimum value in the array\n",
    "\t2.\tSet the threshold to be the minimum value of the array\n",
    "\t3.\tFor a given array of numbers and a given threshold, count all of the elements in the array that are less than the threshold, and divide that count by the length of the array\n",
    "\t4.\tRepeat step three, increasing the threshold by one, until you go through step three where threshold is equail to the maximum value in the array"
   ]
  },
  {
   "cell_type": "markdown",
   "metadata": {},
   "source": [
    "### 1. Write a function that counts how many elements in a give list (e.g. age) is lower than threshold"
   ]
  },
  {
   "cell_type": "code",
   "execution_count": 41,
   "metadata": {},
   "outputs": [
    {
     "data": {
      "text/plain": [
       "0.7899159663865546"
      ]
     },
     "execution_count": 41,
     "metadata": {},
     "output_type": "execute_result"
    }
   ],
   "source": [
    "#return elements in ls <= threshold\n",
    "def count_lower(ls, threshold):\n",
    "    less_than_threshold_list = []\n",
    "    for val in ls:\n",
    "        if val <= threshold:\n",
    "            less_than_threshold_list.append(val)\n",
    "    \n",
    "    return len(less_than_threshold_list) / len(ls)\n",
    "\n",
    "count_lower(df['Age'].dropna().values, 40)"
   ]
  },
  {
   "cell_type": "markdown",
   "metadata": {},
   "source": [
    "### 2. Change the threshold from minimum value of age to maximum value of age with defined step_size"
   ]
  },
  {
   "cell_type": "code",
   "execution_count": 52,
   "metadata": {},
   "outputs": [],
   "source": [
    "# def cdf_list(ls, step_size):\n",
    "#     threshold_range = range(min(ls), max(ls), step_size) #range(start, stop, step)\n",
    "#     #iterate through threshold_range and call your first function\n",
    "# #     for val in threshold_range:\n",
    "#     count_lower()\n",
    "        \n",
    "# cdf_list(ls_age, 1)"
   ]
  },
  {
   "cell_type": "code",
   "execution_count": 53,
   "metadata": {},
   "outputs": [
    {
     "name": "stdout",
     "output_type": "stream",
     "text": [
      "[0.0, 0.0196078431372549, 0.03361344537815126, 0.04201680672268908, 0.056022408963585436, 0.06162464985994398, 0.06582633053221289, 0.0700280112044818, 0.07563025210084033, 0.08683473389355742, 0.0896358543417367, 0.09523809523809523, 0.09663865546218488, 0.09943977591036414, 0.10784313725490197, 0.11624649859943978, 0.1400560224089636, 0.15826330532212884, 0.19467787114845939, 0.22969187675070027, 0.2507002801120448, 0.2857142857142857, 0.3235294117647059, 0.3445378151260504, 0.38795518207282914, 0.4215686274509804, 0.44677871148459386, 0.47198879551820727, 0.5070028011204482, 0.5378151260504201, 0.572829131652661, 0.5994397759103641, 0.6246498599439776, 0.6484593837535014, 0.6694677871148459, 0.696078431372549, 0.726890756302521, 0.7366946778711485, 0.7521008403361344, 0.7717086834733894, 0.7899159663865546, 0.8011204481792717, 0.819327731092437, 0.8263305322128851, 0.8389355742296919, 0.8557422969187675, 0.8627450980392157, 0.8753501400560224, 0.8879551820728291, 0.896358543417367, 0.9103641456582633, 0.9201680672268907, 0.9285714285714286, 0.9299719887955182, 0.9411764705882353, 0.9439775910364145, 0.9509803921568627, 0.9537815126050421, 0.9607843137254902, 0.9635854341736695, 0.969187675070028, 0.9733893557422969, 0.9789915966386554, 0.9817927170868347, 0.9845938375350141, 0.988795518207283, 0.9901960784313726, 0.9901960784313726, 0.9901960784313726, 0.9901960784313726, 0.9929971988795518, 0.9971988795518207, 0.9971988795518207, 0.9971988795518207, 0.9985994397759104, 0.9985994397759104, 0.9985994397759104, 0.9985994397759104, 0.9985994397759104, 0.9985994397759104]\n"
     ]
    }
   ],
   "source": [
    "ls_age = df['Age'].dropna().values\n",
    "\n",
    "def calculate_cdf(x, threshold):\n",
    "    return np.sum(x <= threshold)\n",
    "\n",
    "# Create an array cdf_age where each value is the cdf of the age for each threshold\n",
    "cdf_age = []\n",
    "#get min value in array\n",
    "min_val = np.min(ls_age)\n",
    "#set threshold to be the min value of the array\n",
    "threshold = np.min(ls_age)\n",
    "#for a given array of numbers and a given threshold\n",
    "for r in range(int(np.min(ls_age)), int(np.max(ls_age))):\n",
    "    #count all of the elements in the array that are less than the threshold\n",
    "    less_than_threshold = calculate_cdf(ls_age, r)\n",
    "    age_value = less_than_threshold / len(ls_age)\n",
    "    cdf_age.append(age_value)\n",
    "    #repeat, increasing the threshold by one until the threshold is equal to the max value in array\n",
    "print(cdf_age)\n"
   ]
  },
  {
   "cell_type": "code",
   "execution_count": 55,
   "metadata": {},
   "outputs": [
    {
     "data": {
      "image/png": "[encoded data removed]",
      "text/plain": [
       "<Figure size 432x288 with 1 Axes>"
      ]
     },
     "metadata": {
      "needs_background": "light"
     },
     "output_type": "display_data"
    }
   ],
   "source": [
    "import matplotlib.pyplot as plt\n",
    "\n",
    "plt.plot(range(int(np.min(ls_age)), int(np.max(ls_age))), cdf_age)\n",
    "plt.grid()\n",
    "#now we can tell than 80% of passengers are less than 40 years old"
   ]
  },
  {
   "cell_type": "code",
   "execution_count": 56,
   "metadata": {},
   "outputs": [],
   "source": [
    "# ls_age = df['Age'].dropna().values\n",
    "\n",
    "# def calculate_cdf(x, threshold):\n",
    "#     return np.sum(x <= threshold)\n",
    "\n",
    "# # Create an array cdf_age where each value is the cdf of the age for each threshold\n",
    "# cdf_age = [calculate_cdf(ls_age, r)/len(ls_age) for r in range(int(np.min(ls_age)), int(np.max(ls_age)))]\n",
    "\n",
    "# print(cdf_age)"
   ]
  },
  {
   "cell_type": "code",
   "execution_count": 60,
   "metadata": {},
   "outputs": [
    {
     "data": {
      "image/png": "[encoded data removed]",
      "text/plain": [
       "<Figure size 432x288 with 1 Axes>"
      ]
     },
     "metadata": {
      "needs_background": "light"
     },
     "output_type": "display_data"
    }
   ],
   "source": [
    "plt.bar(range(int(np.min(ls_age)), int(np.max(ls_age))), cdf_age)\n",
    "plt.grid()"
   ]
  },
  {
   "cell_type": "code",
   "execution_count": null,
   "metadata": {},
   "outputs": [],
   "source": []
  },
  {
   "cell_type": "markdown",
   "metadata": {},
   "source": [
    "### More about PDFs\n",
    "Below we show a Violin plot. Per Wikipedia, a violin plot is a method of plotting numeric data. It is similar to a box plot, with the addition of a rotated kernel density plot on each side.\n",
    "\n",
    "Violin plots are similar to box plots, except that they also show the probability density (what a PDF shows!) of the data at different values, usually smoothed by a kernel density estimator."
   ]
  },
  {
   "cell_type": "code",
   "execution_count": 57,
   "metadata": {},
   "outputs": [
    {
     "data": {
      "text/plain": [
       "<matplotlib.axes._subplots.AxesSubplot at 0x12a5d3c90>"
      ]
     },
     "execution_count": 57,
     "metadata": {},
     "output_type": "execute_result"
    },
    {
     "data": {
      "image/png": "[encoded data removed]",
      "text/plain": [
       "<Figure size 432x288 with 1 Axes>"
      ]
     },
     "metadata": {
      "needs_background": "light"
     },
     "output_type": "display_data"
    }
   ],
   "source": [
    "sns.violinplot(x=\"Sex\", y=\"Age\", data=df)\n",
    "#Observations are many male and female are 20-40, and there are older male"
   ]
  },
  {
   "cell_type": "markdown",
   "metadata": {},
   "source": [
    "## Normal Distribution\n",
    "\t•\tIt is possible that when we plot a histogram or PDF of an array, it has a Bell Shape ",
    "\n",
    "\t•\tThe name of this histogram is Normal"
   ]
  },
  {
   "cell_type": "code",
   "execution_count": 63,
   "metadata": {},
   "outputs": [
    {
     "data": {
      "text/plain": [
       "<matplotlib.axes._subplots.AxesSubplot at 0x12c7c2350>"
      ]
     },
     "execution_count": 63,
     "metadata": {},
     "output_type": "execute_result"
    },
    {
     "data": {
      "image/png": "[encoded data removed]",
      "text/plain": [
       "<Figure size 432x288 with 1 Axes>"
      ]
     },
     "metadata": {
      "needs_background": "light"
     },
     "output_type": "display_data"
    }
   ],
   "source": [
    "import numpy as np\n",
    "import seaborn as sns\n",
    "\n",
    "# Generate 1000 samples with 60 as its mean and 10 as its std, and 1000 elements\n",
    "a = np.random.normal(60, 10, 1000)\n",
    "sns.distplot(a, hist=True, kde=True, bins=20)"
   ]
  },
  {
   "cell_type": "markdown",
   "metadata": {},
   "source": [
    "#### Activity:\n",
    "The instructor of DS graded last term's final exam. They are reporting that the mean was 60 (with scale of 100) with standard deviation of 10.\n",
    "What is the probability that students got more than 70?"
   ]
  },
  {
   "cell_type": "code",
   "execution_count": 79,
   "metadata": {},
   "outputs": [
    {
     "name": "stdout",
     "output_type": "stream",
     "text": [
      "0.15865525393145707\n",
      "Probability of students that got more than 70 = 0.15865525393145707\n",
      "Probability of students that got less than 70 = 0.8413447460685429\n"
     ]
    }
   ],
   "source": [
    "from scipy.stats import norm\n",
    "\n",
    "#first parameter = mean\n",
    "#loc = mean\n",
    "#scale = std\n",
    "\n",
    "print(norm.sf(70, loc=60, scale=10))\n",
    "\n",
    "# or\n",
    "\n",
    "print(\"Probability of students that got more than 70 =\", 1 - norm.cdf(70, loc=60, scale=10)) #greater than 70\n",
    "print(\"Probability of students that got less than 70 =\", norm.cdf(70, loc=60, scale=10)) #less than 70"
   ]
  },
  {
   "cell_type": "markdown",
   "metadata": {},
   "source": [
    "This area we just calculated is called the *survival*"
   ]
  },
  {
   "cell_type": "markdown",
   "metadata": {},
   "source": [
    "### Normal Distribution Properties\n",
    "When the data is Normally distributed:\n",
    "- 68% of the data is captured within one standard deviation from the mean.\n",
    "- 95% of the data is captured within two standard deviations from the mean.\n",
    "- 99.7% of the data is captured within three standard deviations from the mean."
   ]
  },
  {
   "cell_type": "markdown",
   "metadata": {},
   "source": [
    "#### Show that about 68% of the values are in the [50, 70] range"
   ]
  },
  {
   "cell_type": "code",
   "execution_count": 83,
   "metadata": {},
   "outputs": [
    {
     "data": {
      "text/plain": [
       "0.6826894921370859"
      ]
     },
     "execution_count": 83,
     "metadata": {},
     "output_type": "execute_result"
    }
   ],
   "source": [
    "norm.cdf(70, loc=60, scale=10) - norm.cdf(50, loc=60, scale=10) #subtract bigger CDF of 70 by CDF of 50"
   ]
  },
  {
   "cell_type": "code",
   "execution_count": 84,
   "metadata": {},
   "outputs": [
    {
     "data": {
      "text/plain": [
       "0.71"
      ]
     },
     "execution_count": 84,
     "metadata": {},
     "output_type": "execute_result"
    }
   ],
   "source": [
    "#OR\n",
    "sum(50 < elm < 70 for elm in a) / len(a)"
   ]
  },
  {
   "cell_type": "markdown",
   "metadata": {},
   "source": [
    "### Scaling the Normal Distribution\n",
    "**Unit std** means you are converting your data from its original units to units of standard deviation\n",
    "\n",
    "We can take any list of values which are normally distribute and apply simple arithmetic on the list such that the mean is 0 and the standard deviation is 1 for our new transformed list. We can do this through the following steps below:\n",
    "- For each of the values in the list, we will need to *subtract the mean of list frm the value, and divide this difference by the standard deviation*\n",
    "\n",
    "Let's walk through this using the DS final exam data and normally distributing it"
   ]
  },
  {
   "cell_type": "code",
   "execution_count": 94,
   "metadata": {},
   "outputs": [
    {
     "name": "stdout",
     "output_type": "stream",
     "text": [
      "Mean= -0.07086081599346779\n",
      "STD= 1.0211473772503652\n",
      "Another way= 0.678\n"
     ]
    },
    {
     "data": {
      "image/png": "[encoded data removed]",
      "text/plain": [
       "<Figure size 432x288 with 1 Axes>"
      ]
     },
     "metadata": {
      "needs_background": "light"
     },
     "output_type": "display_data"
    }
   ],
   "source": [
    "# our list of exam scores with mean=60, and std=10, and 1000 elements\n",
    "exam_scores = np.random.normal(60,10,1000)\n",
    "\n",
    "normalized_scores = []\n",
    "for score in exam_scores:\n",
    "    #subtract the mean of list from the value, and divide this difference by the standard deviation\n",
    "    normal_score = (score - 60) / 10\n",
    "    normalized_scores.append(normal_score)\n",
    "\n",
    "sns.distplot(normalized_scores, hist=True, kde=True, bins=20)\n",
    "print(\"Mean=\", np.mean(normalized_scores))\n",
    "print(\"STD=\", np.std(normalized_scores, ddof=1)) #ddof means \"when denominator is n-1\"\n",
    "\n",
    "print(\"Another way=\", sum(50 < elm < 70 for elm in exam_scores) / len(exam_scores)) #students that got more than 50 and less than 70"
   ]
  },
  {
   "cell_type": "code",
   "execution_count": 88,
   "metadata": {},
   "outputs": [
    {
     "data": {
      "text/plain": [
       "0.663"
      ]
     },
     "execution_count": 88,
     "metadata": {},
     "output_type": "execute_result"
    }
   ],
   "source": [
    "sum(50 < elm < 70 for elm in exam_scores) / len(exam_scores)"
   ]
  },
  {
   "cell_type": "code",
   "execution_count": null,
   "metadata": {},
   "outputs": [],
   "source": []
  }
 ],
 "metadata": {
  "kernelspec": {
   "display_name": "Python 3",
   "language": "python",
   "name": "python3"
  },
  "language_info": {
   "codemirror_mode": {
    "name": "ipython",
    "version": 3
   },
   "file_extension": ".py",
   "mimetype": "text/x-python",
   "name": "python",
   "nbconvert_exporter": "python",
   "pygments_lexer": "ipython3",
   "version": "3.7.4"
  }
 },
 "nbformat": 4,
 "nbformat_minor": 2
}
