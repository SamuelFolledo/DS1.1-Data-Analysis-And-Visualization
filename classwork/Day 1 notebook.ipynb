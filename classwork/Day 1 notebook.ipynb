{
 "cells": [
  {
   "cell_type": "markdown",
   "metadata": {},
   "source": [
    "# Day 1"
   ]
  },
  {
   "cell_type": "code",
   "execution_count": null,
   "metadata": {},
   "outputs": [],
   "source": []
  },
  {
   "cell_type": "markdown",
   "metadata": {},
   "source": [
    "## Get amount of female survivors"
   ]
  },
  {
   "cell_type": "code",
   "execution_count": 1,
   "metadata": {},
   "outputs": [
    {
     "name": "stdout",
     "output_type": "stream",
     "text": [
      "233\n"
     ]
    }
   ],
   "source": [
    "#read csv files without using pandas\n",
    "import csv\n",
    "\n",
    "with open('titanic.csv') as csv_file: #read csv file which automatically closes the file after\n",
    "    csv_reader = csv.reader(csv_file, delimiter=',')\n",
    "    # set the counter\n",
    "    c = 0\n",
    "    # iterate over rows \n",
    "    for row in csv_reader:\n",
    "        # if passenger is female and if she survived, increase the counter\n",
    "        if (row[1] == '1') & (row[4] == 'female'): #survived = 1 means true\n",
    "            c += 1\n",
    "print(c)"
   ]
  },
  {
   "cell_type": "code",
   "execution_count": 12,
   "metadata": {},
   "outputs": [
    {
     "data": {
      "text/plain": [
       "233"
      ]
     },
     "execution_count": 12,
     "metadata": {},
     "output_type": "execute_result"
    }
   ],
   "source": [
    "#read csv files using pandas\n",
    "import pandas as pd\n",
    "\n",
    "df = pd.read_csv('titanic.csv') #read csv file\n",
    "\n",
    "len(df[(df['Sex'] == 'female') & (df['Survived'] == 1)]) #survived = 1 means true; this line means get the length of the array of sex == female and survived == 1\n",
    "#df.describe() #gives you the count, mean, std, min, max\n",
    "#df.dtypes #gives data types of each rows"
   ]
  },
  {
   "cell_type": "code",
   "execution_count": 13,
   "metadata": {},
   "outputs": [
    {
     "name": "stdout",
     "output_type": "stream",
     "text": [
      "233\n"
     ]
    }
   ],
   "source": [
    "# Another way to count number of survived female passenger in Titanic without using pandas\n",
    "with open('titanic.csv') as csv_file:\n",
    "    csv_reader = csv.reader(csv_file, delimiter=',')\n",
    "    gender_ls = []\n",
    "    survive_ls = []\n",
    "    for row in csv_reader:\n",
    "        gender_ls.append(row[4])\n",
    "        survive_ls.append(row[1])\n",
    "        \n",
    "gender_ls = gender_ls[1:]  \n",
    "survive_ls = survive_ls[1:]\n",
    "\n",
    "female_index = [i for i, j in enumerate(gender_ls) if j == 'female']\n",
    "# print(female_index)\n",
    "female_survived_not_survived = [survive_ls[i] for i in female_index]\n",
    "\n",
    "num_female_survived = len([i for i, j in enumerate(female_survived_not_survived) if j == '1'])\n",
    "print(num_female_survived)"
   ]
  },
  {
   "cell_type": "code",
   "execution_count": null,
   "metadata": {},
   "outputs": [],
   "source": []
  }
 ],
 "metadata": {
  "kernelspec": {
   "display_name": "Python 3",
   "language": "python",
   "name": "python3"
  },
  "language_info": {
   "codemirror_mode": {
    "name": "ipython",
    "version": 3
   },
   "file_extension": ".py",
   "mimetype": "text/x-python",
   "name": "python",
   "nbconvert_exporter": "python",
   "pygments_lexer": "ipython3",
   "version": "3.7.4"
  }
 },
 "nbformat": 4,
 "nbformat_minor": 2
}
