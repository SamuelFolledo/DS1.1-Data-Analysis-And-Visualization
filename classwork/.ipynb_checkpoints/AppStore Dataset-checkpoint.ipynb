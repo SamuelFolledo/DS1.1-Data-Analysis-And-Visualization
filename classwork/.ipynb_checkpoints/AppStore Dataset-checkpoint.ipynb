{
 "cells": [
  {
   "cell_type": "markdown",
   "metadata": {},
   "source": [
    "# AppStore Dataset\n",
    "Tutorial: https://www.makeschool.com/academy/track/app-store-dataset-tutorial\n"
   ]
  },
  {
   "cell_type": "code",
   "execution_count": 2,
   "metadata": {},
   "outputs": [],
   "source": [
    "# Pandas is a library for basic data analysis\n",
    "import pandas as pd\n",
    "\n",
    "# NumPy is a library for advanced mathematical computation\n",
    "import numpy as np\n",
    "\n",
    "# MatPlotLib is a library for basic data visualization\n",
    "import matplotlib.pyplot as plt\n",
    "\n",
    "# SeaBorn is a library for advanced data visualization\n",
    "import seaborn as sns"
   ]
  },
  {
   "cell_type": "code",
   "execution_count": 3,
   "metadata": {},
   "outputs": [],
   "source": [
    "sns.set(style=\"white\", context=\"notebook\", palette=\"deep\")\n",
    "COLOR_COLUMNS = [\"#66C2FF\", \"#5CD6D6\", \"#00CC99\", \"#85E085\", \"#FFD966\", \"#FFB366\", \"#FFB3B3\", \"#DAB3FF\", \"#C2C2D6\"]\n",
    "sns.set_palette(palette=COLOR_COLUMNS, n_colors=4)"
   ]
  },
  {
   "cell_type": "code",
   "execution_count": 4,
   "metadata": {},
   "outputs": [
    {
     "name": "stdout",
     "output_type": "stream",
     "text": [
      "AppStore Dataset.ipynb\r\n",
      "Day 1 notebook.ipynb\r\n",
      "Day 3- Pandas for Data Frame Manipulation and Visualization.ipynb\r\n",
      "README.md\r\n",
      "array_manipulation.ipynb\r\n",
      "titanic.csv\r\n"
     ]
    }
   ],
   "source": [
    "ls #bash command to list all files in the current directory"
   ]
  },
  {
   "cell_type": "code",
   "execution_count": 5,
   "metadata": {},
   "outputs": [
    {
     "name": "stdout",
     "output_type": "stream",
     "text": [
      "[Errno 2] No such file or directory: '../datasets/ #checks and see if our csv file is there'\n",
      "/Users/macbookpro15/Desktop/MakeSchool/Term4/DS1.1/classwork\n"
     ]
    }
   ],
   "source": [
    "cd ../datasets/ #checks and see if our csv file is there"
   ]
  },
  {
   "cell_type": "code",
   "execution_count": 6,
   "metadata": {},
   "outputs": [
    {
     "name": "stdout",
     "output_type": "stream",
     "text": [
      "[Errno 2] No such file or directory: 'MakeSchool/Term4/DS1.1/classwork/'\n",
      "/Users/macbookpro15/Desktop/MakeSchool/Term4/DS1.1/classwork\n"
     ]
    }
   ],
   "source": [
    "cd MakeSchool/Term4/DS1.1/classwork/"
   ]
  },
  {
   "cell_type": "code",
   "execution_count": 7,
   "metadata": {},
   "outputs": [
    {
     "data": {
      "text/html": [
       "<div>\n",
       "<style scoped>\n",
       "    .dataframe tbody tr th:only-of-type {\n",
       "        vertical-align: middle;\n",
       "    }\n",
       "\n",
       "    .dataframe tbody tr th {\n",
       "        vertical-align: top;\n",
       "    }\n",
       "\n",
       "    .dataframe thead th {\n",
       "        text-align: right;\n",
       "    }\n",
       "</style>\n",
       "<table border=\"1\" class=\"dataframe\">\n",
       "  <thead>\n",
       "    <tr style=\"text-align: right;\">\n",
       "      <th></th>\n",
       "      <th>id</th>\n",
       "      <th>track_name</th>\n",
       "      <th>size_bytes</th>\n",
       "      <th>currency</th>\n",
       "      <th>price</th>\n",
       "      <th>rating_count_tot</th>\n",
       "      <th>rating_count_ver</th>\n",
       "      <th>user_rating</th>\n",
       "      <th>user_rating_ver</th>\n",
       "      <th>ver</th>\n",
       "      <th>cont_rating</th>\n",
       "      <th>prime_genre</th>\n",
       "      <th>sup_devices.num</th>\n",
       "      <th>ipadSc_urls.num</th>\n",
       "      <th>lang.num</th>\n",
       "      <th>vpp_lic</th>\n",
       "    </tr>\n",
       "  </thead>\n",
       "  <tbody>\n",
       "    <tr>\n",
       "      <th>1</th>\n",
       "      <td>281656475</td>\n",
       "      <td>PAC-MAN Premium</td>\n",
       "      <td>100788224</td>\n",
       "      <td>USD</td>\n",
       "      <td>3.99</td>\n",
       "      <td>21292</td>\n",
       "      <td>26</td>\n",
       "      <td>4.0</td>\n",
       "      <td>4.5</td>\n",
       "      <td>6.3.5</td>\n",
       "      <td>4+</td>\n",
       "      <td>Games</td>\n",
       "      <td>38</td>\n",
       "      <td>5</td>\n",
       "      <td>10</td>\n",
       "      <td>1</td>\n",
       "    </tr>\n",
       "    <tr>\n",
       "      <th>2</th>\n",
       "      <td>281796108</td>\n",
       "      <td>Evernote - stay organized</td>\n",
       "      <td>158578688</td>\n",
       "      <td>USD</td>\n",
       "      <td>0.00</td>\n",
       "      <td>161065</td>\n",
       "      <td>26</td>\n",
       "      <td>4.0</td>\n",
       "      <td>3.5</td>\n",
       "      <td>8.2.2</td>\n",
       "      <td>4+</td>\n",
       "      <td>Productivity</td>\n",
       "      <td>37</td>\n",
       "      <td>5</td>\n",
       "      <td>23</td>\n",
       "      <td>1</td>\n",
       "    </tr>\n",
       "    <tr>\n",
       "      <th>3</th>\n",
       "      <td>281940292</td>\n",
       "      <td>WeatherBug - Local Weather, Radar, Maps, Alerts</td>\n",
       "      <td>100524032</td>\n",
       "      <td>USD</td>\n",
       "      <td>0.00</td>\n",
       "      <td>188583</td>\n",
       "      <td>2822</td>\n",
       "      <td>3.5</td>\n",
       "      <td>4.5</td>\n",
       "      <td>5.0.0</td>\n",
       "      <td>4+</td>\n",
       "      <td>Weather</td>\n",
       "      <td>37</td>\n",
       "      <td>5</td>\n",
       "      <td>3</td>\n",
       "      <td>1</td>\n",
       "    </tr>\n",
       "    <tr>\n",
       "      <th>4</th>\n",
       "      <td>282614216</td>\n",
       "      <td>eBay: Best App to Buy, Sell, Save! Online Shop...</td>\n",
       "      <td>128512000</td>\n",
       "      <td>USD</td>\n",
       "      <td>0.00</td>\n",
       "      <td>262241</td>\n",
       "      <td>649</td>\n",
       "      <td>4.0</td>\n",
       "      <td>4.5</td>\n",
       "      <td>5.10.0</td>\n",
       "      <td>12+</td>\n",
       "      <td>Shopping</td>\n",
       "      <td>37</td>\n",
       "      <td>5</td>\n",
       "      <td>9</td>\n",
       "      <td>1</td>\n",
       "    </tr>\n",
       "    <tr>\n",
       "      <th>5</th>\n",
       "      <td>282935706</td>\n",
       "      <td>Bible</td>\n",
       "      <td>92774400</td>\n",
       "      <td>USD</td>\n",
       "      <td>0.00</td>\n",
       "      <td>985920</td>\n",
       "      <td>5320</td>\n",
       "      <td>4.5</td>\n",
       "      <td>5.0</td>\n",
       "      <td>7.5.1</td>\n",
       "      <td>4+</td>\n",
       "      <td>Reference</td>\n",
       "      <td>37</td>\n",
       "      <td>5</td>\n",
       "      <td>45</td>\n",
       "      <td>1</td>\n",
       "    </tr>\n",
       "    <tr>\n",
       "      <th>...</th>\n",
       "      <td>...</td>\n",
       "      <td>...</td>\n",
       "      <td>...</td>\n",
       "      <td>...</td>\n",
       "      <td>...</td>\n",
       "      <td>...</td>\n",
       "      <td>...</td>\n",
       "      <td>...</td>\n",
       "      <td>...</td>\n",
       "      <td>...</td>\n",
       "      <td>...</td>\n",
       "      <td>...</td>\n",
       "      <td>...</td>\n",
       "      <td>...</td>\n",
       "      <td>...</td>\n",
       "      <td>...</td>\n",
       "    </tr>\n",
       "    <tr>\n",
       "      <th>11081</th>\n",
       "      <td>1187617475</td>\n",
       "      <td>Kubik</td>\n",
       "      <td>126644224</td>\n",
       "      <td>USD</td>\n",
       "      <td>0.00</td>\n",
       "      <td>142</td>\n",
       "      <td>75</td>\n",
       "      <td>4.5</td>\n",
       "      <td>4.5</td>\n",
       "      <td>1.3</td>\n",
       "      <td>4+</td>\n",
       "      <td>Games</td>\n",
       "      <td>38</td>\n",
       "      <td>5</td>\n",
       "      <td>1</td>\n",
       "      <td>1</td>\n",
       "    </tr>\n",
       "    <tr>\n",
       "      <th>11082</th>\n",
       "      <td>1187682390</td>\n",
       "      <td>VR Roller-Coaster</td>\n",
       "      <td>120760320</td>\n",
       "      <td>USD</td>\n",
       "      <td>0.00</td>\n",
       "      <td>30</td>\n",
       "      <td>30</td>\n",
       "      <td>4.5</td>\n",
       "      <td>4.5</td>\n",
       "      <td>0.9</td>\n",
       "      <td>4+</td>\n",
       "      <td>Games</td>\n",
       "      <td>38</td>\n",
       "      <td>0</td>\n",
       "      <td>1</td>\n",
       "      <td>1</td>\n",
       "    </tr>\n",
       "    <tr>\n",
       "      <th>11087</th>\n",
       "      <td>1187779532</td>\n",
       "      <td>Bret Michaels Emojis + Lyric Keyboard</td>\n",
       "      <td>111322112</td>\n",
       "      <td>USD</td>\n",
       "      <td>1.99</td>\n",
       "      <td>15</td>\n",
       "      <td>0</td>\n",
       "      <td>4.5</td>\n",
       "      <td>0.0</td>\n",
       "      <td>1.0.2</td>\n",
       "      <td>9+</td>\n",
       "      <td>Utilities</td>\n",
       "      <td>37</td>\n",
       "      <td>1</td>\n",
       "      <td>1</td>\n",
       "      <td>1</td>\n",
       "    </tr>\n",
       "    <tr>\n",
       "      <th>11089</th>\n",
       "      <td>1187838770</td>\n",
       "      <td>VR Roller Coaster World - Virtual Reality</td>\n",
       "      <td>97235968</td>\n",
       "      <td>USD</td>\n",
       "      <td>0.00</td>\n",
       "      <td>85</td>\n",
       "      <td>32</td>\n",
       "      <td>4.5</td>\n",
       "      <td>4.5</td>\n",
       "      <td>1.0.15</td>\n",
       "      <td>12+</td>\n",
       "      <td>Games</td>\n",
       "      <td>38</td>\n",
       "      <td>0</td>\n",
       "      <td>2</td>\n",
       "      <td>1</td>\n",
       "    </tr>\n",
       "    <tr>\n",
       "      <th>11097</th>\n",
       "      <td>1188375727</td>\n",
       "      <td>Escape the Sweet Shop Series</td>\n",
       "      <td>90898432</td>\n",
       "      <td>USD</td>\n",
       "      <td>0.00</td>\n",
       "      <td>3</td>\n",
       "      <td>3</td>\n",
       "      <td>5.0</td>\n",
       "      <td>5.0</td>\n",
       "      <td>1.0</td>\n",
       "      <td>4+</td>\n",
       "      <td>Games</td>\n",
       "      <td>40</td>\n",
       "      <td>0</td>\n",
       "      <td>2</td>\n",
       "      <td>1</td>\n",
       "    </tr>\n",
       "  </tbody>\n",
       "</table>\n",
       "<p>7197 rows × 16 columns</p>\n",
       "</div>"
      ],
      "text/plain": [
       "               id                                         track_name  \\\n",
       "1       281656475                                    PAC-MAN Premium   \n",
       "2       281796108                          Evernote - stay organized   \n",
       "3       281940292    WeatherBug - Local Weather, Radar, Maps, Alerts   \n",
       "4       282614216  eBay: Best App to Buy, Sell, Save! Online Shop...   \n",
       "5       282935706                                              Bible   \n",
       "...           ...                                                ...   \n",
       "11081  1187617475                                              Kubik   \n",
       "11082  1187682390                                  VR Roller-Coaster   \n",
       "11087  1187779532              Bret Michaels Emojis + Lyric Keyboard   \n",
       "11089  1187838770          VR Roller Coaster World - Virtual Reality   \n",
       "11097  1188375727                       Escape the Sweet Shop Series   \n",
       "\n",
       "       size_bytes currency  price  rating_count_tot  rating_count_ver  \\\n",
       "1       100788224      USD   3.99             21292                26   \n",
       "2       158578688      USD   0.00            161065                26   \n",
       "3       100524032      USD   0.00            188583              2822   \n",
       "4       128512000      USD   0.00            262241               649   \n",
       "5        92774400      USD   0.00            985920              5320   \n",
       "...           ...      ...    ...               ...               ...   \n",
       "11081   126644224      USD   0.00               142                75   \n",
       "11082   120760320      USD   0.00                30                30   \n",
       "11087   111322112      USD   1.99                15                 0   \n",
       "11089    97235968      USD   0.00                85                32   \n",
       "11097    90898432      USD   0.00                 3                 3   \n",
       "\n",
       "       user_rating  user_rating_ver     ver cont_rating   prime_genre  \\\n",
       "1              4.0              4.5   6.3.5          4+         Games   \n",
       "2              4.0              3.5   8.2.2          4+  Productivity   \n",
       "3              3.5              4.5   5.0.0          4+       Weather   \n",
       "4              4.0              4.5  5.10.0         12+      Shopping   \n",
       "5              4.5              5.0   7.5.1          4+     Reference   \n",
       "...            ...              ...     ...         ...           ...   \n",
       "11081          4.5              4.5     1.3          4+         Games   \n",
       "11082          4.5              4.5     0.9          4+         Games   \n",
       "11087          4.5              0.0   1.0.2          9+     Utilities   \n",
       "11089          4.5              4.5  1.0.15         12+         Games   \n",
       "11097          5.0              5.0     1.0          4+         Games   \n",
       "\n",
       "       sup_devices.num  ipadSc_urls.num  lang.num  vpp_lic  \n",
       "1                   38                5        10        1  \n",
       "2                   37                5        23        1  \n",
       "3                   37                5         3        1  \n",
       "4                   37                5         9        1  \n",
       "5                   37                5        45        1  \n",
       "...                ...              ...       ...      ...  \n",
       "11081               38                5         1        1  \n",
       "11082               38                0         1        1  \n",
       "11087               37                1         1        1  \n",
       "11089               38                0         2        1  \n",
       "11097               40                0         2        1  \n",
       "\n",
       "[7197 rows x 16 columns]"
      ]
     },
     "execution_count": 7,
     "metadata": {},
     "output_type": "execute_result"
    }
   ],
   "source": [
    "FILEPATH = \"../datasets/AppleStore.csv\"\n",
    "df = pd.read_csv(FILEPATH, index_col=\"Unnamed: 0\")\n",
    "df"
   ]
  },
  {
   "cell_type": "markdown",
   "metadata": {},
   "source": [
    "## Some good questions to keep in mind:\n",
    "- Any convoluted data?\n",
    "- Any repeated data?\n",
    "- Any redundant data?\n",
    "- Any data that's difficult to understand?\n",
    "---\n",
    "- Remove **unclean data**\n",
    "    - irregularities in data types\n",
    "    - inconsistencies in how data was recorded\n",
    "    - inappropriate data values (e.g. ```null``` values)"
   ]
  },
  {
   "cell_type": "markdown",
   "metadata": {},
   "source": [
    "## .iloc[] and .loc[]\n",
    "- ```.iloc[]``` and ```.loc[]``` are selector tools in Pandas to view a single or multiple rows, columns, and/or cells in a datasets\n",
    "- `.iloc[]` is useful for selecting data by **index**\n",
    "- `.loc[]` is useful for selecting data by **label**"
   ]
  },
  {
   "cell_type": "code",
   "execution_count": 8,
   "metadata": {},
   "outputs": [
    {
     "data": {
      "text/plain": [
       "1.726217868556343"
      ]
     },
     "execution_count": 8,
     "metadata": {},
     "output_type": "execute_result"
    }
   ],
   "source": [
    "# df.iloc[0] #get first index = PACMAN\n",
    "# df.loc[1] #get first label = PACMAN\n",
    "# df.iloc[:3] # get top 3\n",
    "# df.loc[:3] # get top 3\n",
    "# df.head() #peeks top 5\n",
    "# df.tail() #peeks bottom 5\n",
    "# df.price.mean() #does the same as line below\n",
    "df[\"price\"].mean()"
   ]
  },
  {
   "cell_type": "code",
   "execution_count": 9,
   "metadata": {},
   "outputs": [],
   "source": [
    "# df.describe() # show general column-formatted information on the dataset"
   ]
  },
  {
   "cell_type": "code",
   "execution_count": 10,
   "metadata": {},
   "outputs": [
    {
     "data": {
      "text/html": [
       "<div>\n",
       "<style scoped>\n",
       "    .dataframe tbody tr th:only-of-type {\n",
       "        vertical-align: middle;\n",
       "    }\n",
       "\n",
       "    .dataframe tbody tr th {\n",
       "        vertical-align: top;\n",
       "    }\n",
       "\n",
       "    .dataframe thead th {\n",
       "        text-align: right;\n",
       "    }\n",
       "</style>\n",
       "<table border=\"1\" class=\"dataframe\">\n",
       "  <thead>\n",
       "    <tr style=\"text-align: right;\">\n",
       "      <th></th>\n",
       "      <th>track_name</th>\n",
       "      <th>currency</th>\n",
       "      <th>ver</th>\n",
       "      <th>cont_rating</th>\n",
       "      <th>prime_genre</th>\n",
       "    </tr>\n",
       "  </thead>\n",
       "  <tbody>\n",
       "    <tr>\n",
       "      <th>count</th>\n",
       "      <td>7197</td>\n",
       "      <td>7197</td>\n",
       "      <td>7197</td>\n",
       "      <td>7197</td>\n",
       "      <td>7197</td>\n",
       "    </tr>\n",
       "    <tr>\n",
       "      <th>unique</th>\n",
       "      <td>7195</td>\n",
       "      <td>1</td>\n",
       "      <td>1590</td>\n",
       "      <td>4</td>\n",
       "      <td>23</td>\n",
       "    </tr>\n",
       "    <tr>\n",
       "      <th>top</th>\n",
       "      <td>VR Roller Coaster</td>\n",
       "      <td>USD</td>\n",
       "      <td>1.0</td>\n",
       "      <td>4+</td>\n",
       "      <td>Games</td>\n",
       "    </tr>\n",
       "    <tr>\n",
       "      <th>freq</th>\n",
       "      <td>2</td>\n",
       "      <td>7197</td>\n",
       "      <td>317</td>\n",
       "      <td>4433</td>\n",
       "      <td>3862</td>\n",
       "    </tr>\n",
       "  </tbody>\n",
       "</table>\n",
       "</div>"
      ],
      "text/plain": [
       "               track_name currency   ver cont_rating prime_genre\n",
       "count                7197     7197  7197        7197        7197\n",
       "unique               7195        1  1590           4          23\n",
       "top     VR Roller Coaster      USD   1.0          4+       Games\n",
       "freq                    2     7197   317        4433        3862"
      ]
     },
     "execution_count": 10,
     "metadata": {},
     "output_type": "execute_result"
    }
   ],
   "source": [
    "df.describe(include=\"O\")"
   ]
  },
  {
   "cell_type": "code",
   "execution_count": 11,
   "metadata": {},
   "outputs": [
    {
     "data": {
      "text/html": [
       "<div>\n",
       "<style scoped>\n",
       "    .dataframe tbody tr th:only-of-type {\n",
       "        vertical-align: middle;\n",
       "    }\n",
       "\n",
       "    .dataframe tbody tr th {\n",
       "        vertical-align: top;\n",
       "    }\n",
       "\n",
       "    .dataframe thead th {\n",
       "        text-align: right;\n",
       "    }\n",
       "</style>\n",
       "<table border=\"1\" class=\"dataframe\">\n",
       "  <thead>\n",
       "    <tr style=\"text-align: right;\">\n",
       "      <th></th>\n",
       "      <th>id</th>\n",
       "      <th>track_name</th>\n",
       "      <th>currency</th>\n",
       "      <th>price</th>\n",
       "      <th>rating_count_tot</th>\n",
       "      <th>rating_count_ver</th>\n",
       "      <th>user_rating</th>\n",
       "      <th>user_rating_ver</th>\n",
       "      <th>ver</th>\n",
       "      <th>cont_rating</th>\n",
       "      <th>prime_genre</th>\n",
       "      <th>sup_devices.num</th>\n",
       "      <th>ipadSc_urls.num</th>\n",
       "      <th>lang.num</th>\n",
       "      <th>vpp_lic</th>\n",
       "      <th>size_Mb</th>\n",
       "    </tr>\n",
       "  </thead>\n",
       "  <tbody>\n",
       "    <tr>\n",
       "      <th>1</th>\n",
       "      <td>281656475</td>\n",
       "      <td>PAC-MAN Premium</td>\n",
       "      <td>USD</td>\n",
       "      <td>3.99</td>\n",
       "      <td>21292</td>\n",
       "      <td>26</td>\n",
       "      <td>4.0</td>\n",
       "      <td>4.5</td>\n",
       "      <td>6.3.5</td>\n",
       "      <td>4+</td>\n",
       "      <td>Games</td>\n",
       "      <td>38</td>\n",
       "      <td>5</td>\n",
       "      <td>10</td>\n",
       "      <td>1</td>\n",
       "      <td>100.79</td>\n",
       "    </tr>\n",
       "    <tr>\n",
       "      <th>2</th>\n",
       "      <td>281796108</td>\n",
       "      <td>Evernote - stay organized</td>\n",
       "      <td>USD</td>\n",
       "      <td>0.00</td>\n",
       "      <td>161065</td>\n",
       "      <td>26</td>\n",
       "      <td>4.0</td>\n",
       "      <td>3.5</td>\n",
       "      <td>8.2.2</td>\n",
       "      <td>4+</td>\n",
       "      <td>Productivity</td>\n",
       "      <td>37</td>\n",
       "      <td>5</td>\n",
       "      <td>23</td>\n",
       "      <td>1</td>\n",
       "      <td>158.58</td>\n",
       "    </tr>\n",
       "    <tr>\n",
       "      <th>3</th>\n",
       "      <td>281940292</td>\n",
       "      <td>WeatherBug - Local Weather, Radar, Maps, Alerts</td>\n",
       "      <td>USD</td>\n",
       "      <td>0.00</td>\n",
       "      <td>188583</td>\n",
       "      <td>2822</td>\n",
       "      <td>3.5</td>\n",
       "      <td>4.5</td>\n",
       "      <td>5.0.0</td>\n",
       "      <td>4+</td>\n",
       "      <td>Weather</td>\n",
       "      <td>37</td>\n",
       "      <td>5</td>\n",
       "      <td>3</td>\n",
       "      <td>1</td>\n",
       "      <td>100.52</td>\n",
       "    </tr>\n",
       "    <tr>\n",
       "      <th>4</th>\n",
       "      <td>282614216</td>\n",
       "      <td>eBay: Best App to Buy, Sell, Save! Online Shop...</td>\n",
       "      <td>USD</td>\n",
       "      <td>0.00</td>\n",
       "      <td>262241</td>\n",
       "      <td>649</td>\n",
       "      <td>4.0</td>\n",
       "      <td>4.5</td>\n",
       "      <td>5.10.0</td>\n",
       "      <td>12+</td>\n",
       "      <td>Shopping</td>\n",
       "      <td>37</td>\n",
       "      <td>5</td>\n",
       "      <td>9</td>\n",
       "      <td>1</td>\n",
       "      <td>128.51</td>\n",
       "    </tr>\n",
       "    <tr>\n",
       "      <th>5</th>\n",
       "      <td>282935706</td>\n",
       "      <td>Bible</td>\n",
       "      <td>USD</td>\n",
       "      <td>0.00</td>\n",
       "      <td>985920</td>\n",
       "      <td>5320</td>\n",
       "      <td>4.5</td>\n",
       "      <td>5.0</td>\n",
       "      <td>7.5.1</td>\n",
       "      <td>4+</td>\n",
       "      <td>Reference</td>\n",
       "      <td>37</td>\n",
       "      <td>5</td>\n",
       "      <td>45</td>\n",
       "      <td>1</td>\n",
       "      <td>92.77</td>\n",
       "    </tr>\n",
       "    <tr>\n",
       "      <th>...</th>\n",
       "      <td>...</td>\n",
       "      <td>...</td>\n",
       "      <td>...</td>\n",
       "      <td>...</td>\n",
       "      <td>...</td>\n",
       "      <td>...</td>\n",
       "      <td>...</td>\n",
       "      <td>...</td>\n",
       "      <td>...</td>\n",
       "      <td>...</td>\n",
       "      <td>...</td>\n",
       "      <td>...</td>\n",
       "      <td>...</td>\n",
       "      <td>...</td>\n",
       "      <td>...</td>\n",
       "      <td>...</td>\n",
       "    </tr>\n",
       "    <tr>\n",
       "      <th>11081</th>\n",
       "      <td>1187617475</td>\n",
       "      <td>Kubik</td>\n",
       "      <td>USD</td>\n",
       "      <td>0.00</td>\n",
       "      <td>142</td>\n",
       "      <td>75</td>\n",
       "      <td>4.5</td>\n",
       "      <td>4.5</td>\n",
       "      <td>1.3</td>\n",
       "      <td>4+</td>\n",
       "      <td>Games</td>\n",
       "      <td>38</td>\n",
       "      <td>5</td>\n",
       "      <td>1</td>\n",
       "      <td>1</td>\n",
       "      <td>126.64</td>\n",
       "    </tr>\n",
       "    <tr>\n",
       "      <th>11082</th>\n",
       "      <td>1187682390</td>\n",
       "      <td>VR Roller-Coaster</td>\n",
       "      <td>USD</td>\n",
       "      <td>0.00</td>\n",
       "      <td>30</td>\n",
       "      <td>30</td>\n",
       "      <td>4.5</td>\n",
       "      <td>4.5</td>\n",
       "      <td>0.9</td>\n",
       "      <td>4+</td>\n",
       "      <td>Games</td>\n",
       "      <td>38</td>\n",
       "      <td>0</td>\n",
       "      <td>1</td>\n",
       "      <td>1</td>\n",
       "      <td>120.76</td>\n",
       "    </tr>\n",
       "    <tr>\n",
       "      <th>11087</th>\n",
       "      <td>1187779532</td>\n",
       "      <td>Bret Michaels Emojis + Lyric Keyboard</td>\n",
       "      <td>USD</td>\n",
       "      <td>1.99</td>\n",
       "      <td>15</td>\n",
       "      <td>0</td>\n",
       "      <td>4.5</td>\n",
       "      <td>0.0</td>\n",
       "      <td>1.0.2</td>\n",
       "      <td>9+</td>\n",
       "      <td>Utilities</td>\n",
       "      <td>37</td>\n",
       "      <td>1</td>\n",
       "      <td>1</td>\n",
       "      <td>1</td>\n",
       "      <td>111.32</td>\n",
       "    </tr>\n",
       "    <tr>\n",
       "      <th>11089</th>\n",
       "      <td>1187838770</td>\n",
       "      <td>VR Roller Coaster World - Virtual Reality</td>\n",
       "      <td>USD</td>\n",
       "      <td>0.00</td>\n",
       "      <td>85</td>\n",
       "      <td>32</td>\n",
       "      <td>4.5</td>\n",
       "      <td>4.5</td>\n",
       "      <td>1.0.15</td>\n",
       "      <td>12+</td>\n",
       "      <td>Games</td>\n",
       "      <td>38</td>\n",
       "      <td>0</td>\n",
       "      <td>2</td>\n",
       "      <td>1</td>\n",
       "      <td>97.24</td>\n",
       "    </tr>\n",
       "    <tr>\n",
       "      <th>11097</th>\n",
       "      <td>1188375727</td>\n",
       "      <td>Escape the Sweet Shop Series</td>\n",
       "      <td>USD</td>\n",
       "      <td>0.00</td>\n",
       "      <td>3</td>\n",
       "      <td>3</td>\n",
       "      <td>5.0</td>\n",
       "      <td>5.0</td>\n",
       "      <td>1.0</td>\n",
       "      <td>4+</td>\n",
       "      <td>Games</td>\n",
       "      <td>40</td>\n",
       "      <td>0</td>\n",
       "      <td>2</td>\n",
       "      <td>1</td>\n",
       "      <td>90.90</td>\n",
       "    </tr>\n",
       "  </tbody>\n",
       "</table>\n",
       "<p>7197 rows × 16 columns</p>\n",
       "</div>"
      ],
      "text/plain": [
       "               id                                         track_name currency  \\\n",
       "1       281656475                                    PAC-MAN Premium      USD   \n",
       "2       281796108                          Evernote - stay organized      USD   \n",
       "3       281940292    WeatherBug - Local Weather, Radar, Maps, Alerts      USD   \n",
       "4       282614216  eBay: Best App to Buy, Sell, Save! Online Shop...      USD   \n",
       "5       282935706                                              Bible      USD   \n",
       "...           ...                                                ...      ...   \n",
       "11081  1187617475                                              Kubik      USD   \n",
       "11082  1187682390                                  VR Roller-Coaster      USD   \n",
       "11087  1187779532              Bret Michaels Emojis + Lyric Keyboard      USD   \n",
       "11089  1187838770          VR Roller Coaster World - Virtual Reality      USD   \n",
       "11097  1188375727                       Escape the Sweet Shop Series      USD   \n",
       "\n",
       "       price  rating_count_tot  rating_count_ver  user_rating  \\\n",
       "1       3.99             21292                26          4.0   \n",
       "2       0.00            161065                26          4.0   \n",
       "3       0.00            188583              2822          3.5   \n",
       "4       0.00            262241               649          4.0   \n",
       "5       0.00            985920              5320          4.5   \n",
       "...      ...               ...               ...          ...   \n",
       "11081   0.00               142                75          4.5   \n",
       "11082   0.00                30                30          4.5   \n",
       "11087   1.99                15                 0          4.5   \n",
       "11089   0.00                85                32          4.5   \n",
       "11097   0.00                 3                 3          5.0   \n",
       "\n",
       "       user_rating_ver     ver cont_rating   prime_genre  sup_devices.num  \\\n",
       "1                  4.5   6.3.5          4+         Games               38   \n",
       "2                  3.5   8.2.2          4+  Productivity               37   \n",
       "3                  4.5   5.0.0          4+       Weather               37   \n",
       "4                  4.5  5.10.0         12+      Shopping               37   \n",
       "5                  5.0   7.5.1          4+     Reference               37   \n",
       "...                ...     ...         ...           ...              ...   \n",
       "11081              4.5     1.3          4+         Games               38   \n",
       "11082              4.5     0.9          4+         Games               38   \n",
       "11087              0.0   1.0.2          9+     Utilities               37   \n",
       "11089              4.5  1.0.15         12+         Games               38   \n",
       "11097              5.0     1.0          4+         Games               40   \n",
       "\n",
       "       ipadSc_urls.num  lang.num  vpp_lic  size_Mb  \n",
       "1                    5        10        1   100.79  \n",
       "2                    5        23        1   158.58  \n",
       "3                    5         3        1   100.52  \n",
       "4                    5         9        1   128.51  \n",
       "5                    5        45        1    92.77  \n",
       "...                ...       ...      ...      ...  \n",
       "11081                5         1        1   126.64  \n",
       "11082                0         1        1   120.76  \n",
       "11087                1         1        1   111.32  \n",
       "11089                0         2        1    97.24  \n",
       "11097                0         2        1    90.90  \n",
       "\n",
       "[7197 rows x 16 columns]"
      ]
     },
     "execution_count": 11,
     "metadata": {},
     "output_type": "execute_result"
    }
   ],
   "source": [
    "#gab size_bytes data and divide to give us our new size_Mb column\n",
    "def _byte_resizer(data):\n",
    "    return np.around(data / 1000000, decimals=2)\n",
    "\n",
    "df[\"size_Mb\"] = df[\"size_bytes\"].apply(_byte_resizer)\n",
    "df.drop(\"size_bytes\", axis=\"columns\", inplace=True)\n",
    "df"
   ]
  },
  {
   "cell_type": "markdown",
   "metadata": {},
   "source": [
    "## Page 3: Creating Basic Visualization\n",
    "##### Part 2: Exploratory Data Science\n",
    "https://www.makeschool.com/academy/track/standalone/app-store-dataset-tutorial/creating-basic-visualizations"
   ]
  },
  {
   "cell_type": "code",
   "execution_count": 12,
   "metadata": {},
   "outputs": [
    {
     "data": {
      "text/plain": [
       "<matplotlib.axes._subplots.AxesSubplot at 0x1090ac510>"
      ]
     },
     "execution_count": 12,
     "metadata": {},
     "output_type": "execute_result"
    },
    {
     "data": {
      "image/png": "[encoded data removed]",
      "text/plain": [
       "<Figure size 720x576 with 1 Axes>"
      ]
     },
     "metadata": {},
     "output_type": "display_data"
    }
   ],
   "source": [
    "plt.subplots(figsize=(10, 8))\n",
    "BINS = [0.00, 10.00, 20.00, 50.00, 100.00, 200.00, 500.00, 1000.00, 2000.00, np.inf]\n",
    "LABELS = [\"<10m\", \"10-20m\", \"20-50m\", \"50-100m\", \"100-200m\", \"200-500m\", \"500-1000m\", \"1-2G\", \">2G\"]\n",
    "freqs = pd.cut(df[\"size_Mb\"], BINS, include_lowest=True, labels=LABELS)\n",
    "sns.barplot(y=freqs.value_counts().values, x=freqs.value_counts().index)\n"
   ]
  },
  {
   "cell_type": "code",
   "execution_count": 13,
   "metadata": {},
   "outputs": [
    {
     "data": {
      "text/plain": [
       "(-1.1057396083108322,\n",
       " 1.1002733599434824,\n",
       " -1.1276675874208923,\n",
       " 1.1112839653444184)"
      ]
     },
     "execution_count": 13,
     "metadata": {},
     "output_type": "execute_result"
    },
    {
     "data": {
      "image/png": "[encoded data removed]",
      "text/plain": [
       "<Figure size 720x360 with 1 Axes>"
      ]
     },
     "metadata": {},
     "output_type": "display_data"
    }
   ],
   "source": [
    "BINS = [-np.inf, 0.00, np.inf]\n",
    "LABELS = [\"FREE\", \"PAID\"]\n",
    "colors = ['lightcoral', 'yellowgreen']\n",
    "df[\"price_categories\"] = pd.cut(df[\"price\"], BINS, include_lowest=True, labels=LABELS)\n",
    "fig, axs = plt.subplots(figsize=(10, 5)) #initialize our plotting space in MatPlotLib.\n",
    "price_df = df[\"price_categories\"].value_counts()\n",
    "\n",
    "#Now create a doughnut plot in MapPlotLib\n",
    "plt.pie(price_df.values, labels=LABELS, colors=colors, autopct='%1.1f%%', shadow=True)\n",
    "centre_circle = plt.Circle((0,0),0.75,color='black', fc='white',linewidth=1.25)\n",
    "fig = plt.gcf()\n",
    "fig.gca().add_artist(centre_circle)\n",
    "plt.axis('equal')"
   ]
  },
  {
   "cell_type": "markdown",
   "metadata": {},
   "source": [
    "### Let's keep moving with this idea and check out the highest rated free and paid apps."
   ]
  },
  {
   "cell_type": "code",
   "execution_count": 14,
   "metadata": {},
   "outputs": [
    {
     "data": {
      "text/plain": [
       "<matplotlib.axes._subplots.AxesSubplot at 0x124a5a090>"
      ]
     },
     "execution_count": 14,
     "metadata": {},
     "output_type": "execute_result"
    },
    {
     "data": {
      "image/png": "[encoded data removed]",
      "text/plain": [
       "<Figure size 432x288 with 1 Axes>"
      ]
     },
     "metadata": {},
     "output_type": "display_data"
    }
   ],
   "source": [
    "free_apps = df.loc[df[\"price_categories\"] == \"FREE\"]\n",
    "paid_apps = df.loc[df[\"price_categories\"] == \"PAID\"]\n",
    "# sort data based on total user ratings\n",
    "free_apps_rated = free_apps.sort_values(by=[\"rating_count_tot\"], ascending=False)\n",
    "paid_apps_rated = paid_apps.sort_values(by=[\"rating_count_tot\"], ascending=False)\n",
    "# plot free apps\n",
    "sns.barplot(x=free_apps_rated[\"rating_count_tot\"][:10], y=free_apps_rated[\"track_name\"][:10])"
   ]
  },
  {
   "cell_type": "code",
   "execution_count": 15,
   "metadata": {},
   "outputs": [
    {
     "data": {
      "text/plain": [
       "<matplotlib.axes._subplots.AxesSubplot at 0x124cb08d0>"
      ]
     },
     "execution_count": 15,
     "metadata": {},
     "output_type": "execute_result"
    },
    {
     "data": {
      "image/png": "[encoded data removed]",
      "text/plain": [
       "<Figure size 432x288 with 1 Axes>"
      ]
     },
     "metadata": {},
     "output_type": "display_data"
    }
   ],
   "source": [
    "# plot paid apps\n",
    "sns.barplot(x=paid_apps_rated[\"rating_count_tot\"][:10], y=paid_apps_rated[\"track_name\"][:10])"
   ]
  },
  {
   "cell_type": "code",
   "execution_count": 16,
   "metadata": {},
   "outputs": [
    {
     "data": {
      "text/plain": [
       "<matplotlib.axes._subplots.AxesSubplot at 0x124dbd190>"
      ]
     },
     "execution_count": 16,
     "metadata": {},
     "output_type": "execute_result"
    },
    {
     "data": {
      "image/png": "[encoded data removed]",
      "text/plain": [
       "<Figure size 1440x1440 with 1 Axes>"
      ]
     },
     "metadata": {},
     "output_type": "display_data"
    }
   ],
   "source": [
    "plt.subplots(figsize=(20, 20))\n",
    "ratings = df.sort_values(by=[\"rating_count_tot\"], ascending=False) #descending sort of total rating count\n",
    "sns.barplot(x=ratings[\"rating_count_tot\"][:30], y=ratings[\"track_name\"][:30]) #plot the first 30 rated"
   ]
  },
  {
   "cell_type": "markdown",
   "metadata": {},
   "source": [
    "## Page 4 See Games with Us\n",
    "##### Part 3: Exploratory Data Science (finale)\n",
    "https://www.makeschool.com/academy/track/standalone/app-store-dataset-tutorial/see-games-with-us"
   ]
  },
  {
   "cell_type": "markdown",
   "metadata": {},
   "source": [
    "### Visualize the distribution of apps based on genre"
   ]
  },
  {
   "cell_type": "code",
   "execution_count": 27,
   "metadata": {},
   "outputs": [
    {
     "data": {
      "text/plain": [
       "Games                3862\n",
       "Entertainment         535\n",
       "Education             453\n",
       "Photo & Video         349\n",
       "Utilities             248\n",
       "Health & Fitness      180\n",
       "Productivity          178\n",
       "Social Networking     167\n",
       "Lifestyle             144\n",
       "Music                 138\n",
       "Shopping              122\n",
       "Sports                114\n",
       "Book                  112\n",
       "Finance               104\n",
       "Travel                 81\n",
       "News                   75\n",
       "Weather                72\n",
       "Reference              64\n",
       "Food & Drink           63\n",
       "Business               57\n",
       "Navigation             46\n",
       "Medical                23\n",
       "Catalogs               10\n",
       "Name: prime_genre, dtype: int64"
      ]
     },
     "execution_count": 27,
     "metadata": {},
     "output_type": "execute_result"
    }
   ],
   "source": [
    "df[\"prime_genre\"].value_counts()"
   ]
  },
  {
   "cell_type": "code",
   "execution_count": null,
   "metadata": {},
   "outputs": [],
   "source": []
  },
  {
   "cell_type": "code",
   "execution_count": 20,
   "metadata": {},
   "outputs": [
    {
     "data": {
      "text/plain": [
       "<matplotlib.axes._subplots.AxesSubplot at 0x12503b3d0>"
      ]
     },
     "execution_count": 20,
     "metadata": {},
     "output_type": "execute_result"
    },
    {
     "data": {
      "image/png": "[encoded data removed]",
      "text/plain": [
       "<Figure size 1440x720 with 1 Axes>"
      ]
     },
     "metadata": {},
     "output_type": "display_data"
    }
   ],
   "source": [
    "genres = df[\"prime_genre\"].value_counts()\n",
    "genres.sort_values(ascending=False, inplace=True) #default\n",
    "\n",
    "plt.subplots(figsize=(20, 10))\n",
    "sns.barplot(x=genres.values, y=genres.index, order=genres.index, orient=\"h\")"
   ]
  },
  {
   "cell_type": "markdown",
   "metadata": {},
   "source": [
    "###  Slice our data to grab only the mobile games"
   ]
  },
  {
   "cell_type": "code",
   "execution_count": 29,
   "metadata": {
    "scrolled": true
   },
   "outputs": [
    {
     "data": {
      "text/html": [
       "<div>\n",
       "<style scoped>\n",
       "    .dataframe tbody tr th:only-of-type {\n",
       "        vertical-align: middle;\n",
       "    }\n",
       "\n",
       "    .dataframe tbody tr th {\n",
       "        vertical-align: top;\n",
       "    }\n",
       "\n",
       "    .dataframe thead th {\n",
       "        text-align: right;\n",
       "    }\n",
       "</style>\n",
       "<table border=\"1\" class=\"dataframe\">\n",
       "  <thead>\n",
       "    <tr style=\"text-align: right;\">\n",
       "      <th></th>\n",
       "      <th>id</th>\n",
       "      <th>track_name</th>\n",
       "      <th>currency</th>\n",
       "      <th>price</th>\n",
       "      <th>rating_count_tot</th>\n",
       "      <th>rating_count_ver</th>\n",
       "      <th>user_rating</th>\n",
       "      <th>user_rating_ver</th>\n",
       "      <th>ver</th>\n",
       "      <th>cont_rating</th>\n",
       "      <th>prime_genre</th>\n",
       "      <th>sup_devices.num</th>\n",
       "      <th>ipadSc_urls.num</th>\n",
       "      <th>lang.num</th>\n",
       "      <th>vpp_lic</th>\n",
       "      <th>size_Mb</th>\n",
       "      <th>price_categories</th>\n",
       "    </tr>\n",
       "  </thead>\n",
       "  <tbody>\n",
       "    <tr>\n",
       "      <th>1</th>\n",
       "      <td>281656475</td>\n",
       "      <td>PAC-MAN Premium</td>\n",
       "      <td>USD</td>\n",
       "      <td>3.99</td>\n",
       "      <td>21292</td>\n",
       "      <td>26</td>\n",
       "      <td>4.0</td>\n",
       "      <td>4.5</td>\n",
       "      <td>6.3.5</td>\n",
       "      <td>4+</td>\n",
       "      <td>Games</td>\n",
       "      <td>38</td>\n",
       "      <td>5</td>\n",
       "      <td>10</td>\n",
       "      <td>1</td>\n",
       "      <td>100.79</td>\n",
       "      <td>PAID</td>\n",
       "    </tr>\n",
       "    <tr>\n",
       "      <th>6</th>\n",
       "      <td>283619399</td>\n",
       "      <td>Shanghai Mahjong</td>\n",
       "      <td>USD</td>\n",
       "      <td>0.99</td>\n",
       "      <td>8253</td>\n",
       "      <td>5516</td>\n",
       "      <td>4.0</td>\n",
       "      <td>4.0</td>\n",
       "      <td>1.8</td>\n",
       "      <td>4+</td>\n",
       "      <td>Games</td>\n",
       "      <td>47</td>\n",
       "      <td>5</td>\n",
       "      <td>1</td>\n",
       "      <td>1</td>\n",
       "      <td>10.49</td>\n",
       "      <td>PAID</td>\n",
       "    </tr>\n",
       "    <tr>\n",
       "      <th>10</th>\n",
       "      <td>284736660</td>\n",
       "      <td>Ms. PAC-MAN</td>\n",
       "      <td>USD</td>\n",
       "      <td>3.99</td>\n",
       "      <td>7885</td>\n",
       "      <td>40</td>\n",
       "      <td>4.0</td>\n",
       "      <td>4.0</td>\n",
       "      <td>4.0.4</td>\n",
       "      <td>4+</td>\n",
       "      <td>Games</td>\n",
       "      <td>38</td>\n",
       "      <td>0</td>\n",
       "      <td>10</td>\n",
       "      <td>1</td>\n",
       "      <td>70.02</td>\n",
       "      <td>PAID</td>\n",
       "    </tr>\n",
       "    <tr>\n",
       "      <th>11</th>\n",
       "      <td>284791396</td>\n",
       "      <td>Solitaire by MobilityWare</td>\n",
       "      <td>USD</td>\n",
       "      <td>4.99</td>\n",
       "      <td>76720</td>\n",
       "      <td>4017</td>\n",
       "      <td>4.5</td>\n",
       "      <td>4.5</td>\n",
       "      <td>4.10.1</td>\n",
       "      <td>4+</td>\n",
       "      <td>Games</td>\n",
       "      <td>38</td>\n",
       "      <td>4</td>\n",
       "      <td>11</td>\n",
       "      <td>1</td>\n",
       "      <td>49.62</td>\n",
       "      <td>PAID</td>\n",
       "    </tr>\n",
       "    <tr>\n",
       "      <th>12</th>\n",
       "      <td>284815117</td>\n",
       "      <td>SCRABBLE Premium</td>\n",
       "      <td>USD</td>\n",
       "      <td>7.99</td>\n",
       "      <td>105776</td>\n",
       "      <td>166</td>\n",
       "      <td>3.5</td>\n",
       "      <td>2.5</td>\n",
       "      <td>5.19.0</td>\n",
       "      <td>4+</td>\n",
       "      <td>Games</td>\n",
       "      <td>37</td>\n",
       "      <td>0</td>\n",
       "      <td>6</td>\n",
       "      <td>1</td>\n",
       "      <td>227.55</td>\n",
       "      <td>PAID</td>\n",
       "    </tr>\n",
       "  </tbody>\n",
       "</table>\n",
       "</div>"
      ],
      "text/plain": [
       "           id                 track_name currency  price  rating_count_tot  \\\n",
       "1   281656475            PAC-MAN Premium      USD   3.99             21292   \n",
       "6   283619399           Shanghai Mahjong      USD   0.99              8253   \n",
       "10  284736660                Ms. PAC-MAN      USD   3.99              7885   \n",
       "11  284791396  Solitaire by MobilityWare      USD   4.99             76720   \n",
       "12  284815117           SCRABBLE Premium      USD   7.99            105776   \n",
       "\n",
       "    rating_count_ver  user_rating  user_rating_ver     ver cont_rating  \\\n",
       "1                 26          4.0              4.5   6.3.5          4+   \n",
       "6               5516          4.0              4.0     1.8          4+   \n",
       "10                40          4.0              4.0   4.0.4          4+   \n",
       "11              4017          4.5              4.5  4.10.1          4+   \n",
       "12               166          3.5              2.5  5.19.0          4+   \n",
       "\n",
       "   prime_genre  sup_devices.num  ipadSc_urls.num  lang.num  vpp_lic  size_Mb  \\\n",
       "1        Games               38                5        10        1   100.79   \n",
       "6        Games               47                5         1        1    10.49   \n",
       "10       Games               38                0        10        1    70.02   \n",
       "11       Games               38                4        11        1    49.62   \n",
       "12       Games               37                0         6        1   227.55   \n",
       "\n",
       "   price_categories  \n",
       "1              PAID  \n",
       "6              PAID  \n",
       "10             PAID  \n",
       "11             PAID  \n",
       "12             PAID  "
      ]
     },
     "execution_count": 29,
     "metadata": {},
     "output_type": "execute_result"
    }
   ],
   "source": [
    "games = df.loc[df[\"prime_genre\"] == \"Games\"]\n",
    "games.head()"
   ]
  },
  {
   "cell_type": "code",
   "execution_count": 34,
   "metadata": {},
   "outputs": [
    {
     "data": {
      "text/plain": [
       "0.00     2257\n",
       "0.99      435\n",
       "2.99      317\n",
       "1.99      274\n",
       "4.99      226\n",
       "6.99      135\n",
       "3.99      120\n",
       "9.99       34\n",
       "5.99       18\n",
       "7.99       14\n",
       "14.99      13\n",
       "8.99        3\n",
       "11.99       2\n",
       "12.99       2\n",
       "19.99       2\n",
       "17.99       2\n",
       "15.99       2\n",
       "13.99       2\n",
       "24.99       1\n",
       "29.99       1\n",
       "20.99       1\n",
       "16.99       1\n",
       "Name: price, dtype: int64"
      ]
     },
     "execution_count": 34,
     "metadata": {},
     "output_type": "execute_result"
    }
   ],
   "source": [
    "games[\"price\"].value_counts()"
   ]
  },
  {
   "cell_type": "code",
   "execution_count": 37,
   "metadata": {},
   "outputs": [
    {
     "data": {
      "text/plain": [
       "0.00     58.441222\n",
       "0.99     11.263594\n",
       "2.99      8.208182\n",
       "1.99      7.094770\n",
       "4.99      5.851890\n",
       "6.99      3.495598\n",
       "3.99      3.107198\n",
       "9.99      0.880373\n",
       "5.99      0.466080\n",
       "7.99      0.362506\n",
       "14.99     0.336613\n",
       "8.99      0.077680\n",
       "11.99     0.051787\n",
       "12.99     0.051787\n",
       "19.99     0.051787\n",
       "17.99     0.051787\n",
       "15.99     0.051787\n",
       "13.99     0.051787\n",
       "20.99     0.025893\n",
       "24.99     0.025893\n",
       "29.99     0.025893\n",
       "16.99     0.025893\n",
       "Name: price, dtype: float64"
      ]
     },
     "execution_count": 37,
     "metadata": {},
     "output_type": "execute_result"
    }
   ],
   "source": [
    "#cell to hold mobile game data by price.\n",
    "prices = (games[\"price\"].value_counts()) / (games[\"price\"].shape[0]) * 100 #divide sum of a certain price by the sum of all games (3862) * 100 //to get the percentage\n",
    "prices.sort_values(ascending=False, inplace=True)\n",
    "prices"
   ]
  },
  {
   "cell_type": "code",
   "execution_count": 38,
   "metadata": {},
   "outputs": [
    {
     "data": {
      "text/plain": [
       "[Text(0, 0.5, 'percent (%)'), Text(0.5, 0, 'USD')]"
      ]
     },
     "execution_count": 38,
     "metadata": {},
     "output_type": "execute_result"
    },
    {
     "data": {
      "image/png": "[encoded data removed]",
      "text/plain": [
       "<Figure size 1440x720 with 1 Axes>"
      ]
     },
     "metadata": {},
     "output_type": "display_data"
    }
   ],
   "source": [
    "plt.subplots(figsize=(20, 10))\n",
    "ax = sns.barplot(y=prices.values, x=prices.index, order=prices.index)\n",
    "ax.set(xlabel=\"USD\", ylabel=\"percent (%)\")"
   ]
  },
  {
   "cell_type": "markdown",
   "metadata": {},
   "source": [
    "### Visualizations looking at mobile game popularity."
   ]
  },
  {
   "cell_type": "code",
   "execution_count": 39,
   "metadata": {},
   "outputs": [
    {
     "ename": "SyntaxError",
     "evalue": "EOL while scanning string literal (<ipython-input-39-e6f2fece69ea>, line 6)",
     "output_type": "error",
     "traceback": [
      "\u001b[0;36m  File \u001b[0;32m\"<ipython-input-39-e6f2fece69ea>\"\u001b[0;36m, line \u001b[0;32m6\u001b[0m\n\u001b[0;31m    Then, let's initialize our plotting space (in a new cell), this time using subplots eloquently to display two plots dynamically.\u001b[0m\n\u001b[0m                                                                                                                                    ^\u001b[0m\n\u001b[0;31mSyntaxError\u001b[0m\u001b[0;31m:\u001b[0m EOL while scanning string literal\n"
     ]
    }
   ],
   "source": [
    "free_games = games.loc[games[\"price_categories\"] == \"FREE\"]\n",
    "paid_games = games.loc[games[\"price_categories\"] == \"PAID\"]\n",
    "\n",
    "free_games_rated = free_games.sort_values(by=[\"rating_count_tot\"], ascending=False)\n",
    "paid_games_rated = paid_games.sort_values(by=[\"rating_count_tot\"], ascending=False)\n",
    "# Then, let's initialize our plotting space (in a new cell), this time using subplots eloquently to display two plots dynamically.\n",
    "\n",
    "fig = plt.figure(figsize=(20, 10))\n",
    "ax1 = fig.add_subplot(211)\n",
    "ax2 = fig.add_subplot(212)\n",
    "Finally, let's create two barplots for top rated free and paid mobile apps. In a new cell.\n",
    "\n",
    "sns.barplot(x=free_games_rated[\"rating_count_tot\"][:10], y=free_games_rated[\"track_name\"][:10], ax=ax1)\n",
    "sns.barplot(x=paid_games_rated[\"rating_count_tot\"][:10], y=paid_games_rated[\"track_name\"][:10], ax=ax2)"
   ]
  },
  {
   "cell_type": "code",
   "execution_count": null,
   "metadata": {},
   "outputs": [],
   "source": []
  },
  {
   "cell_type": "code",
   "execution_count": null,
   "metadata": {},
   "outputs": [],
   "source": []
  }
 ],
 "metadata": {
  "kernelspec": {
   "display_name": "Python 3",
   "language": "python",
   "name": "python3"
  },
  "language_info": {
   "codemirror_mode": {
    "name": "ipython",
    "version": 3
   },
   "file_extension": ".py",
   "mimetype": "text/x-python",
   "name": "python",
   "nbconvert_exporter": "python",
   "pygments_lexer": "ipython3",
   "version": "3.7.4"
  }
 },
 "nbformat": 4,
 "nbformat_minor": 2
}
