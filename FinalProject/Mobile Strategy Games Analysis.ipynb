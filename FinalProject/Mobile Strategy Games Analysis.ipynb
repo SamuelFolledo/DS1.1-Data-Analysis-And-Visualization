{
 "cells": [
  {
   "cell_type": "markdown",
   "metadata": {},
   "source": [
    "# Final Project: 17k Mobile Strategy Games Analysis\n",
    "Samuel Folledo's final project for [DS1.1](https://github.com/Make-School-Courses/DS-1.1-Data-Analysis)\n",
    "\n",
    "Thank you Tristan for the [17K Mobile Strategy Games\n",
    "Every strategy game on the Apple App Store Dataset](https://www.kaggle.com/tristan581/17k-apple-app-store-strategy-games)"
   ]
  },
  {
   "cell_type": "code",
   "execution_count": null,
   "metadata": {},
   "outputs": [],
   "source": []
  }
 ],
 "metadata": {
  "kernelspec": {
   "display_name": "Python 3",
   "language": "python",
   "name": "python3"
  },
  "language_info": {
   "codemirror_mode": {
    "name": "ipython",
    "version": 3
   },
   "file_extension": ".py",
   "mimetype": "text/x-python",
   "name": "python",
   "nbconvert_exporter": "python",
   "pygments_lexer": "ipython3",
   "version": "3.7.4"
  }
 },
 "nbformat": 4,
 "nbformat_minor": 2
}
