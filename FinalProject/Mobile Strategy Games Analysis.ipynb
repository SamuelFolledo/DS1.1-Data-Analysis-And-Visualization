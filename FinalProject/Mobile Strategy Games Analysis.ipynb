{
 "cells": [
  {
   "cell_type": "markdown",
   "metadata": {},
   "source": [
    "# Final Project: 17k App Store Strategy Games Analysis\n",
    "Samuel Folledo's final project for [DS1.1](https://github.com/Make-School-Courses/DS-1.1-Data-Analysis)\n",
    "\n",
    "Thank you Tristan for the [17K Mobile Strategy Games\n",
    "Every strategy game on the Apple App Store Dataset](https://www.kaggle.com/tristan581/17k-apple-app-store-strategy-games) collected on the 3rd of August 2019"
   ]
  },
  {
   "cell_type": "code",
   "execution_count": 320,
   "metadata": {},
   "outputs": [
    {
     "name": "stdout",
     "output_type": "stream",
     "text": [
      "<class 'pandas.core.frame.DataFrame'>\n",
      "RangeIndex: 17007 entries, 0 to 17006\n",
      "Data columns (total 18 columns):\n",
      "URL                             17007 non-null object\n",
      "ID                              17007 non-null int64\n",
      "Name                            17007 non-null object\n",
      "Subtitle                        5261 non-null object\n",
      "Icon URL                        17007 non-null object\n",
      "Average User Rating             7561 non-null float64\n",
      "User Rating Count               7561 non-null float64\n",
      "Price                           16983 non-null float64\n",
      "In-app Purchases                7683 non-null object\n",
      "Description                     17007 non-null object\n",
      "Developer                       17007 non-null object\n",
      "Age Rating                      17007 non-null object\n",
      "Languages                       16947 non-null object\n",
      "Size                            17006 non-null float64\n",
      "Primary Genre                   17007 non-null object\n",
      "Genres                          17007 non-null object\n",
      "Original Release Date           17007 non-null object\n",
      "Current Version Release Date    17007 non-null object\n",
      "dtypes: float64(4), int64(1), object(13)\n",
      "memory usage: 2.3+ MB\n"
     ]
    }
   ],
   "source": [
    "# Pandas is a library for basic data analysis\n",
    "import pandas as pd\n",
    "\n",
    "# NumPy is a library for advanced mathematical computation\n",
    "import numpy as np\n",
    "\n",
    "# MatPlotLib is a library for basic data visualization\n",
    "import matplotlib.pyplot as plt\n",
    "\n",
    "# SeaBorn is a library for advanced data visualization\n",
    "import seaborn as sns\n",
    "\n",
    "FILEPATH = \"appstore_games.csv\"\n",
    "df = pd.read_csv(FILEPATH, \n",
    "                 na_values = ['#ERROR!', \"nan\", \"NaN\", \"Nan\", \"NA\", \"NA / NaN\"], encoding=\"utf-8\"\n",
    "#                  names= ['Name', 'Average User Rating',\n",
    "#        'User Rating Count', 'Price', 'In-app Purchases', 'Description',\n",
    "#        'Developer', 'Age Rating', 'Languages', 'Size', 'Primary Genre',\n",
    "#        'Genres', 'Original Release Date', 'Current Version Release Date']\n",
    "                )\n",
    "df.info() #17007, 18"
   ]
  },
  {
   "cell_type": "markdown",
   "metadata": {},
   "source": [
    "## Clean the dataframe\n",
    "1. removed the following columns: URL, ID, Subtitle, Icon URL \n",
    "2. turn Age Rating from str type (4+, 9+, 12+ 17+) to int type\n",
    "3. specify data types"
   ]
  },
  {
   "cell_type": "code",
   "execution_count": 3,
   "metadata": {},
   "outputs": [],
   "source": [
    "#1.\n",
    "to_drop = [\"URL\", \"ID\", \"Subtitle\", \"Icon URL\"]\n",
    "df.drop(to_drop, inplace=True, axis=1)\n",
    "\n",
    "#2\n",
    "df['Age Rating'] = df.apply(lambda x: x['Age Rating'].replace('+', ''), axis=1) #remove all \"+\" in Age Rating to turn it into an int type\n",
    "df['Age Rating'] = df['Age Rating'].astype(int)\n",
    "# print(df['Age Rating'].value_counts())\n",
    "\n",
    "#Specify data type of non-strings\n",
    "df['Name'] = df['Name'].astype(str)\n",
    "df[\"Name\"].replace({r'[^\\x00-\\x7F]+':''}, regex=True, inplace=True)\n",
    "# df.Lastname.replace({r'[^\\x00-\\x7F]+':''}, regex=True, inplace=True)\n",
    "# df[df['Average User Rating']].value_counts()\n",
    "\n",
    "# df.shape\n",
    "# for name in df.Name.unique():\n",
    "#     if len(name) > 50: #prin\n",
    "#         print(\"===\",name)"
   ]
  },
  {
   "cell_type": "code",
   "execution_count": 176,
   "metadata": {},
   "outputs": [
    {
     "data": {
      "text/plain": [
       "Name                             object\n",
       "Average User Rating             float64\n",
       "User Rating Count               float64\n",
       "Price                           float64\n",
       "In-app Purchases                 object\n",
       "Description                      object\n",
       "Developer                        object\n",
       "Age Rating                        int64\n",
       "Languages                        object\n",
       "Size                            float64\n",
       "Primary Genre                    object\n",
       "Genres                           object\n",
       "Original Release Date            object\n",
       "Current Version Release Date     object\n",
       "dtype: object"
      ]
     },
     "execution_count": 176,
     "metadata": {},
     "output_type": "execute_result"
    }
   ],
   "source": [
    "# df[df[\"Name\"]].unique()\n",
    "# df['Name'] = df['Name'].astype(str)\n",
    "len(df[df['Languages'] != \"EN\"].values)\n",
    "df.dtypes"
   ]
  },
  {
   "cell_type": "markdown",
   "metadata": {},
   "source": [
    "## Questions to Answer\n",
    "- Does supporting multiple languages drive more user? or drive better rating?\n",
    "- Probability of a game getting downloaded based on prices\n",
    "- What characteristics does top games have in common?\n",
    "- What did the top 5 most released developers have in common?\n",
    "- Does age rating affect users rating?"
   ]
  },
  {
   "cell_type": "markdown",
   "metadata": {},
   "source": [
    "### Helper functions"
   ]
  },
  {
   "cell_type": "code",
   "execution_count": 322,
   "metadata": {},
   "outputs": [
    {
     "name": "stdout",
     "output_type": "stream",
     "text": [
      "<class 'numpy.ndarray'>\n",
      "1.4901488313365165\n",
      "[-5.0, 11.0, 14.0]\n",
      "1.4901488313365165\n"
     ]
    }
   ],
   "source": [
    "def conditional_prob(df, column1, value1, column2):\n",
    "    '''Create a dictionary of \"column2_val : percentage\" '''\n",
    "    probabilities = {}\n",
    "#     column1_is_value1 = df[df[column1] == value1]\n",
    "    column2_values = set(df[column2].dropna().values) #possible values for target_column\n",
    "    for column2_value in column2_values: #for each value in target's values\n",
    "        probabilities[column2_value] = len(df[ (df[column1] == value1) & (df[column2] == column2_value)]) / len(df[df[column1] == value1]) #len(col_1 == value_1 and col_2 == val_2) / len(col_1 == val_1)\n",
    "    return probabilities\n",
    "\n",
    "def df_from_col_ratio(df, to_ratio_col, x_col):\n",
    "    '''Get df with ratio of column based on all possible values or x_col and put it in a line graph'''\n",
    "    to_ratio_values = [] #unique values of to_ratio_col from df\n",
    "    x_col_values_dic = {} #{\"Promoter\": [], \"Passive\": [], \"Detractor\":[]} \n",
    "    for to_ratio_value in sorted(df[to_ratio_col].dropna().unique()): #loop through each unique values of to_ratio_col\n",
    "        x_col_ratio_dic = conditional_prob(df, to_ratio_col, to_ratio_value, x_col)\n",
    "        to_ratio_values.append(to_ratio_value) #append current location\n",
    "        for key, value in x_col_ratio_dic.items(): #loop through each key,value pairs in dic received from conditional_prob\n",
    "            if key in x_col_values_dic: #if dic's key has values already\n",
    "                x_col_values_dic[key].append(value) #if key exist, append value to our list's key\n",
    "            else:  #if dic's key is none...\n",
    "                x_col_values_dic[key] = [value] #create the array with our value\n",
    "    #Turn dic and array to dataframe\n",
    "    df_new = pd.DataFrame(x_col_values_dic, index=to_ratio_values)\n",
    "    return df_new\n",
    "\n",
    "\n",
    "def graph_conditional_prob(df, column1, value1, column2):\n",
    "    '''get conditional probability and graph of column2 base on column1's value1'''\n",
    "    probabilities = {}\n",
    "    column1_is_value1 = df[df[column1] == value1] #all column1 == value1\n",
    "    column2_values = set(df[column2].dropna().values) #possible values for target_column #Names\n",
    "    column2_names = []\n",
    "    column2_percents = []\n",
    "    column2_explode = [] #explode the biggest percent\n",
    "    for column2_value in column2_values: #for each value in target's values\n",
    "        column2_names.append(column2_value) #append name\n",
    "        #get column2's percent\n",
    "        c2_percent = len(df[ (df[column1] == value1) & (df[column2] == column2_value)]) / len(df[df[column1] == value1])\n",
    "        column2_percents.append(c2_percent)\n",
    "        probabilities[column2_value] = c2_percent\n",
    "    max_value = max(column2_percents) #get max value that we will explode\n",
    "    max_index = column2_percents.index(max_value) #get max_value's index\n",
    "    for i in range(len(column2_percents)): #populate column2_explode\n",
    "        if i == max_index: #explode the index with max value\n",
    "            column2_explode.append(0.1)\n",
    "            continue\n",
    "        column2_explode.append(0)\n",
    "    #Begin plotting\n",
    "    fig1, ax1 = plt.subplots()\n",
    "    ax1.pie(column2_percents, explode=column2_explode, labels=column2_names, autopct='%1.1f%%',\n",
    "            shadow=True, startangle=90)\n",
    "    ax1.axis('equal')  # Equal aspect ratio ensures that pie is drawn as a circle.\n",
    "    plt.title(column1+\": \"+str(value1)+\" (\"+str(len(column1_is_value1))+\")\") #assign plot's title\n",
    "    plt.show()\n",
    "    return probabilities\n",
    "# for rating in df[\"Average User Rating\"].dropna().unique():\n",
    "#     graph_conditional_prob(df, \"Average User Rating\", rating, \"Price\")\n",
    "\n",
    "#function to create a pie chart\n",
    "def pie_chart_column(df, col_name):\n",
    "    '''Create a pie chart from a column. Recommended for columns with 2-5 unique values'''\n",
    "    col_values = df[col_name].dropna().unique()\n",
    "    col_percentage = []\n",
    "    for index, value in enumerate(col_values):\n",
    "        value_count = len(df[(df[col_name] == value)])\n",
    "        val_percentage = value_count / len(df) #get percentage; by dividing num of rows being value by the total length of dataset\n",
    "        col_percentage.append(val_percentage) #append percentage\n",
    "        col_values[index] += \" \"+str(value_count)\n",
    "    #Begin plotting\n",
    "    fig1, ax1 = plt.subplots()\n",
    "    ax1.pie(col_percentage, labels=col_values, autopct='%1.1f%%', shadow=True, startangle=90)\n",
    "    ax1.axis('equal')  # Equal aspect ratio ensures that pie is drawn as a circle.\n",
    "    plt.title(col_name+\" Ratio: Out Of \"+str(len(df[\"Price\"].dropna()))+\" Apps\") #assign plot's title\n",
    "    plt.show()\n",
    "    \n",
    "def custom_hist(ls, interval):\n",
    "    hist_ls_dict = dict()\n",
    "    min_ls = np.min(ls)\n",
    "    max_ls = np.max(ls)\n",
    "    I = (max_ls - min_ls) / interval #width (x-range) of each bin\n",
    "    for j in range(int(interval - 1)): #subtract 1 to not go out of range when we j+1\n",
    "        current_min = min_ls + (I*j) #current minimum\n",
    "        current_max = min_ls + (I*(j+1)) #j+1 to get current maximum range\n",
    "        count_from_min_to_max = sum(current_min <= elem < current_max for elem in ls) / len(ls) #get the sum of number of elements greater than min and less than max\n",
    "        hist_ls_dict[j]= count_from_min_to_max   \n",
    "    return hist_ls_dict\n",
    "# age_hist = custom_hist(df['Age'].dropna().values, 16)\n",
    "\n",
    "# Outlier Functions\n",
    "import scipy.stats\n",
    "\n",
    "def find_remove_outlier(data_sample):\n",
    "    '''Simple remove outliers'''\n",
    "    # calculate summary statistics\n",
    "    data_mean, data_std = np.mean(data), np.std(data)\n",
    "    # define cut-off\n",
    "    cut_off = data_std * 3\n",
    "    lower, upper = data_mean - cut_off, data_mean + cut_off\n",
    "    # identify outliers\n",
    "    outliers = [x for x in data_sample if x < lower or x > upper]\n",
    "    # remove outliers\n",
    "    outliers_removed = [x for x in data_sample if x > lower and x < upper]\n",
    "    return outliers, outliers_removed\n",
    "\n",
    "def find_remove_outlier_iqr(data_sample):\n",
    "    '''Finds and remove Quartile 1 and Quartile 3'''\n",
    "    # calculate interquartile range\n",
    "    q25, q75 = np.percentile(data_sample, 25), np.percentile(data_sample, 75)\n",
    "    iqr = q75 - q25\n",
    "    print(iqr)\n",
    "    # calculate the outlier cutoff\n",
    "    cut_off = iqr * 1.5\n",
    "    lower, upper = q25 - cut_off, q75 + cut_off\n",
    "    # identify outliers\n",
    "    outliers = [x for x in data_sample if x < lower or x > upper]\n",
    "    # remove outliers\n",
    "    outliers_removed = [x for x in data_sample if x > lower and x < upper]\n",
    "    return outliers\n",
    "\n",
    "y = np.array([-5, 11, 14])\n",
    "x =  np.concatenate((scipy.stats.norm.rvs(loc=5 , scale=1 , size=100), y))\n",
    "print(type(x))\n",
    "print(find_remove_outlier_iqr(x))\n",
    "print(scipy.stats.iqr(x))"
   ]
  },
  {
   "cell_type": "markdown",
   "metadata": {},
   "source": [
    "### Q1 What are the top free and paid apps?"
   ]
  },
  {
   "cell_type": "code",
   "execution_count": 178,
   "metadata": {},
   "outputs": [
    {
     "data": {
      "image/png": "[encoded data removed]",
      "text/plain": [
       "<Figure size 432x288 with 1 Axes>"
      ]
     },
     "metadata": {},
     "output_type": "display_data"
    }
   ],
   "source": [
    "free_games = df[df[\"Price\"] == 0].dropna()\n",
    "paid_games = df[df[\"Price\"] > 0].dropna()\n",
    "\n",
    "# function to categorize Free apps from Paid\n",
    "def get_price_category(price):\n",
    "    if price == 0:\n",
    "        return \"Free\"\n",
    "    else:\n",
    "        return \"Paid\" \n",
    "\n",
    "# Create another column named \"Price Category\" with values of either Free or Paid\n",
    "df[\"Price Category\"] = df.apply(lambda row: get_price_category(row[\"Price\"]), axis=1)\n",
    "\n",
    "#function to create a pie chart\n",
    "def pie_chart_column(df, col_name):\n",
    "    '''Create a pie chart from a column. Recommended for columns with 2-5 unique values'''\n",
    "    col_values = df[col_name].dropna().unique()\n",
    "    col_percentage = []\n",
    "    for index, value in enumerate(col_values):\n",
    "        value_count = len(df[(df[col_name] == value)])\n",
    "        val_percentage = value_count / len(df) #get percentage; by dividing num of rows being value by the total length of dataset\n",
    "        col_percentage.append(val_percentage) #append percentage\n",
    "        col_values[index] += \" \"+str(value_count)\n",
    "    #Begin plotting\n",
    "    fig1, ax1 = plt.subplots()\n",
    "    ax1.pie(col_percentage, labels=col_values, autopct='%1.1f%%', shadow=True, startangle=90)\n",
    "    ax1.axis('equal')  # Equal aspect ratio ensures that pie is drawn as a circle.\n",
    "    plt.title(col_name+\" Ratio: Out Of \"+str(len(df[\"Price\"].dropna()))+\" Apps\") #assign plot's title\n",
    "    plt.show()\n",
    "\n",
    "pie_chart_column(df, \"Price Category\")"
   ]
  },
  {
   "cell_type": "markdown",
   "metadata": {},
   "source": [
    "### Q2 How are most strategy games rated?"
   ]
  },
  {
   "cell_type": "code",
   "execution_count": 179,
   "metadata": {},
   "outputs": [
    {
     "data": {
      "text/plain": [
       "Price Category\n",
       "Free    AxesSubplot(0.125,0.125;0.775x0.755)\n",
       "Paid    AxesSubplot(0.125,0.125;0.775x0.755)\n",
       "Name: Average User Rating, dtype: object"
      ]
     },
     "execution_count": 179,
     "metadata": {},
     "output_type": "execute_result"
    },
    {
     "data": {
      "image/png": "[encoded data removed]",
      "text/plain": [
       "<Figure size 432x288 with 1 Axes>"
      ]
     },
     "metadata": {
      "needs_background": "light"
     },
     "output_type": "display_data"
    }
   ],
   "source": [
    "df.groupby('Price Category')['Average User Rating'].plot(bins=9, kind='hist', legend=True, alpha=0.5)"
   ]
  },
  {
   "cell_type": "code",
   "execution_count": 180,
   "metadata": {},
   "outputs": [
    {
     "data": {
      "text/html": [
       "<div>\n",
       "<style scoped>\n",
       "    .dataframe tbody tr th:only-of-type {\n",
       "        vertical-align: middle;\n",
       "    }\n",
       "\n",
       "    .dataframe tbody tr th {\n",
       "        vertical-align: top;\n",
       "    }\n",
       "\n",
       "    .dataframe thead th {\n",
       "        text-align: right;\n",
       "    }\n",
       "</style>\n",
       "<table border=\"1\" class=\"dataframe\">\n",
       "  <thead>\n",
       "    <tr style=\"text-align: right;\">\n",
       "      <th>Average User Rating</th>\n",
       "      <th>1.0</th>\n",
       "      <th>1.5</th>\n",
       "      <th>2.0</th>\n",
       "      <th>2.5</th>\n",
       "      <th>3.0</th>\n",
       "      <th>3.5</th>\n",
       "      <th>4.0</th>\n",
       "      <th>4.5</th>\n",
       "      <th>5.0</th>\n",
       "    </tr>\n",
       "    <tr>\n",
       "      <th>Price</th>\n",
       "      <th></th>\n",
       "      <th></th>\n",
       "      <th></th>\n",
       "      <th></th>\n",
       "      <th></th>\n",
       "      <th></th>\n",
       "      <th></th>\n",
       "      <th></th>\n",
       "      <th></th>\n",
       "    </tr>\n",
       "  </thead>\n",
       "  <tbody>\n",
       "    <tr>\n",
       "      <th>0.00</th>\n",
       "      <td>5</td>\n",
       "      <td>46</td>\n",
       "      <td>136</td>\n",
       "      <td>268</td>\n",
       "      <td>427</td>\n",
       "      <td>758</td>\n",
       "      <td>1413</td>\n",
       "      <td>2423</td>\n",
       "      <td>849</td>\n",
       "    </tr>\n",
       "    <tr>\n",
       "      <th>0.99</th>\n",
       "      <td>1</td>\n",
       "      <td>5</td>\n",
       "      <td>8</td>\n",
       "      <td>19</td>\n",
       "      <td>34</td>\n",
       "      <td>57</td>\n",
       "      <td>89</td>\n",
       "      <td>101</td>\n",
       "      <td>38</td>\n",
       "    </tr>\n",
       "    <tr>\n",
       "      <th>1.99</th>\n",
       "      <td>2</td>\n",
       "      <td>2</td>\n",
       "      <td>5</td>\n",
       "      <td>7</td>\n",
       "      <td>16</td>\n",
       "      <td>21</td>\n",
       "      <td>51</td>\n",
       "      <td>69</td>\n",
       "      <td>28</td>\n",
       "    </tr>\n",
       "    <tr>\n",
       "      <th>2.99</th>\n",
       "      <td>3</td>\n",
       "      <td>3</td>\n",
       "      <td>5</td>\n",
       "      <td>14</td>\n",
       "      <td>15</td>\n",
       "      <td>29</td>\n",
       "      <td>57</td>\n",
       "      <td>98</td>\n",
       "      <td>28</td>\n",
       "    </tr>\n",
       "    <tr>\n",
       "      <th>3.99</th>\n",
       "      <td>0</td>\n",
       "      <td>0</td>\n",
       "      <td>1</td>\n",
       "      <td>2</td>\n",
       "      <td>6</td>\n",
       "      <td>13</td>\n",
       "      <td>25</td>\n",
       "      <td>47</td>\n",
       "      <td>11</td>\n",
       "    </tr>\n",
       "    <tr>\n",
       "      <th>4.99</th>\n",
       "      <td>2</td>\n",
       "      <td>4</td>\n",
       "      <td>1</td>\n",
       "      <td>4</td>\n",
       "      <td>11</td>\n",
       "      <td>23</td>\n",
       "      <td>46</td>\n",
       "      <td>72</td>\n",
       "      <td>22</td>\n",
       "    </tr>\n",
       "    <tr>\n",
       "      <th>5.99</th>\n",
       "      <td>0</td>\n",
       "      <td>0</td>\n",
       "      <td>0</td>\n",
       "      <td>2</td>\n",
       "      <td>1</td>\n",
       "      <td>7</td>\n",
       "      <td>5</td>\n",
       "      <td>11</td>\n",
       "      <td>2</td>\n",
       "    </tr>\n",
       "    <tr>\n",
       "      <th>6.99</th>\n",
       "      <td>0</td>\n",
       "      <td>0</td>\n",
       "      <td>0</td>\n",
       "      <td>0</td>\n",
       "      <td>0</td>\n",
       "      <td>7</td>\n",
       "      <td>5</td>\n",
       "      <td>12</td>\n",
       "      <td>2</td>\n",
       "    </tr>\n",
       "    <tr>\n",
       "      <th>7.99</th>\n",
       "      <td>0</td>\n",
       "      <td>0</td>\n",
       "      <td>0</td>\n",
       "      <td>0</td>\n",
       "      <td>1</td>\n",
       "      <td>1</td>\n",
       "      <td>3</td>\n",
       "      <td>4</td>\n",
       "      <td>1</td>\n",
       "    </tr>\n",
       "    <tr>\n",
       "      <th>8.99</th>\n",
       "      <td>0</td>\n",
       "      <td>0</td>\n",
       "      <td>0</td>\n",
       "      <td>0</td>\n",
       "      <td>0</td>\n",
       "      <td>1</td>\n",
       "      <td>7</td>\n",
       "      <td>3</td>\n",
       "      <td>1</td>\n",
       "    </tr>\n",
       "    <tr>\n",
       "      <th>9.99</th>\n",
       "      <td>1</td>\n",
       "      <td>0</td>\n",
       "      <td>2</td>\n",
       "      <td>1</td>\n",
       "      <td>2</td>\n",
       "      <td>5</td>\n",
       "      <td>13</td>\n",
       "      <td>16</td>\n",
       "      <td>8</td>\n",
       "    </tr>\n",
       "    <tr>\n",
       "      <th>11.99</th>\n",
       "      <td>0</td>\n",
       "      <td>0</td>\n",
       "      <td>0</td>\n",
       "      <td>0</td>\n",
       "      <td>0</td>\n",
       "      <td>1</td>\n",
       "      <td>0</td>\n",
       "      <td>2</td>\n",
       "      <td>0</td>\n",
       "    </tr>\n",
       "    <tr>\n",
       "      <th>12.99</th>\n",
       "      <td>0</td>\n",
       "      <td>0</td>\n",
       "      <td>0</td>\n",
       "      <td>0</td>\n",
       "      <td>1</td>\n",
       "      <td>0</td>\n",
       "      <td>2</td>\n",
       "      <td>0</td>\n",
       "      <td>0</td>\n",
       "    </tr>\n",
       "    <tr>\n",
       "      <th>14.99</th>\n",
       "      <td>0</td>\n",
       "      <td>0</td>\n",
       "      <td>0</td>\n",
       "      <td>0</td>\n",
       "      <td>0</td>\n",
       "      <td>1</td>\n",
       "      <td>1</td>\n",
       "      <td>0</td>\n",
       "      <td>0</td>\n",
       "    </tr>\n",
       "    <tr>\n",
       "      <th>16.99</th>\n",
       "      <td>0</td>\n",
       "      <td>0</td>\n",
       "      <td>0</td>\n",
       "      <td>0</td>\n",
       "      <td>0</td>\n",
       "      <td>0</td>\n",
       "      <td>1</td>\n",
       "      <td>0</td>\n",
       "      <td>0</td>\n",
       "    </tr>\n",
       "    <tr>\n",
       "      <th>19.99</th>\n",
       "      <td>0</td>\n",
       "      <td>0</td>\n",
       "      <td>0</td>\n",
       "      <td>0</td>\n",
       "      <td>0</td>\n",
       "      <td>1</td>\n",
       "      <td>2</td>\n",
       "      <td>2</td>\n",
       "      <td>0</td>\n",
       "    </tr>\n",
       "    <tr>\n",
       "      <th>36.99</th>\n",
       "      <td>0</td>\n",
       "      <td>0</td>\n",
       "      <td>0</td>\n",
       "      <td>0</td>\n",
       "      <td>0</td>\n",
       "      <td>0</td>\n",
       "      <td>1</td>\n",
       "      <td>0</td>\n",
       "      <td>0</td>\n",
       "    </tr>\n",
       "    <tr>\n",
       "      <th>59.99</th>\n",
       "      <td>0</td>\n",
       "      <td>0</td>\n",
       "      <td>0</td>\n",
       "      <td>0</td>\n",
       "      <td>0</td>\n",
       "      <td>0</td>\n",
       "      <td>1</td>\n",
       "      <td>0</td>\n",
       "      <td>0</td>\n",
       "    </tr>\n",
       "    <tr>\n",
       "      <th>139.99</th>\n",
       "      <td>0</td>\n",
       "      <td>0</td>\n",
       "      <td>0</td>\n",
       "      <td>0</td>\n",
       "      <td>0</td>\n",
       "      <td>0</td>\n",
       "      <td>0</td>\n",
       "      <td>1</td>\n",
       "      <td>0</td>\n",
       "    </tr>\n",
       "  </tbody>\n",
       "</table>\n",
       "</div>"
      ],
      "text/plain": [
       "Average User Rating  1.0  1.5  2.0  2.5  3.0  3.5   4.0   4.5  5.0\n",
       "Price                                                             \n",
       "0.00                   5   46  136  268  427  758  1413  2423  849\n",
       "0.99                   1    5    8   19   34   57    89   101   38\n",
       "1.99                   2    2    5    7   16   21    51    69   28\n",
       "2.99                   3    3    5   14   15   29    57    98   28\n",
       "3.99                   0    0    1    2    6   13    25    47   11\n",
       "4.99                   2    4    1    4   11   23    46    72   22\n",
       "5.99                   0    0    0    2    1    7     5    11    2\n",
       "6.99                   0    0    0    0    0    7     5    12    2\n",
       "7.99                   0    0    0    0    1    1     3     4    1\n",
       "8.99                   0    0    0    0    0    1     7     3    1\n",
       "9.99                   1    0    2    1    2    5    13    16    8\n",
       "11.99                  0    0    0    0    0    1     0     2    0\n",
       "12.99                  0    0    0    0    1    0     2     0    0\n",
       "14.99                  0    0    0    0    0    1     1     0    0\n",
       "16.99                  0    0    0    0    0    0     1     0    0\n",
       "19.99                  0    0    0    0    0    1     2     2    0\n",
       "36.99                  0    0    0    0    0    0     1     0    0\n",
       "59.99                  0    0    0    0    0    0     1     0    0\n",
       "139.99                 0    0    0    0    0    0     0     1    0"
      ]
     },
     "execution_count": 180,
     "metadata": {},
     "output_type": "execute_result"
    }
   ],
   "source": [
    "# print(\"LENGTH=\",len(df[\"Price\"].value_counts()))\n",
    "# df[\"Price\"].value_counts()\n",
    "pd.crosstab(df['Price'], df['Average User Rating'])"
   ]
  },
  {
   "cell_type": "code",
   "execution_count": 8,
   "metadata": {},
   "outputs": [
    {
     "data": {
      "text/plain": [
       "<matplotlib.axes._subplots.AxesSubplot at 0x11f6822d0>"
      ]
     },
     "execution_count": 8,
     "metadata": {},
     "output_type": "execute_result"
    },
    {
     "data": {
      "image/png": "[encoded data removed]",
      "text/plain": [
       "<Figure size 432x288 with 1 Axes>"
      ]
     },
     "metadata": {
      "needs_background": "light"
     },
     "output_type": "display_data"
    }
   ],
   "source": [
    "df[df['Price'] > 0]['Average User Rating'].plot(kind='kde') #blue\n",
    "df[(df['Price'] > 0) & (df['Price'] < 1)]['Average User Rating'].plot(kind='kde') #orange\n",
    "df[(df['Price'] > 1) & (df['Price'] < 5)]['Average User Rating'].plot(kind='kde') #green\n",
    "df[(df['Price'] > 5)]['Average User Rating'].plot(kind='kde') #red"
   ]
  },
  {
   "cell_type": "code",
   "execution_count": 23,
   "metadata": {},
   "outputs": [
    {
     "name": "stdout",
     "output_type": "stream",
     "text": [
      "<class 'pandas.core.frame.DataFrame'>\n",
      "RangeIndex: 17007 entries, 0 to 17006\n",
      "Data columns (total 14 columns):\n",
      "Name                            17007 non-null object\n",
      "Average User Rating             7561 non-null float64\n",
      "User Rating Count               7561 non-null float64\n",
      "Price                           16983 non-null float64\n",
      "In-app Purchases                7683 non-null object\n",
      "Description                     17007 non-null object\n",
      "Developer                       17007 non-null object\n",
      "Age Rating                      17007 non-null int64\n",
      "Languages                       16947 non-null object\n",
      "Size                            17006 non-null float64\n",
      "Primary Genre                   17007 non-null object\n",
      "Genres                          17007 non-null object\n",
      "Original Release Date           17007 non-null object\n",
      "Current Version Release Date    17007 non-null object\n",
      "dtypes: float64(4), int64(1), object(9)\n",
      "memory usage: 1.8+ MB\n"
     ]
    },
    {
     "data": {
      "text/plain": [
       "Text(0.5, 1.0, 'User Rating')"
      ]
     },
     "execution_count": 23,
     "metadata": {},
     "output_type": "execute_result"
    },
    {
     "data": {
      "image/png": "[encoded data removed]",
      "text/plain": [
       "<Figure size 1080x360 with 1 Axes>"
      ]
     },
     "metadata": {
      "needs_background": "light"
     },
     "output_type": "display_data"
    }
   ],
   "source": [
    "df.info()\n",
    "n_user_rating = df['Average User Rating']\n",
    "plt.figure(figsize=(15,5))\n",
    "sns.countplot(n_user_rating)\n",
    "plt.title(\"User Rating\",fontsize=15)"
   ]
  },
  {
   "cell_type": "markdown",
   "metadata": {},
   "source": [
    "## Answer\n",
    "- Strategy games are popular and loved, and usually receives a 4.5 rating"
   ]
  },
  {
   "cell_type": "markdown",
   "metadata": {},
   "source": [
    "## Q3 Does supporting multiple languages drive more user? or drive better rating?"
   ]
  },
  {
   "cell_type": "code",
   "execution_count": 6,
   "metadata": {},
   "outputs": [
    {
     "data": {
      "text/plain": [
       "<matplotlib.axes._subplots.AxesSubplot at 0x1227ae610>"
      ]
     },
     "execution_count": 6,
     "metadata": {},
     "output_type": "execute_result"
    },
    {
     "data": {
      "image/png": "[encoded data removed]",
      "text/plain": [
       "<Figure size 432x288 with 1 Axes>"
      ]
     },
     "metadata": {
      "needs_background": "light"
     },
     "output_type": "display_data"
    }
   ],
   "source": [
    "FILEPATH = \"appstore_games.csv\"\n",
    "df = pd.read_csv(FILEPATH, \n",
    "                 na_values = ['#ERROR!', \"nan\", \"NaN\", \"Nan\", \"NA\"], encoding=\"utf-8\"\n",
    "                )\n",
    "\n",
    "def count_languages_supported(languages):\n",
    "    '''takes languages supported, create a list separated by , and returns the length of the list'''\n",
    "    if type(languages) != str: #make sure it is a string\n",
    "        return 1\n",
    "    languages_list = languages.split(\", \")\n",
    "    return len(languages_list)\n",
    "    \n",
    "df[\"Languages Count\"] = df.apply(lambda row: int(count_languages_supported(row[\"Languages\"])), axis=1)\n",
    "df[\"Languages Count\"].value_counts()\n",
    "df.groupby(['Languages Count'])['Average User Rating'].mean().plot(legend=True)"
   ]
  },
  {
   "cell_type": "code",
   "execution_count": 324,
   "metadata": {},
   "outputs": [
    {
     "name": "stdout",
     "output_type": "stream",
     "text": [
      "0    12626\n",
      "1     4381\n",
      "Name: Multiple Languages, dtype: int64\n",
      "0    0.7424\n",
      "1    0.2576\n",
      "Name: Multiple Languages, dtype: float64\n"
     ]
    },
    {
     "data": {
      "text/html": [
       "<div>\n",
       "<style scoped>\n",
       "    .dataframe tbody tr th:only-of-type {\n",
       "        vertical-align: middle;\n",
       "    }\n",
       "\n",
       "    .dataframe tbody tr th {\n",
       "        vertical-align: top;\n",
       "    }\n",
       "\n",
       "    .dataframe thead th {\n",
       "        text-align: right;\n",
       "    }\n",
       "</style>\n",
       "<table border=\"1\" class=\"dataframe\">\n",
       "  <thead>\n",
       "    <tr style=\"text-align: right;\">\n",
       "      <th></th>\n",
       "      <th>Average User Rating</th>\n",
       "      <th>User Rating Count</th>\n",
       "    </tr>\n",
       "    <tr>\n",
       "      <th>Multiple Languages</th>\n",
       "      <th></th>\n",
       "      <th></th>\n",
       "    </tr>\n",
       "  </thead>\n",
       "  <tbody>\n",
       "    <tr>\n",
       "      <th>0</th>\n",
       "      <td>4.041494</td>\n",
       "      <td>1560.013238</td>\n",
       "    </tr>\n",
       "    <tr>\n",
       "      <th>1</th>\n",
       "      <td>4.100200</td>\n",
       "      <td>6842.182400</td>\n",
       "    </tr>\n",
       "  </tbody>\n",
       "</table>\n",
       "</div>"
      ],
      "text/plain": [
       "                    Average User Rating  User Rating Count\n",
       "Multiple Languages                                        \n",
       "0                              4.041494        1560.013238\n",
       "1                              4.100200        6842.182400"
      ]
     },
     "execution_count": 324,
     "metadata": {},
     "output_type": "execute_result"
    }
   ],
   "source": [
    "FILEPATH = \"appstore_games.csv\"\n",
    "df = pd.read_csv(FILEPATH, na_values = ['#ERROR!', \"nan\", \"NaN\", \"Nan\", \"NA\"], encoding=\"utf-8\")\n",
    "\n",
    "def has_multiple_languages(languages):\n",
    "    '''takes languages supported, create a list separated by , and returns if app re'''\n",
    "    if type(languages) != str: #make sure it is a string\n",
    "        return False\n",
    "    languages_list = languages.split(\", \")\n",
    "    if len(languages_list) > 1:\n",
    "        return True\n",
    "    return False\n",
    "\n",
    "# Create Multiple Languages column and apply function\n",
    "df[\"Multiple Languages\"] = df.apply(lambda row: int(has_multiple_languages(row[\"Languages\"])), axis=1)\n",
    "\n",
    "print(df[\"Multiple Languages\"].value_counts())\n",
    "print(df['Multiple Languages'].value_counts(normalize=True))\n",
    "df.groupby(['Multiple Languages'])['Average User Rating', 'User Rating Count'].mean()"
   ]
  },
  {
   "cell_type": "markdown",
   "metadata": {},
   "source": [
    "### Z-Test Null Hypothesis\n",
    "Does Mutiple Languages result in higher User Rating Count?\n",
    "- Z-Test instead of T-Test because length of data is more than 30"
   ]
  },
  {
   "cell_type": "code",
   "execution_count": 325,
   "metadata": {},
   "outputs": [
    {
     "name": "stdout",
     "output_type": "stream",
     "text": [
      "N=17007, data=271, mu=0.01593461515846416, sigma=0.48890938866409933, alpha=0.44961523313515306\n",
      "Z:19.964270582295818 = 0.5929214734024214 / 0.029699130301721124\n",
      "P=1.1266056625349428e-88\n",
      "reject null hypothesis\n"
     ]
    }
   ],
   "source": [
    "from scipy.stats import norm\n",
    "import numpy as np\n",
    "import scipy.stats\n",
    "import numpy as np, scipy.stats as st\n",
    "\n",
    "def mean_confidence_interval(data, confidence=0.95):\n",
    "    '''Computes the alpha of a given data'''\n",
    "    a = 1.0 * np.array(data)\n",
    "    n = len(a)\n",
    "    m, se = np.mean(a), scipy.stats.sem(a)\n",
    "    h = se * scipy.stats.t.ppf((1 + confidence) / 2., n-1)\n",
    "    return m, m-h, m+h\n",
    "\n",
    "#alternate of the function above\n",
    "alternate_confidence = st.t.interval(0.95, len(data)-1, loc=np.mean(data), scale=st.sem(data)) #calculating the 95% confidence interval of the mean of array data array\n",
    "\n",
    "def z_t_null_hypothesis(data_sample, mu, sigma, significant_level):\n",
    "    'Run Z-Test or T-Test'\n",
    "    # If sigma is known, calculate using the z-test\n",
    "    if sigma:\n",
    "        z_score = (np.mean(data_sample)-mu)/(sigma/np.sqrt(len(data_sample)))\n",
    "        print(f\"Z:{z_score} = {np.mean(data_sample)-mu} / {sigma/np.sqrt(len(data_sample))}\")\n",
    "        p = scipy.stats.norm.sf(abs(z_score))*2\n",
    "    # If the data_sample is greater than 30, calculate using the z-test\n",
    "    elif len(data_sample) > 30:\n",
    "        z_score = (np.mean(data_sample)-mu)/(np.std(data_sample)/np.sqrt(len(data_sample)))\n",
    "        p = scipy.stats.norm.sf(abs(z_score))*2\n",
    "    # otherwise, calculate using the t-test\n",
    "    else:\n",
    "        t, p = stats.ttest_1samp(data_sample, mu)\n",
    "    \n",
    "    print(f\"P={p}\")\n",
    "    if p < significant_level:\n",
    "        print('reject null hypothesis')\n",
    "        \n",
    "    else:\n",
    "        print('accept null hypothesis')\n",
    "        \n",
    "# Begin Test\n",
    "data = df[(df[\"Average User Rating\"] > 4) & (df[\"User Rating Count\"] > 10000)][\"Multiple Languages\"]\n",
    "data_sample = data.values #get values in this column as an array\n",
    "\n",
    "# Create parameters\n",
    "N = len(df) # N = size of population \n",
    "mu = len(data) / len(df)\n",
    "sigma = data.std() # 𝞼 = standard deviation (std) for Scenario A\n",
    "confidence_level = mean_confidence_interval(data, confidence=0.95)\n",
    "alpha = 1 - confidence_level[1] # 𝛼 = statistical significance level; alpha = 1 - significance level\n",
    "\n",
    "# Display results\n",
    "print(f\"N={N}, data={len(data_sample)}, mu={mu}, sigma={sigma}, alpha={alpha}\")\n",
    "z_t_null_hypothesis(data, mu, sigma, alpha) #alpha of 0.05\n"
   ]
  },
  {
   "cell_type": "code",
   "execution_count": 256,
   "metadata": {},
   "outputs": [
    {
     "data": {
      "text/plain": [
       "Text(0.5, 1.0, 'Did High Rated and High Rating Count Apps Supported More than 1 Languages?')"
      ]
     },
     "execution_count": 256,
     "metadata": {},
     "output_type": "execute_result"
    },
    {
     "data": {
      "image/png": "[encoded data removed]",
      "text/plain": [
       "<Figure size 432x288 with 1 Axes>"
      ]
     },
     "metadata": {
      "needs_background": "light"
     },
     "output_type": "display_data"
    }
   ],
   "source": [
    "dataa = df[(df[\"Average User Rating\"] >= 4) & (df[\"User Rating Count\"] > 10000)]\n",
    "plot = sns.countplot(x=\"Average User Rating\", hue=\"Multiple Languages\", data=dataa)\n",
    "plot.set_title(\"Did High Rated and High Rating Count Apps Supported More than 1 Languages?\")"
   ]
  },
  {
   "cell_type": "markdown",
   "metadata": {},
   "source": [
    "### Answer\n",
    "- Only 26% of games in this dataset supports multiple languages\n",
    "- Apps that supports multiple languages on average have significantly more User Rating Count than apps that supports one language\n",
    "- Hypothesis Testing needs some clarification and further research\n",
    "\n",
    "#### Side Note:\n",
    "To easily support multiple languages and have those painful tasks automated checkout my [StringsUtility](https://github.com/SamuelFolledo/StringsUtility)"
   ]
  },
  {
   "cell_type": "markdown",
   "metadata": {},
   "source": [
    "## Q4 What did the top 5 most released developers have in common?"
   ]
  },
  {
   "cell_type": "code",
   "execution_count": 36,
   "metadata": {},
   "outputs": [
    {
     "name": "stdout",
     "output_type": "stream",
     "text": [
      "['GabySoft' 'Tapps Tecnologia da Informa\\\\xe7\\\\xe3o Ltda.'\n",
      " 'NetSummit Enterprises, Inc.' 'Netsummit Marketing, Inc.' 'Vikash Patel']\n"
     ]
    },
    {
     "data": {
      "text/html": [
       "<div>\n",
       "<style scoped>\n",
       "    .dataframe tbody tr th:only-of-type {\n",
       "        vertical-align: middle;\n",
       "    }\n",
       "\n",
       "    .dataframe tbody tr th {\n",
       "        vertical-align: top;\n",
       "    }\n",
       "\n",
       "    .dataframe thead th {\n",
       "        text-align: right;\n",
       "    }\n",
       "</style>\n",
       "<table border=\"1\" class=\"dataframe\">\n",
       "  <thead>\n",
       "    <tr style=\"text-align: right;\">\n",
       "      <th></th>\n",
       "      <th>Average User Rating</th>\n",
       "      <th>User Rating Count</th>\n",
       "    </tr>\n",
       "    <tr>\n",
       "      <th>Developer</th>\n",
       "      <th></th>\n",
       "      <th></th>\n",
       "    </tr>\n",
       "  </thead>\n",
       "  <tbody>\n",
       "    <tr>\n",
       "      <th>GabySoft</th>\n",
       "      <td>4.233333</td>\n",
       "      <td>355.533333</td>\n",
       "    </tr>\n",
       "    <tr>\n",
       "      <th>NetSummit Enterprises, Inc.</th>\n",
       "      <td>2.882353</td>\n",
       "      <td>15.529412</td>\n",
       "    </tr>\n",
       "    <tr>\n",
       "      <th>Netsummit Marketing, Inc.</th>\n",
       "      <td>3.388889</td>\n",
       "      <td>13.055556</td>\n",
       "    </tr>\n",
       "    <tr>\n",
       "      <th>Tapps Tecnologia da Informa\\xe7\\xe3o Ltda.</th>\n",
       "      <td>4.417391</td>\n",
       "      <td>2390.000000</td>\n",
       "    </tr>\n",
       "    <tr>\n",
       "      <th>Vikash Patel</th>\n",
       "      <td>1.500000</td>\n",
       "      <td>5.000000</td>\n",
       "    </tr>\n",
       "  </tbody>\n",
       "</table>\n",
       "</div>"
      ],
      "text/plain": [
       "                                            Average User Rating  \\\n",
       "Developer                                                         \n",
       "GabySoft                                               4.233333   \n",
       "NetSummit Enterprises, Inc.                            2.882353   \n",
       "Netsummit Marketing, Inc.                              3.388889   \n",
       "Tapps Tecnologia da Informa\\xe7\\xe3o Ltda.             4.417391   \n",
       "Vikash Patel                                           1.500000   \n",
       "\n",
       "                                            User Rating Count  \n",
       "Developer                                                      \n",
       "GabySoft                                           355.533333  \n",
       "NetSummit Enterprises, Inc.                         15.529412  \n",
       "Netsummit Marketing, Inc.                           13.055556  \n",
       "Tapps Tecnologia da Informa\\xe7\\xe3o Ltda.        2390.000000  \n",
       "Vikash Patel                                         5.000000  "
      ]
     },
     "execution_count": 36,
     "metadata": {},
     "output_type": "execute_result"
    }
   ],
   "source": [
    "# most_released_devs is an array of Developers who uploaded more than 70 apps\n",
    "most_released_devs = df[df[\"Developer\"].isin(df[\"Developer\"].value_counts().index[df[\"Developer\"].value_counts().gt(70)])][\"Developer\"] #get the value counts of Developers that has more than 70 apps\n",
    "print(most_released_devs.unique())\n",
    "\n",
    "top_5_devs_df = df[df['Developer'].isin(most_released_devs)]\n",
    "top_5_devs_df.groupby(['Developer'])['Average User Rating', 'User Rating Count'].mean()"
   ]
  },
  {
   "cell_type": "code",
   "execution_count": 69,
   "metadata": {},
   "outputs": [
    {
     "data": {
      "text/plain": [
       "Text(0.5, 1.0, 'Count of Apps uploaded by the developers with the most shipped apps')"
      ]
     },
     "execution_count": 69,
     "metadata": {},
     "output_type": "execute_result"
    },
    {
     "data": {
      "image/png": "[encoded data removed]",
      "text/plain": [
       "<Figure size 1440x360 with 1 Axes>"
      ]
     },
     "metadata": {
      "needs_background": "light"
     },
     "output_type": "display_data"
    }
   ],
   "source": [
    "# top_5_devs_df.info()\n",
    "n_user_rating = top_5_devs_df['Developer']\n",
    "plt.figure(figsize=(20,5))\n",
    "sns.countplot(n_user_rating)\n",
    "plt.title(\"Count of apps uploaded by the developers with the most shipped apps\",fontsize=15)\n",
    "# sns.countplot(x='Developer', edgecolor=\"1\", hue=\"Multiple Languages\", data=top_5_devs_df)"
   ]
  },
  {
   "cell_type": "markdown",
   "metadata": {},
   "source": [
    "### How to get each top developer's apps that received more than 1000 User Rating Count and received a 4.0 rating or greater"
   ]
  },
  {
   "cell_type": "code",
   "execution_count": 80,
   "metadata": {},
   "outputs": [
    {
     "data": {
      "text/plain": [
       "<matplotlib.axes._subplots.AxesSubplot at 0x127eadcd0>"
      ]
     },
     "execution_count": 80,
     "metadata": {},
     "output_type": "execute_result"
    },
    {
     "data": {
      "image/png": "[encoded data removed]",
      "text/plain": [
       "<Figure size 432x288 with 1 Axes>"
      ]
     },
     "metadata": {
      "needs_background": "light"
     },
     "output_type": "display_data"
    }
   ],
   "source": [
    "# top_5_devs_df[(top_5_devs_df[\"Average User Rating\"] > 4) & (top_5_devs_df[\"User Rating Count\"] > 1000)]\n",
    "sns.countplot(x='Average User Rating', hue=\"Developer\", edgecolor=\"1\", data=top_5_devs_df[(top_5_devs_df[\"User Rating Count\"] > 1000)])"
   ]
  },
  {
   "cell_type": "code",
   "execution_count": 280,
   "metadata": {},
   "outputs": [],
   "source": [
    "def df_from_col_ratio(df, to_ratio_col, x_col):\n",
    "    '''Get df with ratio of column based on all possible values or x_col and put it in a line graph'''\n",
    "    to_ratio_values = [] #unique values of to_ratio_col from df\n",
    "    x_col_values_dic = {} #{\"Promoter\": [], \"Passive\": [], \"Detractor\":[]} \n",
    "    for to_ratio_value in sorted(df[to_ratio_col].dropna().unique()): #loop through each unique values of to_ratio_col\n",
    "        x_col_ratio_dic = conditional_prob(df, to_ratio_col, to_ratio_value, x_col)\n",
    "        to_ratio_values.append(to_ratio_value) #append current location\n",
    "        for key, value in x_col_ratio_dic.items(): #loop through each key,value pairs in dic received from conditional_prob\n",
    "            if key in x_col_values_dic: #if dic's key has values already\n",
    "                x_col_values_dic[key].append(value) #if key exist, append value to our list's key\n",
    "            else:  #if dic's key is none...\n",
    "                x_col_values_dic[key] = [value] #create the array with our value\n",
    "    #Turn dic and array to dataframe\n",
    "    df_new = pd.DataFrame(x_col_values_dic, index=to_ratio_values)\n",
    "    return df_new\n",
    "\n",
    "# columns = [column for column in df.columns if df[column].dtype == 'float64']\n",
    "# top_5_devs_df.drop(\"ID\", axis=1) #trying to remove ID column in the graph\n",
    "# del top_5_devs_df['ID'] #delet ID column\n",
    "# top_5_devs_df['Average User Rating'].plot.line()"
   ]
  },
  {
   "cell_type": "code",
   "execution_count": 281,
   "metadata": {},
   "outputs": [],
   "source": [
    "# top_5_devs_df['User Rating Count'].plot.line()"
   ]
  },
  {
   "cell_type": "code",
   "execution_count": 259,
   "metadata": {},
   "outputs": [
    {
     "data": {
      "text/plain": [
       "Text(0.5, 1.0, 'Did High Rated Apps By Top Developers Supported Multiple Languages?')"
      ]
     },
     "execution_count": 259,
     "metadata": {},
     "output_type": "execute_result"
    },
    {
     "data": {
      "image/png": "[encoded data removed]",
      "text/plain": [
       "<Figure size 432x288 with 1 Axes>"
      ]
     },
     "metadata": {
      "needs_background": "light"
     },
     "output_type": "display_data"
    }
   ],
   "source": [
    "top_5_devs = top_5_devs_df[(top_5_devs_df[\"Average User Rating\"] >= 4)]\n",
    "plot = sns.countplot(x=\"Average User Rating\", hue=\"Multiple Languages\", data=top_5_devs)\n",
    "plot.set_title(\"Did High Rated Apps By Top Developers Supported Multiple Languages?\")"
   ]
  },
  {
   "cell_type": "markdown",
   "metadata": {},
   "source": [
    "### How to get each developer's most User Rating Count apps"
   ]
  },
  {
   "cell_type": "code",
   "execution_count": 336,
   "metadata": {},
   "outputs": [
    {
     "data": {
      "text/html": [
       "<div>\n",
       "<style scoped>\n",
       "    .dataframe tbody tr th:only-of-type {\n",
       "        vertical-align: middle;\n",
       "    }\n",
       "\n",
       "    .dataframe tbody tr th {\n",
       "        vertical-align: top;\n",
       "    }\n",
       "\n",
       "    .dataframe thead th {\n",
       "        text-align: right;\n",
       "    }\n",
       "</style>\n",
       "<table border=\"1\" class=\"dataframe\">\n",
       "  <thead>\n",
       "    <tr style=\"text-align: right;\">\n",
       "      <th></th>\n",
       "      <th>URL</th>\n",
       "      <th>Name</th>\n",
       "      <th>Subtitle</th>\n",
       "      <th>Icon URL</th>\n",
       "      <th>Average User Rating</th>\n",
       "      <th>User Rating Count</th>\n",
       "      <th>Price</th>\n",
       "      <th>In-app Purchases</th>\n",
       "      <th>Description</th>\n",
       "      <th>Developer</th>\n",
       "      <th>Age Rating</th>\n",
       "      <th>Languages</th>\n",
       "      <th>Size</th>\n",
       "      <th>Primary Genre</th>\n",
       "      <th>Genres</th>\n",
       "      <th>Original Release Date</th>\n",
       "      <th>Current Version Release Date</th>\n",
       "      <th>Multiple Languages</th>\n",
       "    </tr>\n",
       "  </thead>\n",
       "  <tbody>\n",
       "    <tr>\n",
       "      <th>1172</th>\n",
       "      <td>https://apps.apple.com/us/app/flippix-art-zoo/...</td>\n",
       "      <td>FlipPix Art - Zoo</td>\n",
       "      <td>NaN</td>\n",
       "      <td>https://is2-ssl.mzstatic.com/image/thumb/Purpl...</td>\n",
       "      <td>4.5</td>\n",
       "      <td>3455.0</td>\n",
       "      <td>0.0</td>\n",
       "      <td>NaN</td>\n",
       "      <td>\"An old Japanese logic puzzle takes on a new l...</td>\n",
       "      <td>GabySoft</td>\n",
       "      <td>4+</td>\n",
       "      <td>EN</td>\n",
       "      <td>31571968.0</td>\n",
       "      <td>Games</td>\n",
       "      <td>Games, Puzzle, Strategy, Entertainment</td>\n",
       "      <td>1/03/2012</td>\n",
       "      <td>7/03/2018</td>\n",
       "      <td>0</td>\n",
       "    </tr>\n",
       "    <tr>\n",
       "      <th>3227</th>\n",
       "      <td>https://apps.apple.com/us/app/doodle-connect-p...</td>\n",
       "      <td>Doodle Connect Pipe</td>\n",
       "      <td>NaN</td>\n",
       "      <td>https://is2-ssl.mzstatic.com/image/thumb/Purpl...</td>\n",
       "      <td>3.5</td>\n",
       "      <td>59.0</td>\n",
       "      <td>0.0</td>\n",
       "      <td>2.99</td>\n",
       "      <td>Connect the dots! Connect the pipes to each co...</td>\n",
       "      <td>NetSummit Enterprises, Inc.</td>\n",
       "      <td>4+</td>\n",
       "      <td>EN</td>\n",
       "      <td>15949824.0</td>\n",
       "      <td>Games</td>\n",
       "      <td>Games, Strategy, Puzzle</td>\n",
       "      <td>7/02/2014</td>\n",
       "      <td>6/08/2014</td>\n",
       "      <td>0</td>\n",
       "    </tr>\n",
       "    <tr>\n",
       "      <th>3473</th>\n",
       "      <td>https://apps.apple.com/us/app/jewel-pop-ultima...</td>\n",
       "      <td>Jewel Pop: Ultimate Match Game</td>\n",
       "      <td>NaN</td>\n",
       "      <td>https://is4-ssl.mzstatic.com/image/thumb/Purpl...</td>\n",
       "      <td>4.0</td>\n",
       "      <td>67.0</td>\n",
       "      <td>0.0</td>\n",
       "      <td>2.99, 0.99, 3.99, 1.99</td>\n",
       "      <td>\"Once you pop, it's hard to stop!\\n\\nThis chal...</td>\n",
       "      <td>Netsummit Marketing, Inc.</td>\n",
       "      <td>4+</td>\n",
       "      <td>EN, FR, DE, JA, KO, ZH</td>\n",
       "      <td>33669120.0</td>\n",
       "      <td>Games</td>\n",
       "      <td>Games, Strategy, Puzzle</td>\n",
       "      <td>4/04/2014</td>\n",
       "      <td>10/10/2014</td>\n",
       "      <td>1</td>\n",
       "    </tr>\n",
       "    <tr>\n",
       "      <th>7002</th>\n",
       "      <td>https://apps.apple.com/us/app/vlogger-go-viral...</td>\n",
       "      <td>Vlogger Go Viral - Tube Star</td>\n",
       "      <td>Clicker Idle Simulator</td>\n",
       "      <td>https://is4-ssl.mzstatic.com/image/thumb/Purpl...</td>\n",
       "      <td>5.0</td>\n",
       "      <td>80407.0</td>\n",
       "      <td>0.0</td>\n",
       "      <td>2.99, 1.99, 2.99, 4.99, 9.99, 5.99, 2.99, 5.99...</td>\n",
       "      <td>\"Get ready to become the next Internet sensati...</td>\n",
       "      <td>Tapps Tecnologia da Informa\\xe7\\xe3o Ltda.</td>\n",
       "      <td>4+</td>\n",
       "      <td>EN, FR, DE, PT, RU, ES, TR</td>\n",
       "      <td>138714112.0</td>\n",
       "      <td>Games</td>\n",
       "      <td>Games, Entertainment, Strategy, Simulation</td>\n",
       "      <td>26/11/2015</td>\n",
       "      <td>24/07/2019</td>\n",
       "      <td>1</td>\n",
       "    </tr>\n",
       "    <tr>\n",
       "      <th>10042</th>\n",
       "      <td>https://apps.apple.com/us/app/farm-find-the-hi...</td>\n",
       "      <td>Farm Find The Hidden Objects Old Memory</td>\n",
       "      <td>NaN</td>\n",
       "      <td>https://is4-ssl.mzstatic.com/image/thumb/Purpl...</td>\n",
       "      <td>1.5</td>\n",
       "      <td>5.0</td>\n",
       "      <td>0.0</td>\n",
       "      <td>NaN</td>\n",
       "      <td>Farm Find The Hidden Objects Old Memory is a n...</td>\n",
       "      <td>Vikash Patel</td>\n",
       "      <td>4+</td>\n",
       "      <td>EN</td>\n",
       "      <td>6553600.0</td>\n",
       "      <td>Games</td>\n",
       "      <td>Games, Puzzle, Strategy, Entertainment</td>\n",
       "      <td>6/11/2016</td>\n",
       "      <td>6/11/2016</td>\n",
       "      <td>0</td>\n",
       "    </tr>\n",
       "  </tbody>\n",
       "</table>\n",
       "</div>"
      ],
      "text/plain": [
       "                                                     URL  \\\n",
       "1172   https://apps.apple.com/us/app/flippix-art-zoo/...   \n",
       "3227   https://apps.apple.com/us/app/doodle-connect-p...   \n",
       "3473   https://apps.apple.com/us/app/jewel-pop-ultima...   \n",
       "7002   https://apps.apple.com/us/app/vlogger-go-viral...   \n",
       "10042  https://apps.apple.com/us/app/farm-find-the-hi...   \n",
       "\n",
       "                                          Name                Subtitle  \\\n",
       "1172                         FlipPix Art - Zoo                     NaN   \n",
       "3227                       Doodle Connect Pipe                     NaN   \n",
       "3473            Jewel Pop: Ultimate Match Game                     NaN   \n",
       "7002              Vlogger Go Viral - Tube Star  Clicker Idle Simulator   \n",
       "10042  Farm Find The Hidden Objects Old Memory                     NaN   \n",
       "\n",
       "                                                Icon URL  Average User Rating  \\\n",
       "1172   https://is2-ssl.mzstatic.com/image/thumb/Purpl...                  4.5   \n",
       "3227   https://is2-ssl.mzstatic.com/image/thumb/Purpl...                  3.5   \n",
       "3473   https://is4-ssl.mzstatic.com/image/thumb/Purpl...                  4.0   \n",
       "7002   https://is4-ssl.mzstatic.com/image/thumb/Purpl...                  5.0   \n",
       "10042  https://is4-ssl.mzstatic.com/image/thumb/Purpl...                  1.5   \n",
       "\n",
       "       User Rating Count  Price  \\\n",
       "1172              3455.0    0.0   \n",
       "3227                59.0    0.0   \n",
       "3473                67.0    0.0   \n",
       "7002             80407.0    0.0   \n",
       "10042                5.0    0.0   \n",
       "\n",
       "                                        In-app Purchases  \\\n",
       "1172                                                 NaN   \n",
       "3227                                                2.99   \n",
       "3473                              2.99, 0.99, 3.99, 1.99   \n",
       "7002   2.99, 1.99, 2.99, 4.99, 9.99, 5.99, 2.99, 5.99...   \n",
       "10042                                                NaN   \n",
       "\n",
       "                                             Description  \\\n",
       "1172   \"An old Japanese logic puzzle takes on a new l...   \n",
       "3227   Connect the dots! Connect the pipes to each co...   \n",
       "3473   \"Once you pop, it's hard to stop!\\n\\nThis chal...   \n",
       "7002   \"Get ready to become the next Internet sensati...   \n",
       "10042  Farm Find The Hidden Objects Old Memory is a n...   \n",
       "\n",
       "                                        Developer Age Rating  \\\n",
       "1172                                     GabySoft         4+   \n",
       "3227                  NetSummit Enterprises, Inc.         4+   \n",
       "3473                    Netsummit Marketing, Inc.         4+   \n",
       "7002   Tapps Tecnologia da Informa\\xe7\\xe3o Ltda.         4+   \n",
       "10042                                Vikash Patel         4+   \n",
       "\n",
       "                        Languages         Size Primary Genre  \\\n",
       "1172                           EN   31571968.0         Games   \n",
       "3227                           EN   15949824.0         Games   \n",
       "3473       EN, FR, DE, JA, KO, ZH   33669120.0         Games   \n",
       "7002   EN, FR, DE, PT, RU, ES, TR  138714112.0         Games   \n",
       "10042                          EN    6553600.0         Games   \n",
       "\n",
       "                                           Genres Original Release Date  \\\n",
       "1172       Games, Puzzle, Strategy, Entertainment             1/03/2012   \n",
       "3227                      Games, Strategy, Puzzle             7/02/2014   \n",
       "3473                      Games, Strategy, Puzzle             4/04/2014   \n",
       "7002   Games, Entertainment, Strategy, Simulation            26/11/2015   \n",
       "10042      Games, Puzzle, Strategy, Entertainment             6/11/2016   \n",
       "\n",
       "      Current Version Release Date  Multiple Languages  \n",
       "1172                     7/03/2018                   0  \n",
       "3227                     6/08/2014                   0  \n",
       "3473                    10/10/2014                   1  \n",
       "7002                    24/07/2019                   1  \n",
       "10042                    6/11/2016                   0  "
      ]
     },
     "execution_count": 336,
     "metadata": {},
     "output_type": "execute_result"
    }
   ],
   "source": [
    "top_5_devs_df.loc[top_5_devs_df.groupby('Developer')[\"User Rating Count\"].agg('idxmax')]"
   ]
  },
  {
   "cell_type": "markdown",
   "metadata": {},
   "source": [
    "### Answers\n",
    "- Tapps Tecnologia da Informa had most apps and user ratings\n",
    "- Uploading more apps doesnt generally results to higher rating average or higher rating count"
   ]
  },
  {
   "cell_type": "markdown",
   "metadata": {},
   "source": [
    "### Q5 Successful Apps Commonalities"
   ]
  },
  {
   "cell_type": "code",
   "execution_count": 334,
   "metadata": {},
   "outputs": [
    {
     "data": {
      "text/plain": [
       "Text(0.5, 1.0, 'Age Rating 10K Rating Counts')"
      ]
     },
     "execution_count": 334,
     "metadata": {},
     "output_type": "execute_result"
    },
    {
     "data": {
      "image/png": "[encoded data removed]",
      "text/plain": [
       "<Figure size 432x288 with 1 Axes>"
      ]
     },
     "metadata": {
      "needs_background": "light"
     },
     "output_type": "display_data"
    }
   ],
   "source": [
    "ten_k_rates = df[(df[\"Average User Rating\"] >= 4) & (df[\"User Rating Count\"] > 10000)]\n",
    "plot = sns.countplot(x=\"Average User Rating\", hue=\"Age Rating\", data=ten_k_rates)\n",
    "# plot = sns.countplot(x=\"Age Rating\", hue=\"Average User Rating\", data=top_5_devs)\n",
    "plot.set_title(\"Age Rating 10K Rating Counts\")"
   ]
  },
  {
   "cell_type": "code",
   "execution_count": 335,
   "metadata": {},
   "outputs": [
    {
     "data": {
      "text/plain": [
       "Text(0.5, 1.0, 'Age Rating 1K Rating Counts')"
      ]
     },
     "execution_count": 335,
     "metadata": {},
     "output_type": "execute_result"
    },
    {
     "data": {
      "image/png": "[encoded data removed]",
      "text/plain": [
       "<Figure size 432x288 with 1 Axes>"
      ]
     },
     "metadata": {
      "needs_background": "light"
     },
     "output_type": "display_data"
    }
   ],
   "source": [
    "one_k_rates = df[(df[\"Average User Rating\"] >= 4) & (df[\"User Rating Count\"] > 1000)]\n",
    "plot2 = sns.countplot(x=\"Average User Rating\", hue=\"Age Rating\", data=one_k_rates)\n",
    "plot2.set_title(\"Age Rating 1K Rating Counts\")"
   ]
  },
  {
   "cell_type": "code",
   "execution_count": 305,
   "metadata": {},
   "outputs": [
    {
     "data": {
      "text/plain": [
       "Text(0.5, 1.0, 'Free Apps Performs Better')"
      ]
     },
     "execution_count": 305,
     "metadata": {},
     "output_type": "execute_result"
    },
    {
     "data": {
      "image/png": "[encoded data removed]",
      "text/plain": [
       "<Figure size 432x288 with 1 Axes>"
      ]
     },
     "metadata": {
      "needs_background": "light"
     },
     "output_type": "display_data"
    }
   ],
   "source": [
    "successful_apps = df[(df[\"User Rating Count\"] > 10000) & (df[\"Price\"] < 5)]\n",
    "plot1 = sns.countplot(x=\"Average User Rating\", hue=\"Price\", data=successful_apps)\n",
    "plot1.set_title(\"Free Apps Performs Better\")"
   ]
  },
  {
   "cell_type": "code",
   "execution_count": 333,
   "metadata": {},
   "outputs": [
    {
     "name": "stdout",
     "output_type": "stream",
     "text": [
      "45 % of Apps have In-App Purchases\n",
      "92 % of Successfull Apps have In-App Purchases\n"
     ]
    }
   ],
   "source": [
    "in_app_purchase = df[\"In-app Purchases\"].dropna()\n",
    "in_app_purchase_percent = len(in_app_purchase) / len(df)\n",
    "print(str(round(in_app_purchase_percent * 100)), \"% of Apps have In-App Purchases\")\n",
    "\n",
    "successful_in_app_purchase = ten_k_rates[\"In-app Purchases\"].dropna()\n",
    "successful_in_app_purchase_percent = len(successful_in_app_purchase) / len(ten_k_rates)\n",
    "print(str(round(successful_in_app_purchase_percent * 100)), \"% of Successfull Apps have In-App Purchases\")"
   ]
  },
  {
   "cell_type": "code",
   "execution_count": null,
   "metadata": {},
   "outputs": [],
   "source": []
  },
  {
   "cell_type": "code",
   "execution_count": null,
   "metadata": {},
   "outputs": [],
   "source": []
  },
  {
   "cell_type": "markdown",
   "metadata": {},
   "source": [
    "## Conclusions\n",
    "- Strategy games are very popular and receiving mostly a 4.5 rating in the App Store\n",
    "- Factors that can drive more downloads and higher user rating average\n",
    "    - support multiple languages ***(To automate localization, check out [StringsUtility](https://github.com/SamuelFolledo/StringsUtility))***\n",
    "    - include in-app purchases\n",
    "    - Do not set Age Rating to 17+, anything below 17+ will result to more User Rating Count\n",
    "    - Make your game free of course\n",
    "    - Life span and constantly updating apps, as more apps doesn't result to more\n",
    "    "
   ]
  },
  {
   "cell_type": "code",
   "execution_count": null,
   "metadata": {},
   "outputs": [],
   "source": []
  },
  {
   "cell_type": "code",
   "execution_count": null,
   "metadata": {},
   "outputs": [],
   "source": []
  },
  {
   "cell_type": "code",
   "execution_count": null,
   "metadata": {},
   "outputs": [],
   "source": []
  },
  {
   "cell_type": "code",
   "execution_count": null,
   "metadata": {},
   "outputs": [],
   "source": []
  },
  {
   "cell_type": "code",
   "execution_count": null,
   "metadata": {},
   "outputs": [],
   "source": []
  },
  {
   "cell_type": "code",
   "execution_count": null,
   "metadata": {},
   "outputs": [],
   "source": []
  }
 ],
 "metadata": {
  "kernelspec": {
   "display_name": "Python 3",
   "language": "python",
   "name": "python3"
  },
  "language_info": {
   "codemirror_mode": {
    "name": "ipython",
    "version": 3
   },
   "file_extension": ".py",
   "mimetype": "text/x-python",
   "name": "python",
   "nbconvert_exporter": "python",
   "pygments_lexer": "ipython3",
   "version": "3.7.4"
  }
 },
 "nbformat": 4,
 "nbformat_minor": 2
}
