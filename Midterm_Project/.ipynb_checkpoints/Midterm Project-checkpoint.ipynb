{
 "cells": [
  {
   "cell_type": "markdown",
   "metadata": {},
   "source": [
    "# Midterm Project\n",
    "[Project Guidelines: Summer Academy NPS Data](https://docs.google.com/document/d/11v_d1bkFbTM4N3WU6JAbdR_9_eUChrN32-mdQ9zKaOw/preview)"
   ]
  },
  {
   "cell_type": "markdown",
   "metadata": {},
   "source": [
    "### Important Links\n",
    "- [Exploratory Data Analysis in Pandas](https://www.kaggle.com/kashnitsky/topic-1-exploratory-data-analysis-with-pandas)"
   ]
  },
  {
   "cell_type": "code",
   "execution_count": 82,
   "metadata": {},
   "outputs": [
    {
     "data": {
      "text/html": [
       "<div>\n",
       "<style scoped>\n",
       "    .dataframe tbody tr th:only-of-type {\n",
       "        vertical-align: middle;\n",
       "    }\n",
       "\n",
       "    .dataframe tbody tr th {\n",
       "        vertical-align: top;\n",
       "    }\n",
       "\n",
       "    .dataframe thead th {\n",
       "        text-align: right;\n",
       "    }\n",
       "</style>\n",
       "<table border=\"1\" class=\"dataframe\">\n",
       "  <thead>\n",
       "    <tr style=\"text-align: right;\">\n",
       "      <th></th>\n",
       "      <th>ID</th>\n",
       "      <th>Location</th>\n",
       "      <th>Track</th>\n",
       "      <th>Week</th>\n",
       "      <th>Rating (Num)</th>\n",
       "      <th>Schedule Pacing</th>\n",
       "    </tr>\n",
       "  </thead>\n",
       "  <tbody>\n",
       "    <tr>\n",
       "      <th>0</th>\n",
       "      <td>134</td>\n",
       "      <td>San Francisco</td>\n",
       "      <td>Apps, Explorer</td>\n",
       "      <td>Week 1</td>\n",
       "      <td>3</td>\n",
       "      <td>Just right</td>\n",
       "    </tr>\n",
       "    <tr>\n",
       "      <th>1</th>\n",
       "      <td>36</td>\n",
       "      <td>Los Angeles</td>\n",
       "      <td>Apps</td>\n",
       "      <td>Week 1</td>\n",
       "      <td>4</td>\n",
       "      <td>A little too fast</td>\n",
       "    </tr>\n",
       "    <tr>\n",
       "      <th>2</th>\n",
       "      <td>117</td>\n",
       "      <td>San Francisco</td>\n",
       "      <td>Games</td>\n",
       "      <td>Week 1</td>\n",
       "      <td>4</td>\n",
       "      <td>Way too slow</td>\n",
       "    </tr>\n",
       "    <tr>\n",
       "      <th>3</th>\n",
       "      <td>253</td>\n",
       "      <td>NaN</td>\n",
       "      <td>NaN</td>\n",
       "      <td>Week 2</td>\n",
       "      <td>4</td>\n",
       "      <td>A little too fast</td>\n",
       "    </tr>\n",
       "    <tr>\n",
       "      <th>4</th>\n",
       "      <td>350</td>\n",
       "      <td>New York City</td>\n",
       "      <td>Apps, Explorer</td>\n",
       "      <td>Week 1</td>\n",
       "      <td>4</td>\n",
       "      <td>Just right</td>\n",
       "    </tr>\n",
       "  </tbody>\n",
       "</table>\n",
       "</div>"
      ],
      "text/plain": [
       "    ID       Location           Track    Week Rating (Num)    Schedule Pacing\n",
       "0  134  San Francisco  Apps, Explorer  Week 1            3         Just right\n",
       "1   36    Los Angeles            Apps  Week 1            4  A little too fast\n",
       "2  117  San Francisco           Games  Week 1            4       Way too slow\n",
       "3  253            NaN             NaN  Week 2            4  A little too fast\n",
       "4  350  New York City  Apps, Explorer  Week 1            4         Just right"
      ]
     },
     "execution_count": 82,
     "metadata": {},
     "output_type": "execute_result"
    }
   ],
   "source": [
    "import pandas as pd\n",
    "import numpy as np\n",
    "\n",
    "FILEPATH = \"survey_midterm_datasets/2017/Student Feedback Surveys-Superview.csv\"\n",
    "df = pd.read_csv(FILEPATH)\n",
    "df.head()"
   ]
  },
  {
   "cell_type": "markdown",
   "metadata": {},
   "source": [
    "## Description of Problem\n",
    "Clean and investigate Make School NPS data to find interesting and actionable trends that help inform decision-makers. Create a presentation in a Jupyter Notebook using data visualizations and other techniques that allow non-technical team members to understand your findings. \n",
    "\n",
    "### 1. Analyze Dataset"
   ]
  },
  {
   "cell_type": "code",
   "execution_count": 143,
   "metadata": {},
   "outputs": [
    {
     "name": "stdout",
     "output_type": "stream",
     "text": [
      "\n",
      "------------------------------\n",
      "INFO\n",
      "------------------------------\n",
      "<class 'pandas.core.frame.DataFrame'>\n",
      "RangeIndex: 1453 entries, 0 to 1452\n",
      "Data columns (total 6 columns):\n",
      "ID                 1453 non-null int64\n",
      "Location           1406 non-null object\n",
      "Track              1406 non-null object\n",
      "Week               1453 non-null object\n",
      "Rating (Num)       1450 non-null float64\n",
      "Schedule Pacing    1450 non-null object\n",
      "dtypes: float64(1), int64(1), object(4)\n",
      "memory usage: 68.2+ KB\n",
      "\n",
      "------------------------------\n",
      "COLUMN'S UNIQUE VALUES COUNT\n",
      "------------------------------\n",
      "ID                 1453\n",
      "Location             12\n",
      "Track                 5\n",
      "Week                  8\n",
      "Rating (Num)         11\n",
      "Schedule Pacing       5\n",
      "dtype: int64\n",
      "\n",
      "Column:  ID\n",
      "1499    1\n",
      "503     1\n",
      "505     1\n",
      "506     1\n",
      "507     1\n",
      "       ..\n",
      "1012    1\n",
      "1013    1\n",
      "1014    1\n",
      "1015    1\n",
      "8       1\n",
      "Length: 1453, dtype: int64\n",
      "\n",
      "Column:  Location\n",
      "San Francisco    360\n",
      "New York City    330\n",
      "Santa Clara      201\n",
      "Los Angeles      106\n",
      "Beijing           78\n",
      "Chicago           70\n",
      "Tokyo             65\n",
      "Redwood City      58\n",
      "Oakland           47\n",
      "Washington DC     47\n",
      "Atlanta           33\n",
      "Hong Kong         11\n",
      "dtype: int64\n",
      "\n",
      "Column:  Track\n",
      "Apps               871\n",
      "Apps, Explorer     224\n",
      "Games              208\n",
      "VR                  60\n",
      "Games, Explorer     43\n",
      "dtype: int64\n",
      "\n",
      "Column:  Week\n",
      "Week 1    288\n",
      "Week 2    277\n",
      "Week 3    243\n",
      "Week 4    193\n",
      "Week 5    179\n",
      "Week 6    144\n",
      "Week 7    120\n",
      "Week 8      9\n",
      "dtype: int64\n",
      "\n",
      "Column:  Rating (Num)\n",
      "8.0     392\n",
      "9.0     384\n",
      "10.0    376\n",
      "7.0     177\n",
      "6.0      59\n",
      "5.0      35\n",
      "4.0      13\n",
      "3.0       8\n",
      "2.0       2\n",
      "1.0       2\n",
      "0.0       2\n",
      "dtype: int64\n",
      "\n",
      "Column:  Schedule Pacing\n",
      "Just right           1034\n",
      "A little too fast     289\n",
      "A little too slow     100\n",
      "Way too fast           23\n",
      "Way too slow            4\n",
      "dtype: int64\n"
     ]
    }
   ],
   "source": [
    "def analyze_dataset(df):\n",
    "    print(\"\\n------------------------------\\nINFO\\n------------------------------\")\n",
    "    df.info() #info of datasets: (range), column's (count, names, non-null counts, data types), memory usage\n",
    "    print(\"\\n------------------------------\\nCOLUMN'S UNIQUE VALUES COUNT\\n------------------------------\")\n",
    "    print(df.nunique()) #check how many unique values each columns has\n",
    "    # df[\"Rating (Num)\"].value_counts() #check what those unique values in the columns are and their counts\n",
    "#     print(df.apply(lambda column_name: column_name.value_counts()).T.stack())\n",
    "    for column_name in df.columns:\n",
    "        print(\"\\n\", column_name, \" column\")\n",
    "        print(df.T.stack()[column_name].value_counts())\n",
    "analyze_dataset(df)"
   ]
  },
  {
   "cell_type": "markdown",
   "metadata": {},
   "source": [
    "### 2. Clean Dataset"
   ]
  },
  {
   "cell_type": "code",
   "execution_count": 145,
   "metadata": {},
   "outputs": [
    {
     "name": "stdout",
     "output_type": "stream",
     "text": [
      "\n",
      "------------------------------\n",
      "INFO\n",
      "------------------------------\n",
      "<class 'pandas.core.frame.DataFrame'>\n",
      "RangeIndex: 1453 entries, 0 to 1452\n",
      "Data columns (total 6 columns):\n",
      "ID                 1453 non-null int64\n",
      "Location           1406 non-null object\n",
      "Track              1406 non-null object\n",
      "Week               1453 non-null object\n",
      "Rating (Num)       1450 non-null float64\n",
      "Schedule Pacing    1450 non-null object\n",
      "dtypes: float64(1), int64(1), object(4)\n",
      "memory usage: 68.2+ KB\n",
      "\n",
      "------------------------------\n",
      "COLUMN'S UNIQUE VALUES COUNT\n",
      "------------------------------\n",
      "ID                 1453\n",
      "Location             12\n",
      "Track                 5\n",
      "Week                  8\n",
      "Rating (Num)         11\n",
      "Schedule Pacing       5\n",
      "dtype: int64\n",
      "\n",
      "Column:  ID\n",
      "1499    1\n",
      "503     1\n",
      "505     1\n",
      "506     1\n",
      "507     1\n",
      "       ..\n",
      "1012    1\n",
      "1013    1\n",
      "1014    1\n",
      "1015    1\n",
      "8       1\n",
      "Length: 1453, dtype: int64\n",
      "\n",
      "Column:  Location\n",
      "San Francisco    360\n",
      "New York City    330\n",
      "Santa Clara      201\n",
      "Los Angeles      106\n",
      "Beijing           78\n",
      "Chicago           70\n",
      "Tokyo             65\n",
      "Redwood City      58\n",
      "Oakland           47\n",
      "Washington DC     47\n",
      "Atlanta           33\n",
      "Hong Kong         11\n",
      "dtype: int64\n",
      "\n",
      "Column:  Track\n",
      "Apps               871\n",
      "Apps, Explorer     224\n",
      "Games              208\n",
      "VR                  60\n",
      "Games, Explorer     43\n",
      "dtype: int64\n",
      "\n",
      "Column:  Week\n",
      "Week 1    288\n",
      "Week 2    277\n",
      "Week 3    243\n",
      "Week 4    193\n",
      "Week 5    179\n",
      "Week 6    144\n",
      "Week 7    120\n",
      "Week 8      9\n",
      "dtype: int64\n",
      "\n",
      "Column:  Rating (Num)\n",
      "8.0     392\n",
      "9.0     384\n",
      "10.0    376\n",
      "7.0     177\n",
      "6.0      59\n",
      "5.0      35\n",
      "4.0      13\n",
      "3.0       8\n",
      "2.0       2\n",
      "1.0       2\n",
      "0.0       2\n",
      "dtype: int64\n",
      "\n",
      "Column:  Schedule Pacing\n",
      "Just right           1034\n",
      "A little too fast     289\n",
      "A little too slow     100\n",
      "Way too fast           23\n",
      "Way too slow            4\n",
      "dtype: int64\n"
     ]
    }
   ],
   "source": [
    "# df = pd.read_csv(\"train.csv\", usecols= [\"PassengerId\", \"Survived\", \"Pclass\"])  #only use columns we want\n",
    "# df = pd.read_csv(FILEPATH, skiprows = 1, na_values = ['no info', '.']) #skip rows\n",
    "df = pd.read_csv(FILEPATH, na_values = ['#ERROR!']) #put array of values that will be converted to NaN\n",
    "analyze_dataset(df)"
   ]
  },
  {
   "cell_type": "markdown",
   "metadata": {},
   "source": [
    "## Background on NPS\n",
    "Every summer, Make School welcomes hundreds of students into the Summer Academy to study software development and build cool stuff. The management wants to make sure that students continue to be satisfied with their experience as the program scales. The main way we measure this is through **Net Promoter Score (NPS), which is a tool commonly used to measure customer loyalty and promotion**. You’ve seen NPS before if you’ve been asked a question like:\n",
    "“On a scale of 1 to 10, how likely are you to recommend [X] to a friend or colleague?”\n",
    "\n",
    "NPS segments all responses between 1 and 10 into three categories based on their sentiment:\n",
    "- Promoter (9 – 10)\n",
    "- Passive (7 – 8)\n",
    "- Detractor (1 – 6)\n",
    "\n",
    "### To calculate NPS, companies follow these steps:\n",
    "1. Segment all responses into Promoter, Passive, and Detractor categories.\n",
    "2. Calculate the percentage of responses in each category out of the total number of responses to the survey.\n",
    "3. Subtract the Detractors percentage from the Promoters percentage. This is the NPS.\n",
    "\n",
    "```NPS = (Promoters - Detractors)  (Promoters + Passives + Detractors)```\n"
   ]
  },
  {
   "cell_type": "code",
   "execution_count": 114,
   "metadata": {},
   "outputs": [
    {
     "data": {
      "text/plain": [
       "Week 1    288\n",
       "Week 2    277\n",
       "Week 3    243\n",
       "Week 4    193\n",
       "Week 5    179\n",
       "Week 6    144\n",
       "Week 7    120\n",
       "Week 8      9\n",
       "Name: Week, dtype: int64"
      ]
     },
     "execution_count": 114,
     "metadata": {},
     "output_type": "execute_result"
    }
   ],
   "source": [
    "# Promoters = 9-10\n",
    "promoters = 0\n",
    "df[\"Week\"].value_counts()"
   ]
  },
  {
   "cell_type": "code",
   "execution_count": null,
   "metadata": {},
   "outputs": [],
   "source": []
  },
  {
   "cell_type": "code",
   "execution_count": null,
   "metadata": {},
   "outputs": [],
   "source": [
    "# Passive = 7-8"
   ]
  },
  {
   "cell_type": "code",
   "execution_count": null,
   "metadata": {},
   "outputs": [],
   "source": [
    "# Detractor = 1-6"
   ]
  },
  {
   "cell_type": "code",
   "execution_count": null,
   "metadata": {},
   "outputs": [],
   "source": [
    "# NPS = (Promoters - Detractors)  (Promoters + Passives + Detractors)"
   ]
  },
  {
   "cell_type": "markdown",
   "metadata": {},
   "source": [
    "### Questions to Consider Answering\n",
    "In this scenario, you’ve just been given access to this data from your boss, with the instructions to “See if you can find anything in here that can help the business.” – This is a very broad set of instructions.  In order to complete this task well, you may want to consider finding answers to the following questions:\n",
    "\n",
    "- How many more promoters are there than detractors across our 2017 data?\n",
    "- Which track boasts the best promoter-to-detractor ratio?\n",
    "- Does the student experience get better the longer that they are enrolled at the Summer Academy?\n",
    "- Does student satisfaction vary by location?\n",
    "- What are things we could find here that could “help the business”?\n",
    "- What sorts of information does this dataset contain?\n",
    "- What kinds of questions might we be able to answer with this data?\n",
    "- What kinds of questions can’t we answer with this data?\n",
    "- What sorts of information might be actionable?\n",
    "- How can you present your findings in a way that non-technical employees can understand and use to make decisions?\n",
    "\n",
    "### Data Wrangling Issues to Consider\n",
    "- CSV files may have header rows\n",
    "- Collating data from multiple sources\n",
    "- Introducing new columns/attributes\n",
    "- Converting data types (string values to integers)\n",
    "- Converting categorical values (either to integers or one-hot encoding)\n",
    "- Normalizing values based on different units\n"
   ]
  },
  {
   "cell_type": "code",
   "execution_count": 19,
   "metadata": {},
   "outputs": [
    {
     "data": {
      "text/plain": [
       "ID                 1453\n",
       "Location             12\n",
       "Track                 5\n",
       "Week                  8\n",
       "Rating (Num)         12\n",
       "Schedule Pacing       5\n",
       "dtype: int64"
      ]
     },
     "execution_count": 19,
     "metadata": {},
     "output_type": "execute_result"
    }
   ],
   "source": [
    "df.nunique()"
   ]
  },
  {
   "cell_type": "code",
   "execution_count": 40,
   "metadata": {},
   "outputs": [
    {
     "data": {
      "text/plain": [
       "San Francisco    360\n",
       "New York City    330\n",
       "Santa Clara      201\n",
       "Los Angeles      106\n",
       "Beijing           78\n",
       "Chicago           70\n",
       "Tokyo             65\n",
       "Redwood City      58\n",
       "Oakland           47\n",
       "Washington DC     47\n",
       "Atlanta           33\n",
       "Hong Kong         11\n",
       "Name: Location, dtype: int64"
      ]
     },
     "execution_count": 40,
     "metadata": {},
     "output_type": "execute_result"
    }
   ],
   "source": [
    "df[\"Location\"].value_counts()"
   ]
  },
  {
   "cell_type": "code",
   "execution_count": null,
   "metadata": {},
   "outputs": [],
   "source": []
  },
  {
   "cell_type": "code",
   "execution_count": null,
   "metadata": {},
   "outputs": [],
   "source": []
  },
  {
   "cell_type": "code",
   "execution_count": null,
   "metadata": {},
   "outputs": [],
   "source": []
  },
  {
   "cell_type": "code",
   "execution_count": null,
   "metadata": {},
   "outputs": [],
   "source": []
  }
 ],
 "metadata": {
  "kernelspec": {
   "display_name": "Python 3",
   "language": "python",
   "name": "python3"
  },
  "language_info": {
   "codemirror_mode": {
    "name": "ipython",
    "version": 3
   },
   "file_extension": ".py",
   "mimetype": "text/x-python",
   "name": "python",
   "nbconvert_exporter": "python",
   "pygments_lexer": "ipython3",
   "version": "3.7.4"
  }
 },
 "nbformat": 4,
 "nbformat_minor": 2
}
