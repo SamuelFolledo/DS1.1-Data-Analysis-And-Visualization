{
 "cells": [
  {
   "cell_type": "markdown",
   "metadata": {},
   "source": [
    "# Midterm Project\n",
    "[Project Guidelines: Summer Academy NPS Data](https://docs.google.com/document/d/11v_d1bkFbTM4N3WU6JAbdR_9_eUChrN32-mdQ9zKaOw/preview)"
   ]
  },
  {
   "cell_type": "markdown",
   "metadata": {},
   "source": [
    "### Important Links\n",
    "- [Exploratory Data Analysis in Pandas](https://www.kaggle.com/kashnitsky/topic-1-exploratory-data-analysis-with-pandas)"
   ]
  },
  {
   "cell_type": "code",
   "execution_count": 504,
   "metadata": {},
   "outputs": [
    {
     "data": {
      "text/html": [
       "<div>\n",
       "<style scoped>\n",
       "    .dataframe tbody tr th:only-of-type {\n",
       "        vertical-align: middle;\n",
       "    }\n",
       "\n",
       "    .dataframe tbody tr th {\n",
       "        vertical-align: top;\n",
       "    }\n",
       "\n",
       "    .dataframe thead th {\n",
       "        text-align: right;\n",
       "    }\n",
       "</style>\n",
       "<table border=\"1\" class=\"dataframe\">\n",
       "  <thead>\n",
       "    <tr style=\"text-align: right;\">\n",
       "      <th></th>\n",
       "      <th>ID</th>\n",
       "      <th>Location</th>\n",
       "      <th>Track</th>\n",
       "      <th>Week</th>\n",
       "      <th>Rating (Num)</th>\n",
       "      <th>Schedule Pacing</th>\n",
       "    </tr>\n",
       "  </thead>\n",
       "  <tbody>\n",
       "    <tr>\n",
       "      <th>0</th>\n",
       "      <td>134</td>\n",
       "      <td>San Francisco</td>\n",
       "      <td>Apps, Explorer</td>\n",
       "      <td>Week 1</td>\n",
       "      <td>3</td>\n",
       "      <td>Just right</td>\n",
       "    </tr>\n",
       "    <tr>\n",
       "      <th>1</th>\n",
       "      <td>36</td>\n",
       "      <td>Los Angeles</td>\n",
       "      <td>Apps</td>\n",
       "      <td>Week 1</td>\n",
       "      <td>4</td>\n",
       "      <td>A little too fast</td>\n",
       "    </tr>\n",
       "    <tr>\n",
       "      <th>2</th>\n",
       "      <td>117</td>\n",
       "      <td>San Francisco</td>\n",
       "      <td>Games</td>\n",
       "      <td>Week 1</td>\n",
       "      <td>4</td>\n",
       "      <td>Way too slow</td>\n",
       "    </tr>\n",
       "    <tr>\n",
       "      <th>3</th>\n",
       "      <td>253</td>\n",
       "      <td>NaN</td>\n",
       "      <td>NaN</td>\n",
       "      <td>Week 2</td>\n",
       "      <td>4</td>\n",
       "      <td>A little too fast</td>\n",
       "    </tr>\n",
       "    <tr>\n",
       "      <th>4</th>\n",
       "      <td>350</td>\n",
       "      <td>New York City</td>\n",
       "      <td>Apps, Explorer</td>\n",
       "      <td>Week 1</td>\n",
       "      <td>4</td>\n",
       "      <td>Just right</td>\n",
       "    </tr>\n",
       "  </tbody>\n",
       "</table>\n",
       "</div>"
      ],
      "text/plain": [
       "    ID       Location           Track    Week Rating (Num)    Schedule Pacing\n",
       "0  134  San Francisco  Apps, Explorer  Week 1            3         Just right\n",
       "1   36    Los Angeles            Apps  Week 1            4  A little too fast\n",
       "2  117  San Francisco           Games  Week 1            4       Way too slow\n",
       "3  253            NaN             NaN  Week 2            4  A little too fast\n",
       "4  350  New York City  Apps, Explorer  Week 1            4         Just right"
      ]
     },
     "execution_count": 504,
     "metadata": {},
     "output_type": "execute_result"
    }
   ],
   "source": [
    "# Pandas is a library for basic data analysis\n",
    "import pandas as pd\n",
    "\n",
    "# NumPy is a library for advanced mathematical computation\n",
    "import numpy as np\n",
    "\n",
    "# MatPlotLib is a library for basic data visualization\n",
    "import matplotlib.pyplot as plt\n",
    "\n",
    "# SeaBorn is a library for advanced data visualization\n",
    "import seaborn as sns\n",
    "\n",
    "FILEPATH = \"survey_midterm_datasets/2017/Student Feedback Surveys-Superview.csv\"\n",
    "df = pd.read_csv(FILEPATH)\n",
    "df.head()"
   ]
  },
  {
   "cell_type": "markdown",
   "metadata": {},
   "source": [
    "## Description of Problem\n",
    "Clean and investigate Make School NPS data to find interesting and actionable trends that help inform decision-makers. Create a presentation in a Jupyter Notebook using data visualizations and other techniques that allow non-technical team members to understand your findings. \n",
    "\n",
    "### 1. Analyze Dataset"
   ]
  },
  {
   "cell_type": "code",
   "execution_count": 505,
   "metadata": {},
   "outputs": [],
   "source": [
    "def analyze_dataset(df):\n",
    "    print(\"\\n------------------------------\\nINFO\\n------------------------------\")\n",
    "    df.info() #info of datasets: (range), column's (count, names, non-null counts, data types), memory usage\n",
    "    print(\"\\n------------------------------\\nCOLUMN'S UNIQUE VALUES COUNT\\n------------------------------\")\n",
    "    print(df.nunique()) #check how many unique values each columns has\n",
    "    # df[\"Rating (Num)\"].value_counts() #check what those unique values in the columns are and their counts\n",
    "    print(\"\\n------------------------------\\nCOLUMNS\\n------------------------------\")\n",
    "    for i, column_name in enumerate(df.columns):\n",
    "        print(f\"\\nColumn #{i}: {column_name}\")\n",
    "        print(df.T.stack()[column_name].value_counts())\n",
    "# analyze_dataset(df)"
   ]
  },
  {
   "cell_type": "markdown",
   "metadata": {},
   "source": [
    "### 2. Clean Dataset"
   ]
  },
  {
   "cell_type": "markdown",
   "metadata": {},
   "source": [
    "### 2a. Specify Proper Data Types"
   ]
  },
  {
   "cell_type": "code",
   "execution_count": 506,
   "metadata": {},
   "outputs": [
    {
     "name": "stdout",
     "output_type": "stream",
     "text": [
      "Note Info's 'non-null' increased because nan values began showing\n"
     ]
    }
   ],
   "source": [
    "# ------------------------------\n",
    "# COLUMN'S UNIQUE VALUES COUNT\n",
    "# ------------------------------\n",
    "# ID                 1453\n",
    "# Location             12\n",
    "# Track                 5\n",
    "# Week                  8\n",
    "# Rating (Num)         11\n",
    "# Schedule Pacing       5\n",
    "\n",
    "df['Location'] = df['Location'].astype(str) #convert column's values to string\n",
    "df['Track'] = df['Track'].astype(str)\n",
    "df['Week'] = df['Week'].astype(str)\n",
    "df['Rating (Num)'] = df['Rating (Num)'].astype(str)\n",
    "df['Schedule Pacing'] = df['Schedule Pacing'].astype(str)\n",
    "\n",
    "print(\"Note Info's 'non-null' increased because nan values began showing\")\n",
    "# analyze_dataset(df)"
   ]
  },
  {
   "cell_type": "markdown",
   "metadata": {},
   "source": [
    "### 2b. Specify Values that should be converted to NaN"
   ]
  },
  {
   "cell_type": "code",
   "execution_count": 507,
   "metadata": {},
   "outputs": [],
   "source": [
    "# df = pd.read_csv(\"train.csv\", usecols= [\"PassengerId\", \"Survived\", \"Pclass\"])  #only use columns we want\n",
    "# df = pd.read_csv(FILEPATH, skiprows = 1, na_values = ['no info', '.']) #skip rows\n",
    "\n",
    "df = pd.read_csv(FILEPATH, na_values = ['#ERROR!', \"nan\"]) #columns that has strings in na_values will be converted to NaN\n",
    "# analyze_dataset(df)"
   ]
  },
  {
   "cell_type": "markdown",
   "metadata": {},
   "source": [
    "### 2c. Fix row values\n",
    "- **Apply once** - change Week values to Int ```Week 1``` --> ```1```"
   ]
  },
  {
   "cell_type": "code",
   "execution_count": 508,
   "metadata": {},
   "outputs": [
    {
     "data": {
      "text/plain": [
       "Week 1    288\n",
       "Week 2    277\n",
       "Week 3    243\n",
       "Week 4    193\n",
       "Week 5    179\n",
       "Week 6    144\n",
       "Week 7    120\n",
       "Week 8      9\n",
       "Name: Week, dtype: int64"
      ]
     },
     "execution_count": 508,
     "metadata": {},
     "output_type": "execute_result"
    }
   ],
   "source": [
    "# Changed 'Week' values from str to Int\n",
    "# df['Week'] = df.apply(lambda x: int(x['Week'].replace('Week ', '')),axis=1) #change weeks values Week 1, to just 1; turning it to an int\n",
    "df['Week'].value_counts()"
   ]
  },
  {
   "cell_type": "markdown",
   "metadata": {},
   "source": [
    "### 3. Begin Data Analysis"
   ]
  },
  {
   "cell_type": "markdown",
   "metadata": {},
   "source": [
    "#### Background on NPS\n",
    "Every summer, Make School welcomes hundreds of students into the Summer Academy to study software development and build cool stuff. The management wants to make sure that students continue to be satisfied with their experience as the program scales. The main way we measure this is through **Net Promoter Score (NPS), which is a tool commonly used to measure customer loyalty and promotion**. You’ve seen NPS before if you’ve been asked a question like:\n",
    "“On a scale of 1 to 10, how likely are you to recommend [X] to a friend or colleague?”\n",
    "\n",
    "NPS segments all responses between 1 and 10 into three categories based on their sentiment:\n",
    "- Promoter (9 – 10)\n",
    "- Passive (7 – 8)\n",
    "- Detractor (1 – 6)\n",
    "\n",
    "#### To calculate NPS, companies follow these steps:\n",
    "1. Segment all responses into Promoter, Passive, and Detractor categories.\n",
    "2. Calculate the percentage of responses in each category out of the total number of responses to the survey.\n",
    "3. Subtract the Detractors percentage from the Promoters percentage. This is the NPS.\n",
    "\n",
    "```NPS = (Promoters - Detractors)  (Promoters + Passives + Detractors)```\n"
   ]
  },
  {
   "cell_type": "markdown",
   "metadata": {},
   "source": [
    "### How I created an \"NPS Category\" column"
   ]
  },
  {
   "cell_type": "code",
   "execution_count": 509,
   "metadata": {},
   "outputs": [
    {
     "data": {
      "text/html": [
       "<div>\n",
       "<style scoped>\n",
       "    .dataframe tbody tr th:only-of-type {\n",
       "        vertical-align: middle;\n",
       "    }\n",
       "\n",
       "    .dataframe tbody tr th {\n",
       "        vertical-align: top;\n",
       "    }\n",
       "\n",
       "    .dataframe thead th {\n",
       "        text-align: right;\n",
       "    }\n",
       "</style>\n",
       "<table border=\"1\" class=\"dataframe\">\n",
       "  <thead>\n",
       "    <tr style=\"text-align: right;\">\n",
       "      <th></th>\n",
       "      <th>ID</th>\n",
       "      <th>Location</th>\n",
       "      <th>Track</th>\n",
       "      <th>Week</th>\n",
       "      <th>Rating (Num)</th>\n",
       "      <th>Schedule Pacing</th>\n",
       "      <th>NPS Category</th>\n",
       "    </tr>\n",
       "  </thead>\n",
       "  <tbody>\n",
       "    <tr>\n",
       "      <th>1448</th>\n",
       "      <td>1495</td>\n",
       "      <td>New York City</td>\n",
       "      <td>Apps, Explorer</td>\n",
       "      <td>Week 7</td>\n",
       "      <td>10.0</td>\n",
       "      <td>Just right</td>\n",
       "      <td>Promoter</td>\n",
       "    </tr>\n",
       "    <tr>\n",
       "      <th>1449</th>\n",
       "      <td>1496</td>\n",
       "      <td>New York City</td>\n",
       "      <td>Apps, Explorer</td>\n",
       "      <td>Week 7</td>\n",
       "      <td>8.0</td>\n",
       "      <td>Just right</td>\n",
       "      <td>Passive</td>\n",
       "    </tr>\n",
       "    <tr>\n",
       "      <th>1450</th>\n",
       "      <td>1497</td>\n",
       "      <td>New York City</td>\n",
       "      <td>Apps</td>\n",
       "      <td>Week 7</td>\n",
       "      <td>10.0</td>\n",
       "      <td>Just right</td>\n",
       "      <td>Promoter</td>\n",
       "    </tr>\n",
       "    <tr>\n",
       "      <th>1451</th>\n",
       "      <td>1498</td>\n",
       "      <td>New York City</td>\n",
       "      <td>Apps, Explorer</td>\n",
       "      <td>Week 7</td>\n",
       "      <td>1.0</td>\n",
       "      <td>A little too slow</td>\n",
       "      <td>Detractor</td>\n",
       "    </tr>\n",
       "    <tr>\n",
       "      <th>1452</th>\n",
       "      <td>1499</td>\n",
       "      <td>New York City</td>\n",
       "      <td>Apps</td>\n",
       "      <td>Week 5</td>\n",
       "      <td>8.0</td>\n",
       "      <td>Just right</td>\n",
       "      <td>Passive</td>\n",
       "    </tr>\n",
       "  </tbody>\n",
       "</table>\n",
       "</div>"
      ],
      "text/plain": [
       "        ID       Location           Track    Week  Rating (Num)  \\\n",
       "1448  1495  New York City  Apps, Explorer  Week 7          10.0   \n",
       "1449  1496  New York City  Apps, Explorer  Week 7           8.0   \n",
       "1450  1497  New York City            Apps  Week 7          10.0   \n",
       "1451  1498  New York City  Apps, Explorer  Week 7           1.0   \n",
       "1452  1499  New York City            Apps  Week 5           8.0   \n",
       "\n",
       "        Schedule Pacing NPS Category  \n",
       "1448         Just right     Promoter  \n",
       "1449         Just right      Passive  \n",
       "1450         Just right     Promoter  \n",
       "1451  A little too slow    Detractor  \n",
       "1452         Just right      Passive  "
      ]
     },
     "execution_count": 509,
     "metadata": {},
     "output_type": "execute_result"
    }
   ],
   "source": [
    "def get_nps_category(rating):\n",
    "    if rating >= 9:\n",
    "        return \"Promoter\"\n",
    "    elif rating >= 7:\n",
    "        return \"Passive\"\n",
    "    else:\n",
    "        return \"Detractor\" \n",
    "\n",
    "# Create another column named \"NPS Category\" with values of either Promoter, Passive, Detractor, based on their rating\n",
    "df[\"NPS Category\"] = df.apply(lambda row: get_nps_category(row[\"Rating (Num)\"]), axis=1)\n",
    "df.tail()"
   ]
  },
  {
   "cell_type": "markdown",
   "metadata": {},
   "source": [
    "### How I calculated 'Promoter', 'Passive', 'Detractor'"
   ]
  },
  {
   "cell_type": "code",
   "execution_count": 510,
   "metadata": {},
   "outputs": [
    {
     "data": {
      "text/plain": [
       "0.5230557467309016"
      ]
     },
     "execution_count": 510,
     "metadata": {},
     "output_type": "execute_result"
    }
   ],
   "source": [
    "# Promoters = 9-10\n",
    "promoters = df[df['NPS Category'].dropna() == 'Promoter']\n",
    "len(promoters) / len(df['NPS Category'].dropna())"
   ]
  },
  {
   "cell_type": "code",
   "execution_count": 511,
   "metadata": {},
   "outputs": [
    {
     "data": {
      "text/plain": [
       "0.39160357880247765"
      ]
     },
     "execution_count": 511,
     "metadata": {},
     "output_type": "execute_result"
    }
   ],
   "source": [
    "# Passive = 7-8\n",
    "passives = df[df['NPS Category'].dropna() == 'Passive']\n",
    "len(passives) / len(df['NPS Category'].dropna())"
   ]
  },
  {
   "cell_type": "code",
   "execution_count": 512,
   "metadata": {},
   "outputs": [
    {
     "data": {
      "text/plain": [
       "0.08534067446662079"
      ]
     },
     "execution_count": 512,
     "metadata": {},
     "output_type": "execute_result"
    }
   ],
   "source": [
    "# Detractor = 1-6\n",
    "detractors = df[df['NPS Category'].dropna() == 'Detractor']\n",
    "len(detractors) / len(df['NPS Category'].dropna())"
   ]
  },
  {
   "cell_type": "code",
   "execution_count": 513,
   "metadata": {},
   "outputs": [
    {
     "data": {
      "text/plain": [
       "43.77150722642808"
      ]
     },
     "execution_count": 513,
     "metadata": {},
     "output_type": "execute_result"
    }
   ],
   "source": [
    "# NPS = (Promoters - Detractors) / (Promoters + Passives + Detractors)\n",
    "# NPS = 639 / 1450 * 100\n",
    "NPS = (len(promoters) - len(detractors)) / (len(promoters) + len(passives) + len(detractors)) * 100\n",
    "NPS"
   ]
  },
  {
   "cell_type": "code",
   "execution_count": 514,
   "metadata": {},
   "outputs": [
    {
     "data": {
      "text/plain": [
       "<matplotlib.axes._subplots.AxesSubplot at 0x12e06ae10>"
      ]
     },
     "execution_count": 514,
     "metadata": {},
     "output_type": "execute_result"
    },
    {
     "data": {
      "image/png": "[encoded data removed]",
      "text/plain": [
       "<Figure size 432x288 with 1 Axes>"
      ]
     },
     "metadata": {},
     "output_type": "display_data"
    }
   ],
   "source": [
    "df['NPS Category'].dropna().value_counts().plot(kind='pie')"
   ]
  },
  {
   "cell_type": "markdown",
   "metadata": {},
   "source": [
    "## Questions to Consider Answering\n",
    "In this scenario, you’ve just been given access to this data from your boss, with the instructions to “See if you can find anything in here that can help the business.” – This is a very broad set of instructions.  In order to complete this task well, you may want to consider finding answers to the following questions:\n",
    "\n",
    "- How many more promoters are there than detractors across our 2017 data?\n",
    "- Which track boasts the best promoter-to-detractor ratio?\n",
    "- Does the student experience get better the longer that they are enrolled at the Summer Academy?\n",
    "- Does student satisfaction vary by location?\n",
    "- What are things we could find here that could “help the business”?\n",
    "- What sorts of information does this dataset contain?\n",
    "- What kinds of questions might we be able to answer with this data?\n",
    "- What kinds of questions can’t we answer with this data?\n",
    "- What sorts of information might be actionable?\n",
    "- How can you present your findings in a way that non-technical employees can understand and use to make decisions?\n",
    "\n",
    "### Data Wrangling Issues to Consider\n",
    "- CSV files may have header rows\n",
    "- Collating data from multiple sources\n",
    "- Introducing new columns/attributes\n",
    "- Converting data types (string values to integers)\n",
    "- Converting categorical values (either to integers or one-hot encoding)\n",
    "- Normalizing values based on different units\n"
   ]
  },
  {
   "cell_type": "markdown",
   "metadata": {},
   "source": [
    "## Q1. Whick track are popular/chosen?"
   ]
  },
  {
   "cell_type": "markdown",
   "metadata": {},
   "source": [
    "### Create \"Actual Track\" column\n",
    "Students with \"Tracks\" like \"Apps, Explorer\" and \"Games, Explorer\" will have an actual track of \"Apps\" or \"Games\""
   ]
  },
  {
   "cell_type": "code",
   "execution_count": 515,
   "metadata": {},
   "outputs": [
    {
     "data": {
      "text/html": [
       "<div>\n",
       "<style scoped>\n",
       "    .dataframe tbody tr th:only-of-type {\n",
       "        vertical-align: middle;\n",
       "    }\n",
       "\n",
       "    .dataframe tbody tr th {\n",
       "        vertical-align: top;\n",
       "    }\n",
       "\n",
       "    .dataframe thead th {\n",
       "        text-align: right;\n",
       "    }\n",
       "</style>\n",
       "<table border=\"1\" class=\"dataframe\">\n",
       "  <thead>\n",
       "    <tr style=\"text-align: right;\">\n",
       "      <th></th>\n",
       "      <th>ID</th>\n",
       "      <th>Location</th>\n",
       "      <th>Track</th>\n",
       "      <th>Week</th>\n",
       "      <th>Rating (Num)</th>\n",
       "      <th>Schedule Pacing</th>\n",
       "      <th>NPS Category</th>\n",
       "      <th>Actual Track</th>\n",
       "    </tr>\n",
       "  </thead>\n",
       "  <tbody>\n",
       "    <tr>\n",
       "      <th>0</th>\n",
       "      <td>134</td>\n",
       "      <td>San Francisco</td>\n",
       "      <td>Apps, Explorer</td>\n",
       "      <td>Week 1</td>\n",
       "      <td>3.0</td>\n",
       "      <td>Just right</td>\n",
       "      <td>Detractor</td>\n",
       "      <td>Apps</td>\n",
       "    </tr>\n",
       "    <tr>\n",
       "      <th>1</th>\n",
       "      <td>36</td>\n",
       "      <td>Los Angeles</td>\n",
       "      <td>Apps</td>\n",
       "      <td>Week 1</td>\n",
       "      <td>4.0</td>\n",
       "      <td>A little too fast</td>\n",
       "      <td>Detractor</td>\n",
       "      <td>Apps</td>\n",
       "    </tr>\n",
       "    <tr>\n",
       "      <th>2</th>\n",
       "      <td>117</td>\n",
       "      <td>San Francisco</td>\n",
       "      <td>Games</td>\n",
       "      <td>Week 1</td>\n",
       "      <td>4.0</td>\n",
       "      <td>Way too slow</td>\n",
       "      <td>Detractor</td>\n",
       "      <td>Games</td>\n",
       "    </tr>\n",
       "    <tr>\n",
       "      <th>3</th>\n",
       "      <td>253</td>\n",
       "      <td>NaN</td>\n",
       "      <td>NaN</td>\n",
       "      <td>Week 2</td>\n",
       "      <td>4.0</td>\n",
       "      <td>A little too fast</td>\n",
       "      <td>Detractor</td>\n",
       "      <td>None</td>\n",
       "    </tr>\n",
       "    <tr>\n",
       "      <th>4</th>\n",
       "      <td>350</td>\n",
       "      <td>New York City</td>\n",
       "      <td>Apps, Explorer</td>\n",
       "      <td>Week 1</td>\n",
       "      <td>4.0</td>\n",
       "      <td>Just right</td>\n",
       "      <td>Detractor</td>\n",
       "      <td>Apps</td>\n",
       "    </tr>\n",
       "  </tbody>\n",
       "</table>\n",
       "</div>"
      ],
      "text/plain": [
       "    ID       Location           Track    Week  Rating (Num)  \\\n",
       "0  134  San Francisco  Apps, Explorer  Week 1           3.0   \n",
       "1   36    Los Angeles            Apps  Week 1           4.0   \n",
       "2  117  San Francisco           Games  Week 1           4.0   \n",
       "3  253            NaN             NaN  Week 2           4.0   \n",
       "4  350  New York City  Apps, Explorer  Week 1           4.0   \n",
       "\n",
       "     Schedule Pacing NPS Category Actual Track  \n",
       "0         Just right    Detractor         Apps  \n",
       "1  A little too fast    Detractor         Apps  \n",
       "2       Way too slow    Detractor        Games  \n",
       "3  A little too fast    Detractor         None  \n",
       "4         Just right    Detractor         Apps  "
      ]
     },
     "execution_count": 515,
     "metadata": {},
     "output_type": "execute_result"
    }
   ],
   "source": [
    "df[\"Actual Track\"] = df.apply(lambda row: get_actual_track(row[\"Track\"]), axis=1)\n",
    "\n",
    "def get_actual_track(track):\n",
    "    '''takes a track and strips \"Explorer\"'''\n",
    "    if track == \"Apps\" or track == \"Games\" or track == \"VR\":\n",
    "        return track\n",
    "    elif track == \"Apps, Explorer\" or track == \"Games, Explorer\":\n",
    "        multiple_tracks = track.split(\", \") #split multiple tracks; e.g. Apps, Explorer = Apps\n",
    "        track = multiple_tracks[0]\n",
    "        return track\n",
    "    else: #handle nan values\n",
    "        return None\n",
    "    \n",
    "df.head()"
   ]
  },
  {
   "cell_type": "code",
   "execution_count": 516,
   "metadata": {},
   "outputs": [
    {
     "name": "stdout",
     "output_type": "stream",
     "text": [
      "Apps 871\n",
      "Apps, Explorer 224\n",
      "Games 208\n",
      "VR 60\n",
      "Games, Explorer 43\n",
      "\n",
      "Python\n",
      " {'Apps': 1095, 'Games': 251, 'VR': 60}\n",
      "\n",
      "Pandas:\n",
      " Apps     1095\n",
      "Games     251\n",
      "VR         60\n",
      "Name: Actual Track, dtype: int64\n"
     ]
    }
   ],
   "source": [
    "track_dict = dict(df['Track'].value_counts())\n",
    "track_dict\n",
    "new_track_dict = {}\n",
    "#Turn Explorers to one of the tracks\n",
    "for key, value in track_dict.items(): #for each key and values in dic\n",
    "    print(key,value)\n",
    "    if key == \"Apps\" or key == \"Games\" or key == \"VR\":\n",
    "        new_track_dict[key] = new_track_dict.get(key, 0) + value #use dict's get() to get current count and increment by value\n",
    "    else:\n",
    "        multiple_tracks = key.split(\", \") #split multiple tracks; e.g. Apps, Explorer = Apps\n",
    "        for track in multiple_tracks:\n",
    "            if track == \"Explorer\": #ignore Explorers\n",
    "                continue\n",
    "            new_track_dict[track] = new_track_dict.get(track, 0) + value #increment track's value\n",
    "\n",
    "print(\"\\nPython\\n\", new_track_dict)\n",
    "print(\"\\nPandas:\\n\", df[\"Actual Track\"].value_counts())"
   ]
  },
  {
   "cell_type": "code",
   "execution_count": 517,
   "metadata": {},
   "outputs": [
    {
     "data": {
      "image/png": "[encoded data removed]",
      "text/plain": [
       "<Figure size 432x288 with 1 Axes>"
      ]
     },
     "metadata": {
      "needs_background": "light"
     },
     "output_type": "display_data"
    }
   ],
   "source": [
    "plt.bar(range(len(new_track_dict)), new_track_dict.values(), align='center')\n",
    "plt.xticks(range(len(new_track_dict)), list(new_track_dict.keys()))\n",
    "plt.show()"
   ]
  },
  {
   "cell_type": "code",
   "execution_count": 518,
   "metadata": {},
   "outputs": [
    {
     "data": {
      "text/plain": [
       "<matplotlib.axes._subplots.AxesSubplot at 0x12e354f50>"
      ]
     },
     "execution_count": 518,
     "metadata": {},
     "output_type": "execute_result"
    },
    {
     "data": {
      "image/png": "[encoded data removed]",
      "text/plain": [
       "<Figure size 432x288 with 1 Axes>"
      ]
     },
     "metadata": {},
     "output_type": "display_data"
    }
   ],
   "source": [
    "df['Actual Track'].dropna().value_counts().plot(kind='pie')"
   ]
  },
  {
   "cell_type": "code",
   "execution_count": 519,
   "metadata": {},
   "outputs": [
    {
     "name": "stdout",
     "output_type": "stream",
     "text": [
      "Track Apps: 77.88051209103841\n",
      "1095\n",
      "Track Games: 17.852062588904694\n",
      "251\n",
      "Track VR: 4.267425320056899\n",
      "60\n"
     ]
    },
    {
     "data": {
      "text/plain": [
       "1406"
      ]
     },
     "execution_count": 519,
     "metadata": {},
     "output_type": "execute_result"
    }
   ],
   "source": [
    "students_count = len(df['Actual Track'].dropna())\n",
    "for track in df['Actual Track'].dropna().unique(): #loop through each unique values of track excluding None\n",
    "    students_on_track = df[df['Actual Track'] == track] #get students at this track\n",
    "    print(f\"Track {track}: {(len(students_on_track) / students_count * 100)}\") #get percentage\n",
    "    print(len(students_on_track))\n",
    "students_count"
   ]
  },
  {
   "cell_type": "markdown",
   "metadata": {},
   "source": [
    "##### Answer:\n",
    "- **77.9%** students chose *Apps*\n",
    "- **17.9%** students chose *Games*\n",
    "- **4.3%** students chose *VR*"
   ]
  },
  {
   "cell_type": "markdown",
   "metadata": {},
   "source": [
    "## Q2. Which track boasts the best promoter-to-detractor ratio?"
   ]
  },
  {
   "cell_type": "code",
   "execution_count": 520,
   "metadata": {},
   "outputs": [
    {
     "data": {
      "text/plain": [
       "<matplotlib.axes._subplots.AxesSubplot at 0x12f0bd290>"
      ]
     },
     "execution_count": 520,
     "metadata": {},
     "output_type": "execute_result"
    },
    {
     "data": {
      "image/png": "[encoded data removed]",
      "text/plain": [
       "<Figure size 432x288 with 1 Axes>"
      ]
     },
     "metadata": {
      "needs_background": "light"
     },
     "output_type": "display_data"
    }
   ],
   "source": [
    "sns.countplot(x='Actual Track', hue=\"NPS Category\", data=df)"
   ]
  },
  {
   "cell_type": "markdown",
   "metadata": {},
   "source": [
    "### Conditional Probability\n",
    "https://github.com/Make-School-Courses/DS-1.1-Data-Analysis/blob/master/Notebooks/Applied_Probability.ipynb"
   ]
  },
  {
   "cell_type": "markdown",
   "metadata": {},
   "source": [
    " "
   ]
  },
  {
   "cell_type": "code",
   "execution_count": 521,
   "metadata": {},
   "outputs": [],
   "source": [
    "#method that takes a Column name and that column's value, and return conditional probabililty of column2\n",
    "def conditional_prob(df, column1, value1, column2):\n",
    "    probabilities = {}\n",
    "#     column1_is_value1 = df[df[column1] == value1]\n",
    "    column2_values = set(df[column2].values) #possible values for target_column\n",
    "    for column2_value in column2_values: #for each value in target's values\n",
    "        probabilities[column2_value] = len(df[ (df[column1] == value1) & (df[column2] == column2_value)]) / len(df[df[column1] == value1])\n",
    "    return probabilities"
   ]
  },
  {
   "cell_type": "code",
   "execution_count": 522,
   "metadata": {},
   "outputs": [
    {
     "name": "stdout",
     "output_type": "stream",
     "text": [
      "Apps\n",
      "{'Detractor': 0.09315068493150686, 'Passive': 0.4237442922374429, 'Promoter': 0.4831050228310502}\n",
      "Games\n",
      "{'Detractor': 0.035856573705179286, 'Passive': 0.3107569721115538, 'Promoter': 0.6533864541832669}\n",
      "VR\n",
      "{'Detractor': 0.03333333333333333, 'Passive': 0.2, 'Promoter': 0.7666666666666667}\n"
     ]
    }
   ],
   "source": [
    "for track in df['Actual Track'].dropna().unique(): #loop through each unique values in \"Actual Track\"\n",
    "    print(track)\n",
    "    print(conditional_prob(df, \"Actual Track\", track, \"NPS Category\")) #get the probability "
   ]
  },
  {
   "cell_type": "markdown",
   "metadata": {},
   "source": [
    " ### Conditional Probability with Pie Chart"
   ]
  },
  {
   "cell_type": "code",
   "execution_count": 523,
   "metadata": {},
   "outputs": [],
   "source": [
    "#get conditional probability and graph of column2 base on column1's value1\n",
    "def graph_conditional_prob(df, column1, value1, column2):\n",
    "    probabilities = {}\n",
    "    column1_is_value1 = df[df[column1] == value1] #all column1 == value1\n",
    "    column2_values = set(df[column2].values) #possible values for target_column #Names\n",
    "    column2_names = []\n",
    "    column2_percents = []\n",
    "    column2_explode = [] #explode the biggest percent\n",
    "    for column2_value in column2_values: #for each value in target's values\n",
    "        column2_names.append(column2_value) #append name\n",
    "        #get column2's percent\n",
    "        c2_percent = len(df[ (df[column1] == value1) & (df[column2] == column2_value)]) / len(df[df[column1] == value1])\n",
    "        column2_percents.append(c2_percent)\n",
    "        probabilities[column2_value] = c2_percent\n",
    "    max_value = max(column2_percents) #get max value that we will explode\n",
    "    max_index = column2_percents.index(max_value) #get max_value's index\n",
    "    for i in range(len(column2_percents)): #populate column2_explode\n",
    "        if i == max_index: #explode the index with max value\n",
    "            column2_explode.append(0.1)\n",
    "            continue\n",
    "        column2_explode.append(0)\n",
    "    #Begin plotting\n",
    "    fig1, ax1 = plt.subplots()\n",
    "    ax1.pie(column2_percents, explode=column2_explode, labels=column2_names, autopct='%1.1f%%',\n",
    "            shadow=True, startangle=90)\n",
    "    ax1.axis('equal')  # Equal aspect ratio ensures that pie is drawn as a circle.\n",
    "    plt.title(column1+\": \"+value1+\" (\"+str(len(column1_is_value1))+\")\") #assign plot's title\n",
    "    plt.show()\n",
    "    return probabilities"
   ]
  },
  {
   "cell_type": "markdown",
   "metadata": {},
   "source": [
    " \n"
   ]
  },
  {
   "cell_type": "markdown",
   "metadata": {},
   "source": [
    "### Graph Percentage of \"Promoter\", \"Passive\", and \"Detractor\" in each Track"
   ]
  },
  {
   "cell_type": "code",
   "execution_count": 524,
   "metadata": {},
   "outputs": [
    {
     "data": {
      "image/png": "[encoded data removed]",
      "text/plain": [
       "<Figure size 432x288 with 1 Axes>"
      ]
     },
     "metadata": {},
     "output_type": "display_data"
    },
    {
     "data": {
      "image/png": "[encoded data removed]",
      "text/plain": [
       "<Figure size 432x288 with 1 Axes>"
      ]
     },
     "metadata": {},
     "output_type": "display_data"
    },
    {
     "data": {
      "image/png": "[encoded data removed]",
      "text/plain": [
       "<Figure size 432x288 with 1 Axes>"
      ]
     },
     "metadata": {},
     "output_type": "display_data"
    }
   ],
   "source": [
    "for track in df[\"Actual Track\"].dropna().unique():\n",
    "    graph_conditional_prob(df, \"Actual Track\", track, \"NPS Category\")"
   ]
  },
  {
   "cell_type": "markdown",
   "metadata": {},
   "source": [
    "##### Answer\n",
    "- VR track has the highest ratio of Promoter despite of having the least amount of enrolled students\n",
    "\n",
    "##### Assumption\n",
    "- Maybe having too much students in a track reduces the likeliness that a student becomes a Promoter"
   ]
  },
  {
   "cell_type": "markdown",
   "metadata": {},
   "source": [
    "## Q3. Does student satisfaction vary by location?"
   ]
  },
  {
   "cell_type": "code",
   "execution_count": 525,
   "metadata": {},
   "outputs": [
    {
     "data": {
      "text/plain": [
       "<matplotlib.axes._subplots.AxesSubplot at 0x12f2dfb90>"
      ]
     },
     "execution_count": 525,
     "metadata": {},
     "output_type": "execute_result"
    },
    {
     "data": {
      "image/png": "[encoded data removed]",
      "text/plain": [
       "<Figure size 432x288 with 1 Axes>"
      ]
     },
     "metadata": {
      "needs_background": "light"
     },
     "output_type": "display_data"
    }
   ],
   "source": [
    "#Hard to see\n",
    "sns.countplot(x='Location', hue=\"NPS Category\", data=df)"
   ]
  },
  {
   "cell_type": "markdown",
   "metadata": {},
   "source": [
    "### Introducing .isin() \n",
    "We can **pass a list** of locations (e.g. San Francisco and Los Angeles) in ```isin()``` function of DataFrame which returns True for each entry in ‘Location‘ column that matches with any entry in given list."
   ]
  },
  {
   "cell_type": "code",
   "execution_count": 531,
   "metadata": {},
   "outputs": [
    {
     "data": {
      "text/html": [
       "<div>\n",
       "<style scoped>\n",
       "    .dataframe tbody tr th:only-of-type {\n",
       "        vertical-align: middle;\n",
       "    }\n",
       "\n",
       "    .dataframe tbody tr th {\n",
       "        vertical-align: top;\n",
       "    }\n",
       "\n",
       "    .dataframe thead th {\n",
       "        text-align: right;\n",
       "    }\n",
       "</style>\n",
       "<table border=\"1\" class=\"dataframe\">\n",
       "  <thead>\n",
       "    <tr style=\"text-align: right;\">\n",
       "      <th></th>\n",
       "      <th>ID</th>\n",
       "      <th>Location</th>\n",
       "      <th>Track</th>\n",
       "      <th>Week</th>\n",
       "      <th>Rating (Num)</th>\n",
       "      <th>Schedule Pacing</th>\n",
       "      <th>NPS Category</th>\n",
       "      <th>Actual Track</th>\n",
       "    </tr>\n",
       "  </thead>\n",
       "  <tbody>\n",
       "    <tr>\n",
       "      <th>0</th>\n",
       "      <td>134</td>\n",
       "      <td>San Francisco</td>\n",
       "      <td>Apps, Explorer</td>\n",
       "      <td>Week 1</td>\n",
       "      <td>3.0</td>\n",
       "      <td>Just right</td>\n",
       "      <td>Detractor</td>\n",
       "      <td>Apps</td>\n",
       "    </tr>\n",
       "    <tr>\n",
       "      <th>1</th>\n",
       "      <td>36</td>\n",
       "      <td>Los Angeles</td>\n",
       "      <td>Apps</td>\n",
       "      <td>Week 1</td>\n",
       "      <td>4.0</td>\n",
       "      <td>A little too fast</td>\n",
       "      <td>Detractor</td>\n",
       "      <td>Apps</td>\n",
       "    </tr>\n",
       "    <tr>\n",
       "      <th>2</th>\n",
       "      <td>117</td>\n",
       "      <td>San Francisco</td>\n",
       "      <td>Games</td>\n",
       "      <td>Week 1</td>\n",
       "      <td>4.0</td>\n",
       "      <td>Way too slow</td>\n",
       "      <td>Detractor</td>\n",
       "      <td>Games</td>\n",
       "    </tr>\n",
       "    <tr>\n",
       "      <th>5</th>\n",
       "      <td>23</td>\n",
       "      <td>Redwood City</td>\n",
       "      <td>Apps</td>\n",
       "      <td>Week 1</td>\n",
       "      <td>5.0</td>\n",
       "      <td>Just right</td>\n",
       "      <td>Detractor</td>\n",
       "      <td>Apps</td>\n",
       "    </tr>\n",
       "    <tr>\n",
       "      <th>6</th>\n",
       "      <td>28</td>\n",
       "      <td>Los Angeles</td>\n",
       "      <td>Apps</td>\n",
       "      <td>Week 7</td>\n",
       "      <td>5.0</td>\n",
       "      <td>Just right</td>\n",
       "      <td>Detractor</td>\n",
       "      <td>Apps</td>\n",
       "    </tr>\n",
       "    <tr>\n",
       "      <th>...</th>\n",
       "      <td>...</td>\n",
       "      <td>...</td>\n",
       "      <td>...</td>\n",
       "      <td>...</td>\n",
       "      <td>...</td>\n",
       "      <td>...</td>\n",
       "      <td>...</td>\n",
       "      <td>...</td>\n",
       "    </tr>\n",
       "    <tr>\n",
       "      <th>1398</th>\n",
       "      <td>1445</td>\n",
       "      <td>Los Angeles</td>\n",
       "      <td>Apps</td>\n",
       "      <td>Week 8</td>\n",
       "      <td>10.0</td>\n",
       "      <td>Just right</td>\n",
       "      <td>Promoter</td>\n",
       "      <td>Apps</td>\n",
       "    </tr>\n",
       "    <tr>\n",
       "      <th>1399</th>\n",
       "      <td>1446</td>\n",
       "      <td>Los Angeles</td>\n",
       "      <td>Games</td>\n",
       "      <td>Week 8</td>\n",
       "      <td>9.0</td>\n",
       "      <td>A little too slow</td>\n",
       "      <td>Promoter</td>\n",
       "      <td>Games</td>\n",
       "    </tr>\n",
       "    <tr>\n",
       "      <th>1400</th>\n",
       "      <td>1447</td>\n",
       "      <td>Los Angeles</td>\n",
       "      <td>Apps</td>\n",
       "      <td>Week 8</td>\n",
       "      <td>10.0</td>\n",
       "      <td>Just right</td>\n",
       "      <td>Promoter</td>\n",
       "      <td>Apps</td>\n",
       "    </tr>\n",
       "    <tr>\n",
       "      <th>1415</th>\n",
       "      <td>1462</td>\n",
       "      <td>Los Angeles</td>\n",
       "      <td>Apps</td>\n",
       "      <td>Week 8</td>\n",
       "      <td>10.0</td>\n",
       "      <td>A little too fast</td>\n",
       "      <td>Promoter</td>\n",
       "      <td>Apps</td>\n",
       "    </tr>\n",
       "    <tr>\n",
       "      <th>1418</th>\n",
       "      <td>1465</td>\n",
       "      <td>Los Angeles</td>\n",
       "      <td>Games</td>\n",
       "      <td>Week 8</td>\n",
       "      <td>8.0</td>\n",
       "      <td>A little too slow</td>\n",
       "      <td>Passive</td>\n",
       "      <td>Games</td>\n",
       "    </tr>\n",
       "  </tbody>\n",
       "</table>\n",
       "<p>772 rows × 8 columns</p>\n",
       "</div>"
      ],
      "text/plain": [
       "        ID       Location           Track    Week  Rating (Num)  \\\n",
       "0      134  San Francisco  Apps, Explorer  Week 1           3.0   \n",
       "1       36    Los Angeles            Apps  Week 1           4.0   \n",
       "2      117  San Francisco           Games  Week 1           4.0   \n",
       "5       23   Redwood City            Apps  Week 1           5.0   \n",
       "6       28    Los Angeles            Apps  Week 7           5.0   \n",
       "...    ...            ...             ...     ...           ...   \n",
       "1398  1445    Los Angeles            Apps  Week 8          10.0   \n",
       "1399  1446    Los Angeles           Games  Week 8           9.0   \n",
       "1400  1447    Los Angeles            Apps  Week 8          10.0   \n",
       "1415  1462    Los Angeles            Apps  Week 8          10.0   \n",
       "1418  1465    Los Angeles           Games  Week 8           8.0   \n",
       "\n",
       "        Schedule Pacing NPS Category Actual Track  \n",
       "0            Just right    Detractor         Apps  \n",
       "1     A little too fast    Detractor         Apps  \n",
       "2          Way too slow    Detractor        Games  \n",
       "5            Just right    Detractor         Apps  \n",
       "6            Just right    Detractor         Apps  \n",
       "...                 ...          ...          ...  \n",
       "1398         Just right     Promoter         Apps  \n",
       "1399  A little too slow     Promoter        Games  \n",
       "1400         Just right     Promoter         Apps  \n",
       "1415  A little too fast     Promoter         Apps  \n",
       "1418  A little too slow      Passive        Games  \n",
       "\n",
       "[772 rows x 8 columns]"
      ]
     },
     "execution_count": 531,
     "metadata": {},
     "output_type": "execute_result"
    }
   ],
   "source": [
    "df[df['Location'].isin(['San Francisco', 'Los Angeles', 'Redwood City', 'Santa Clara', 'Oakland'])]"
   ]
  },
  {
   "cell_type": "code",
   "execution_count": 527,
   "metadata": {},
   "outputs": [
    {
     "data": {
      "text/plain": [
       "<matplotlib.axes._subplots.AxesSubplot at 0x12f4213d0>"
      ]
     },
     "execution_count": 527,
     "metadata": {},
     "output_type": "execute_result"
    },
    {
     "data": {
      "image/png": "[encoded data removed]",
      "text/plain": [
       "<Figure size 432x288 with 1 Axes>"
      ]
     },
     "metadata": {
      "needs_background": "light"
     },
     "output_type": "display_data"
    }
   ],
   "source": [
    "sns.countplot(x='Location', hue=\"NPS Category\", data=df[df['Location'].isin(['San Francisco', 'Los Angeles', 'Redwood City', 'Santa Clara', 'Oakland'])])"
   ]
  },
  {
   "cell_type": "code",
   "execution_count": 534,
   "metadata": {},
   "outputs": [],
   "source": [
    "# Pie Chart for each CA Location\n",
    "# ca_location = df[df['Location'].isin(['San Francisco', 'Los Angeles', 'Redwood City', 'Santa Clara', 'Oakland'])]\n",
    "# for location in ca_location[\"Location\"].dropna().unique():\n",
    "#     graph_conditional_prob(ca_location, \"Location\", location, \"NPS Category\")"
   ]
  },
  {
   "cell_type": "code",
   "execution_count": 545,
   "metadata": {},
   "outputs": [
    {
     "data": {
      "image/png": "[encoded data removed]",
      "text/plain": [
       "<Figure size 432x288 with 1 Axes>"
      ]
     },
     "metadata": {
      "needs_background": "light"
     },
     "output_type": "display_data"
    }
   ],
   "source": [
    "out_of_state_plot = sns.countplot(x='Location', hue=\"NPS Category\", data=df[df['Location'].isin(['New York City', 'Chicago', 'Washington DC', 'Atlanta'])])\n",
    "out_of_state_plot.set()"
   ]
  },
  {
   "cell_type": "code",
   "execution_count": 544,
   "metadata": {},
   "outputs": [
    {
     "data": {
      "text/plain": [
       "San Francisco    360\n",
       "New York City    330\n",
       "Santa Clara      201\n",
       "Los Angeles      106\n",
       "Beijing           78\n",
       "Chicago           70\n",
       "Tokyo             65\n",
       "Redwood City      58\n",
       "Washington DC     47\n",
       "Oakland           47\n",
       "Atlanta           33\n",
       "Hong Kong         11\n",
       "Name: Location, dtype: int64"
      ]
     },
     "execution_count": 544,
     "metadata": {},
     "output_type": "execute_result"
    }
   ],
   "source": [
    "df['Location'].value_counts()"
   ]
  },
  {
   "cell_type": "code",
   "execution_count": 484,
   "metadata": {},
   "outputs": [],
   "source": [
    "# What kinds of questions might we be able to answer with this data?\n",
    "# What kinds of questions can’t we answer with this data?\n",
    "# What sorts of information might be actionable?"
   ]
  },
  {
   "cell_type": "code",
   "execution_count": null,
   "metadata": {},
   "outputs": [],
   "source": [
    "df = pd.DataFrame(dict(x=np.random.poisson(4, 500)))\n",
    "ax = sns.barplot(x=\"x\", y=\"x\", data=df, estimator=lambda x: len(x) / len(df) * 100)\n",
    "ax.set(ylabel=\"Percent\")"
   ]
  }
 ],
 "metadata": {
  "kernelspec": {
   "display_name": "Python 3",
   "language": "python",
   "name": "python3"
  },
  "language_info": {
   "codemirror_mode": {
    "name": "ipython",
    "version": 3
   },
   "file_extension": ".py",
   "mimetype": "text/x-python",
   "name": "python",
   "nbconvert_exporter": "python",
   "pygments_lexer": "ipython3",
   "version": "3.7.4"
  }
 },
 "nbformat": 4,
 "nbformat_minor": 2
}
